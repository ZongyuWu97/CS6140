{
 "cells": [
  {
   "cell_type": "markdown",
   "id": "d47de3b5",
   "metadata": {
    "pycharm": {
     "name": "#%% md\n"
    }
   },
   "source": [
    "## <font color = darkblue> Examples for Ball Tree and KDTree\n",
    "- This code uses House Prices data as example\n"
   ]
  },
  {
   "cell_type": "code",
   "execution_count": 39,
   "id": "54c8ceaa",
   "metadata": {
    "pycharm": {
     "name": "#%%\n"
    }
   },
   "outputs": [
    {
     "name": "stdout",
     "output_type": "stream",
     "text": [
      "/Volumes/LACIE SHARE/Courses/Roux /Machine Learning/Assignments/Assignment 3\n"
     ]
    }
   ],
   "source": [
    "# ----------------------------------------\n",
    "# Importing the necessary libraries\n",
    "# ----------------------------------------\n",
    "\n",
    "import pandas as pd\n",
    "import numpy as np\n",
    "from sklearn.model_selection import train_test_split\n",
    "import seaborn as sns\n",
    "import warnings\n",
    "from datetime import datetime\n",
    "warnings.filterwarnings('ignore') \n",
    "sns.set(rc={'figure.figsize':(11,8)})\n",
    "# pd.set_option('display.float_format', lambda x: '%.2f' % x)\n",
    "pd.options.display.float_format = '{:.2f}'.format\n",
    "\n",
    "%cd \"/Volumes/LACIE SHARE/Courses/Roux /Machine Learning/Assignments/Assignment 3\"\n",
    "\n",
    "# ----------------------------\n",
    "# Loading the dataset\n",
    "# ----------------------------\n",
    "df = pd.read_csv('HousePrice.csv')\n",
    "\n",
    "# --------------\n",
    "# Dropping NAs\n",
    "# --------------\n",
    "df = df.dropna()\n"
   ]
  },
  {
   "cell_type": "markdown",
   "id": "269c02f7",
   "metadata": {
    "pycharm": {
     "name": "#%% md\n"
    }
   },
   "source": [
    "## <font color = darkblue>  Ball tree and KD Tree"
   ]
  },
  {
   "cell_type": "code",
   "execution_count": 2,
   "outputs": [
    {
     "name": "stdout",
     "output_type": "stream",
     "text": [
      "(1000000, 100)\n",
      "Ball tree: the nearest indices to Row 2 are: [[     1 209407 378457 461797 531203]], \n",
      "And the respective distances are: [[0.         2.88711025 2.94141286 2.97841873 2.99664155]]\n",
      "\n",
      "\n",
      "\n",
      "KD Tree: the nearest indices to Row 2 are: [[     1 209407 378457 461797 531203]], \n",
      "And the respective distances are: \n",
      "      [[0.         2.88711025 2.94141286 2.97841873 2.99664155]]\n"
     ]
    },
    {
     "ename": "NameError",
     "evalue": "name 'datetime' is not defined",
     "output_type": "error",
     "traceback": [
      "\u001B[0;31m---------------------------------------------------------------------------\u001B[0m",
      "\u001B[0;31mNameError\u001B[0m                                 Traceback (most recent call last)",
      "\u001B[0;32m<ipython-input-2-eb751be5e12a>\u001B[0m in \u001B[0;36m<module>\u001B[0;34m\u001B[0m\n\u001B[1;32m     16\u001B[0m print(f'''KD Tree: the nearest indices to Row 2 are: {ind_kd}, \\nAnd the respective distances are: \n\u001B[1;32m     17\u001B[0m       {dist_kd}''')\n\u001B[0;32m---> 18\u001B[0;31m \u001B[0mprint\u001B[0m\u001B[0;34m(\u001B[0m\u001B[0;34m\"time\"\u001B[0m\u001B[0;34m,\u001B[0m \u001B[0mdatetime\u001B[0m\u001B[0;34m.\u001B[0m\u001B[0mnow\u001B[0m\u001B[0;34m(\u001B[0m\u001B[0;34m)\u001B[0m\u001B[0;34m.\u001B[0m\u001B[0mstrftime\u001B[0m\u001B[0;34m(\u001B[0m\u001B[0;34m\"%H:%M:%S\"\u001B[0m\u001B[0;34m)\u001B[0m\u001B[0;34m)\u001B[0m\u001B[0;34m\u001B[0m\u001B[0;34m\u001B[0m\u001B[0m\n\u001B[0m",
      "\u001B[0;31mNameError\u001B[0m: name 'datetime' is not defined"
     ]
    }
   ],
   "source": [
    "import numpy as np\n",
    "from sklearn.neighbors import BallTree\n",
    "from sklearn.neighbors import KDTree\n",
    "\n",
    "rng = np.random.RandomState(0)\n",
    "X = rng.random_sample((1000000, 100))  # 10 rows in 3 dimensions\n",
    "\n",
    "print(X.shape)\n",
    "ball = BallTree(X, leaf_size=2)\n",
    "dist_ball, ind_ball = ball.query(X[1:2], k=5)  \n",
    "print(f\"Ball tree: the nearest indices to Row 2 are: {ind_ball}, \\nAnd the respective distances are: {dist_ball}\")\n",
    "\n",
    "print(\"\\n\\n\")\n",
    "kd = KDTree(X, leaf_size=2)\n",
    "dist_kd, ind_kd = kd.query(X[1:2], k=5)                \n",
    "print(f'''KD Tree: the nearest indices to Row 2 are: {ind_kd}, \\nAnd the respective distances are: \n",
    "      {dist_kd}''')\n",
    "print(\"time\", datetime.now().strftime(\"%H:%M:%S\"))"
   ],
   "metadata": {
    "collapsed": false,
    "pycharm": {
     "name": "#%%\n"
    }
   }
  },
  {
   "cell_type": "code",
   "execution_count": 4,
   "outputs": [
    {
     "data": {
      "text/plain": "array([[0.67781654, 0.27000797, 0.73519402, 0.96218855, 0.24875314,\n        0.57615733, 0.59204193, 0.57225191, 0.22308163, 0.95274901,\n        0.44712538, 0.84640867, 0.69947928, 0.29743695, 0.81379782,\n        0.39650574, 0.8811032 , 0.58127287, 0.88173536, 0.69253159,\n        0.72525428, 0.50132438, 0.95608363, 0.6439902 , 0.42385505,\n        0.60639321, 0.0191932 , 0.30157482, 0.66017354, 0.29007761,\n        0.61801543, 0.4287687 , 0.13547406, 0.29828233, 0.56996491,\n        0.59087276, 0.57432525, 0.65320082, 0.65210327, 0.43141844,\n        0.8965466 , 0.36756187, 0.43586493, 0.89192336, 0.80619399,\n        0.70388858, 0.10022689, 0.91948261, 0.7142413 , 0.99884701,\n        0.1494483 , 0.86812606, 0.16249293, 0.61555956, 0.12381998,\n        0.84800823, 0.80731896, 0.56910074, 0.4071833 , 0.069167  ,\n        0.69742877, 0.45354268, 0.7220556 , 0.86638233, 0.97552151,\n        0.85580334, 0.01171408, 0.35997806, 0.72999056, 0.17162968,\n        0.52103661, 0.05433799, 0.19999652, 0.01852179, 0.7936977 ,\n        0.22392469, 0.34535168, 0.92808129, 0.7044144 , 0.03183893,\n        0.16469416, 0.6214784 , 0.57722859, 0.23789282, 0.934214  ,\n        0.61396596, 0.5356328 , 0.58990998, 0.73012203, 0.311945  ,\n        0.39822106, 0.20984375, 0.18619301, 0.94437239, 0.7395508 ,\n        0.49045881, 0.22741463, 0.25435648, 0.05802916, 0.43441663]])"
     },
     "execution_count": 4,
     "metadata": {},
     "output_type": "execute_result"
    }
   ],
   "source": [
    "X[1:2]"
   ],
   "metadata": {
    "collapsed": false,
    "pycharm": {
     "name": "#%%\n"
    }
   }
  },
  {
   "cell_type": "code",
   "execution_count": null,
   "outputs": [],
   "source": [],
   "metadata": {
    "collapsed": false,
    "pycharm": {
     "name": "#%%\n"
    }
   }
  }
 ],
 "metadata": {
  "kernelspec": {
   "display_name": "Python 3 (ipykernel)",
   "language": "python",
   "name": "python3"
  },
  "language_info": {
   "codemirror_mode": {
    "name": "ipython",
    "version": 3
   },
   "file_extension": ".py",
   "mimetype": "text/x-python",
   "name": "python",
   "nbconvert_exporter": "python",
   "pygments_lexer": "ipython3",
   "version": "3.8.5"
  }
 },
 "nbformat": 4,
 "nbformat_minor": 5
}