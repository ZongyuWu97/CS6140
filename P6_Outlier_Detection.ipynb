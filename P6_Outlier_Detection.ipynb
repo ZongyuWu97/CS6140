{
 "cells": [
  {
   "cell_type": "markdown",
   "id": "56871c59",
   "metadata": {
    "pycharm": {
     "name": "#%% md\n"
    }
   },
   "source": [
    "## <font color = darkblue> This example shows three methods for outlier detection using multile dimensions (features)\n",
    "    - It uses Nutrition data\n"
   ]
  },
  {
   "cell_type": "code",
   "execution_count": 1,
   "id": "c6bd6fdc",
   "metadata": {
    "pycharm": {
     "name": "#%%\n"
    }
   },
   "outputs": [],
   "source": [
    "# -----------------------------------\n",
    "# Importing the necessary libraries\n",
    "# -----------------------------------\n",
    "\n",
    "import pandas as pd\n",
    "import numpy as np\n",
    "import os\n",
    "from sklearn.preprocessing import StandardScaler\n",
    "\n",
    "# Libraries related to outlier detection\n",
    "from sklearn.neighbors import LocalOutlierFactor\n",
    "from sklearn.ensemble import IsolationForest\n",
    "from sklearn.covariance import EllipticEnvelope\n",
    "\n",
    "\n",
    "import seaborn as sns\n",
    "import warnings\n",
    "from datetime import datetime\n",
    "warnings.filterwarnings('ignore') \n",
    "sns.set(rc={'figure.figsize':(11,8)})\n",
    "# pd.set_option('display.float_format', lambda x: '%.2f' % x)\n",
    "pd.options.display.float_format = '{:.2f}'.format\n",
    "\n"
   ]
  },
  {
   "cell_type": "markdown",
   "id": "78940c3c",
   "metadata": {
    "pycharm": {
     "name": "#%% md\n"
    }
   },
   "source": [
    "## Importing nutrition data"
   ]
  },
  {
   "cell_type": "code",
   "execution_count": 2,
   "id": "3de26fc5",
   "metadata": {
    "pycharm": {
     "name": "#%%\n"
    }
   },
   "outputs": [
    {
     "name": "stdout",
     "output_type": "stream",
     "text": [
      "[Errno 2] No such file or directory: '/Volumes/LACIE SHARE/Courses/Roux /Machine Learning/Data'\n",
      "/Users/ZongyuWu/PycharmProjects/CS6140\n",
      "(8789, 20)\n"
     ]
    },
    {
     "data": {
      "text/plain": "   NDB_No               Shrt_Desc                   Long_Desc  \\\n0    1001        BUTTER,WITH SALT              Butter, salted   \n1    1002  BUTTER,WHIPPED,W/ SALT  Butter, whipped, with salt   \n2    1003    BUTTER OIL,ANHYDROUS       Butter oil, anhydrous   \n3    1004             CHEESE,BLUE                Cheese, blue   \n4    1005            CHEESE,BRICK               Cheese, brick   \n\n               FdGrp_Desc  Water_g  Energ_Kcal  Protein_g  Lipid_Tot_g  \\\n0  Dairy and Egg Products    15.87         717       0.85        81.11   \n1  Dairy and Egg Products    16.72         718       0.49        78.30   \n2  Dairy and Egg Products     0.24         876       0.28        99.48   \n3  Dairy and Egg Products    42.41         353      21.40        28.74   \n4  Dairy and Egg Products    41.11         371      23.24        29.68   \n\n   Carbohydrt_g  Fiber_TD_g  Sugar_Tot_g  Calcium_mg  Iron_mg  Magnesium_mg  \\\n0          0.06        0.00         0.06       24.00     0.02          2.00   \n1          2.87        0.00         0.06       23.00     0.05          1.00   \n2          0.00        0.00         0.00        4.00     0.00          0.00   \n3          2.34        0.00         0.50      528.00     0.31         23.00   \n4          2.79        0.00         0.51      674.00     0.43         24.00   \n\n   Phosphorus_mg  Potassium_mg  Sodium_mg  Zinc_mg  Copper_mg  Manganese_mg  \n0          24.00         24.00     643.00     0.09       0.00          0.00  \n1          24.00         41.00     583.00     0.05       0.01          0.00  \n2           3.00          5.00       2.00     0.01       0.00          0.00  \n3         387.00        256.00    1146.00     2.66       0.04          0.01  \n4         451.00        136.00     560.00     2.60       0.02          0.01  ",
      "text/html": "<div>\n<style scoped>\n    .dataframe tbody tr th:only-of-type {\n        vertical-align: middle;\n    }\n\n    .dataframe tbody tr th {\n        vertical-align: top;\n    }\n\n    .dataframe thead th {\n        text-align: right;\n    }\n</style>\n<table border=\"1\" class=\"dataframe\">\n  <thead>\n    <tr style=\"text-align: right;\">\n      <th></th>\n      <th>NDB_No</th>\n      <th>Shrt_Desc</th>\n      <th>Long_Desc</th>\n      <th>FdGrp_Desc</th>\n      <th>Water_g</th>\n      <th>Energ_Kcal</th>\n      <th>Protein_g</th>\n      <th>Lipid_Tot_g</th>\n      <th>Carbohydrt_g</th>\n      <th>Fiber_TD_g</th>\n      <th>Sugar_Tot_g</th>\n      <th>Calcium_mg</th>\n      <th>Iron_mg</th>\n      <th>Magnesium_mg</th>\n      <th>Phosphorus_mg</th>\n      <th>Potassium_mg</th>\n      <th>Sodium_mg</th>\n      <th>Zinc_mg</th>\n      <th>Copper_mg</th>\n      <th>Manganese_mg</th>\n    </tr>\n  </thead>\n  <tbody>\n    <tr>\n      <td>0</td>\n      <td>1001</td>\n      <td>BUTTER,WITH SALT</td>\n      <td>Butter, salted</td>\n      <td>Dairy and Egg Products</td>\n      <td>15.87</td>\n      <td>717</td>\n      <td>0.85</td>\n      <td>81.11</td>\n      <td>0.06</td>\n      <td>0.00</td>\n      <td>0.06</td>\n      <td>24.00</td>\n      <td>0.02</td>\n      <td>2.00</td>\n      <td>24.00</td>\n      <td>24.00</td>\n      <td>643.00</td>\n      <td>0.09</td>\n      <td>0.00</td>\n      <td>0.00</td>\n    </tr>\n    <tr>\n      <td>1</td>\n      <td>1002</td>\n      <td>BUTTER,WHIPPED,W/ SALT</td>\n      <td>Butter, whipped, with salt</td>\n      <td>Dairy and Egg Products</td>\n      <td>16.72</td>\n      <td>718</td>\n      <td>0.49</td>\n      <td>78.30</td>\n      <td>2.87</td>\n      <td>0.00</td>\n      <td>0.06</td>\n      <td>23.00</td>\n      <td>0.05</td>\n      <td>1.00</td>\n      <td>24.00</td>\n      <td>41.00</td>\n      <td>583.00</td>\n      <td>0.05</td>\n      <td>0.01</td>\n      <td>0.00</td>\n    </tr>\n    <tr>\n      <td>2</td>\n      <td>1003</td>\n      <td>BUTTER OIL,ANHYDROUS</td>\n      <td>Butter oil, anhydrous</td>\n      <td>Dairy and Egg Products</td>\n      <td>0.24</td>\n      <td>876</td>\n      <td>0.28</td>\n      <td>99.48</td>\n      <td>0.00</td>\n      <td>0.00</td>\n      <td>0.00</td>\n      <td>4.00</td>\n      <td>0.00</td>\n      <td>0.00</td>\n      <td>3.00</td>\n      <td>5.00</td>\n      <td>2.00</td>\n      <td>0.01</td>\n      <td>0.00</td>\n      <td>0.00</td>\n    </tr>\n    <tr>\n      <td>3</td>\n      <td>1004</td>\n      <td>CHEESE,BLUE</td>\n      <td>Cheese, blue</td>\n      <td>Dairy and Egg Products</td>\n      <td>42.41</td>\n      <td>353</td>\n      <td>21.40</td>\n      <td>28.74</td>\n      <td>2.34</td>\n      <td>0.00</td>\n      <td>0.50</td>\n      <td>528.00</td>\n      <td>0.31</td>\n      <td>23.00</td>\n      <td>387.00</td>\n      <td>256.00</td>\n      <td>1146.00</td>\n      <td>2.66</td>\n      <td>0.04</td>\n      <td>0.01</td>\n    </tr>\n    <tr>\n      <td>4</td>\n      <td>1005</td>\n      <td>CHEESE,BRICK</td>\n      <td>Cheese, brick</td>\n      <td>Dairy and Egg Products</td>\n      <td>41.11</td>\n      <td>371</td>\n      <td>23.24</td>\n      <td>29.68</td>\n      <td>2.79</td>\n      <td>0.00</td>\n      <td>0.51</td>\n      <td>674.00</td>\n      <td>0.43</td>\n      <td>24.00</td>\n      <td>451.00</td>\n      <td>136.00</td>\n      <td>560.00</td>\n      <td>2.60</td>\n      <td>0.02</td>\n      <td>0.01</td>\n    </tr>\n  </tbody>\n</table>\n</div>"
     },
     "execution_count": 2,
     "metadata": {},
     "output_type": "execute_result"
    }
   ],
   "source": [
    "%cd \"/Volumes/LACIE SHARE/Courses/Roux /Machine Learning/Data\"\n",
    "nut = pd.read_csv(\"Final_Nutrition.csv\")\n",
    "\n",
    "\n",
    "# ---------------------------------------------------------------------------------\n",
    "# Keeping first 20 features for demonstration purposes\n",
    "# ---------------------------------------------------------------------------------\n",
    "\n",
    "nut = nut.iloc[:,range(20)]\n",
    "\n",
    "print(nut.shape)\n",
    "\n",
    "nut.head()"
   ]
  },
  {
   "cell_type": "markdown",
   "id": "e2ed402c",
   "metadata": {
    "pycharm": {
     "name": "#%% md\n"
    }
   },
   "source": [
    "## Outlier detection using Local Outlier Factor (LOF) method\n",
    "- This method uses KNN"
   ]
  },
  {
   "cell_type": "code",
   "execution_count": 3,
   "id": "656c4098",
   "metadata": {
    "pycharm": {
     "name": "#%%\n"
    }
   },
   "outputs": [],
   "source": [
    "# -----------------------------------------------------------------------------\n",
    "# Step 1\n",
    "# Select a few important numerical features for outlier detection\n",
    "# Make sure to avoid using Response variable (if one already exists)\n",
    "# -----------------------------------------------------------------------------\n",
    "\n",
    "num_cols = ['Protein_g', 'Lipid_Tot_g','Carbohydrt_g','Fiber_TD_g','Sugar_Tot_g','Calcium_mg','Iron_mg','Magnesium_mg']\n",
    "\n",
    "# -----------------------------------------------------------------------------\n",
    "# Step 2\n",
    "# At this stage, either drop NAs or impute them with a value\n",
    "# I have shown filling NAs with 0, as it seems approproate in this example            \n",
    "# -----------------------------------------------------------------------------\n",
    "\n",
    "X = nut[num_cols].fillna(0).values\n",
    "\n",
    "# -----------------------------------------------------------------------------\n",
    "# Step 3a\n",
    "# fit the Local Outlier Factor model (based on KNN)\n",
    "# Notice the contamination parameter to identify a certain proportion of outliers\n",
    "# -----------------------------------------------------------------------------\n",
    "\n",
    "lof = LocalOutlierFactor(n_neighbors=20, contamination=0.05)\n",
    "# predict the labels for each data point (as Outlier or inlier)\n",
    "y_pred_lof = lof.fit_predict(X)\n",
    "\n",
    "# -----------------------------------------------------------------------------\n",
    "# Step 3b\n",
    "# fit the Isolation Forest outlier detection (based on decision trees)\n",
    "# -----------------------------------------------------------------------------\n",
    "iforest = IsolationForest(n_estimators=100,  contamination=0.05)\n",
    "# predict the labels for each data point (as Outlier or inlier)\n",
    "y_pred_if = iforest.fit_predict(X)\n",
    "\n",
    "\n",
    "# -----------------------------------------------------------------------------\n",
    "# Step 3c\n",
    "# fit the robust covariance model (based on Mahalanobis distance)\n",
    "# -----------------------------------------------------------------------------\n",
    "rob_cov = EllipticEnvelope(contamination=0.05)\n",
    "rob_cov.fit(X)\n",
    "\n",
    "# predict the labels for each data point (as Outlier or inlier)\n",
    "y_pred_rob = rob_cov.predict(X)\n",
    "\n",
    "# -----------------------------------------------------------------------------\n",
    "# Adding the newly created columns to the nutrotion table             \n",
    "# -----------------------------------------------------------------------------\n",
    "nut[\"y_pred_lof\"] = y_pred_lof\n",
    "nut[\"y_pred_if\"] = y_pred_if\n",
    "nut[\"y_pred_rob\"] = y_pred_rob\n",
    "\n",
    "# -----------------------------------------------------------------------------\n",
    "# Converting them to a binary -1, 0. \n",
    "# Where -1 denotes outlier\n",
    "# The purpose is to then add these columns and find out which rows were identified as outliers from multiple methods\n",
    "# -----------------------------------------------------------------------------\n",
    "nut[\"y_pred_lof_2\"] = np.where(nut[\"y_pred_lof\"]<0, -1, 0)\n",
    "nut[\"y_pred_if_2\"] = np.where(nut[\"y_pred_if\"]<0, -1, 0)\n",
    "nut[\"y_pred_rob_2\"] = np.where(nut[\"y_pred_rob\"]<0, -1, 0)\n",
    "\n",
    "\n"
   ]
  },
  {
   "cell_type": "markdown",
   "id": "caf66fc7",
   "metadata": {
    "pycharm": {
     "name": "#%% md\n"
    }
   },
   "source": [
    "## Summing the outlier status "
   ]
  },
  {
   "cell_type": "code",
   "execution_count": 4,
   "id": "18ea13ac",
   "metadata": {
    "pycharm": {
     "name": "#%%\n"
    }
   },
   "outputs": [
    {
     "data": {
      "text/plain": "      NDB_No                                          Shrt_Desc  \\\n32      1033                               CHEESE,PARMESAN,HARD   \n82      1090                    MILK,DRY,WHL,W/ ADDED VITAMIN D   \n83      1091    MILK,DRY,NONFAT,REG,WO/ ADDED VIT A & VITAMIN D   \n84      1092    MILK,DRY,NONFAT,INST,W/ ADDED VIT A & VITAMIN D   \n86      1094                              MILK,BUTTERMILK,DRIED   \n...      ...                                                ...   \n8707   43340                              CHEESE,PARMESAN,LO NA   \n8709   43345  BEVER,FRUIT-FLAV DRK,PDR,W/ HI VIT C W/ OTHER ADD   \n8752   43529                            BABYFOOD,RICE&APPLS,DRY   \n8763   43570  CEREALS RTE,POST,HONEY BUNCHES OF OATS,HONEY RSTD   \n8773   44055                                CELERY FLAKES,DRIED   \n\n                                              Long_Desc  \\\n32                               Cheese, parmesan, hard   \n82               Milk, dry, whole, with added vitamin D   \n83    Milk, dry, nonfat, regular, without added vita...   \n84    Milk, dry, nonfat, instant, with added vitamin...   \n86                              Milk, buttermilk, dried   \n...                                                 ...   \n8707                       Cheese, parmesan, low sodium   \n8709  Beverages, fruit-flavored drink, powder, with ...   \n8752                     Babyfood, rice and apples, dry   \n8763  Cereals ready-to-eat, POST, HONEY BUNCHES OF O...   \n8773                               Celery flakes, dried   \n\n                             FdGrp_Desc  Water_g  Energ_Kcal  Protein_g  \\\n32               Dairy and Egg Products    29.16         392      35.75   \n82               Dairy and Egg Products     2.47         496      26.32   \n83               Dairy and Egg Products     3.16         362      36.16   \n84               Dairy and Egg Products     3.96         358      35.10   \n86               Dairy and Egg Products     2.97         387      34.30   \n...                                 ...      ...         ...        ...   \n8707             Dairy and Egg Products    22.20         451      41.60   \n8709                          Beverages     1.32         227       0.25   \n8752                         Baby Foods     3.20         396       6.70   \n8763                  Breakfast Cereals     5.00         401       7.12   \n8773  Vegetables and Vegetable Products     9.00         319      11.30   \n\n      Lipid_Tot_g  Carbohydrt_g  Fiber_TD_g  ...  Zinc_mg  Copper_mg  \\\n32          25.83          3.22        0.00  ...     2.75       0.03   \n82          26.71         38.42        0.00  ...     3.34       0.08   \n83           0.77         51.98        0.00  ...     4.08       0.04   \n84           0.72         52.19        0.00  ...     4.41       0.04   \n86           5.78         49.00        0.00  ...     4.02       0.11   \n...           ...           ...         ...  ...      ...        ...   \n8707        29.99          3.70        0.00  ...     3.19       0.04   \n8709         0.16         91.00        2.20  ...     0.01       0.01   \n8752         2.40         86.89        3.00  ...     1.40       0.37   \n8763         5.46         81.19        4.20  ...     5.03       0.59   \n8773         2.10         63.70       27.80  ...     2.77       0.57   \n\n      Manganese_mg  y_pred_lof  y_pred_if  y_pred_rob  y_pred_lof_2  \\\n32            0.02           1         -1          -1             0   \n82            0.04           1         -1          -1             0   \n83            0.02           1         -1          -1             0   \n84            0.02           1         -1          -1             0   \n86            0.02           1         -1          -1             0   \n...            ...         ...        ...         ...           ...   \n8707           nan           1         -1          -1             0   \n8709          0.01           1         -1          -1             0   \n8752           nan           1         -1          -1             0   \n8763          1.28           1         -1          -1             0   \n8773           nan           1         -1          -1             0   \n\n      y_pred_if_2  y_pred_rob_2  all_out  \n32             -1            -1       -2  \n82             -1            -1       -2  \n83             -1            -1       -2  \n84             -1            -1       -2  \n86             -1            -1       -2  \n...           ...           ...      ...  \n8707           -1            -1       -2  \n8709           -1            -1       -2  \n8752           -1            -1       -2  \n8763           -1            -1       -2  \n8773           -1            -1       -2  \n\n[358 rows x 27 columns]",
      "text/html": "<div>\n<style scoped>\n    .dataframe tbody tr th:only-of-type {\n        vertical-align: middle;\n    }\n\n    .dataframe tbody tr th {\n        vertical-align: top;\n    }\n\n    .dataframe thead th {\n        text-align: right;\n    }\n</style>\n<table border=\"1\" class=\"dataframe\">\n  <thead>\n    <tr style=\"text-align: right;\">\n      <th></th>\n      <th>NDB_No</th>\n      <th>Shrt_Desc</th>\n      <th>Long_Desc</th>\n      <th>FdGrp_Desc</th>\n      <th>Water_g</th>\n      <th>Energ_Kcal</th>\n      <th>Protein_g</th>\n      <th>Lipid_Tot_g</th>\n      <th>Carbohydrt_g</th>\n      <th>Fiber_TD_g</th>\n      <th>...</th>\n      <th>Zinc_mg</th>\n      <th>Copper_mg</th>\n      <th>Manganese_mg</th>\n      <th>y_pred_lof</th>\n      <th>y_pred_if</th>\n      <th>y_pred_rob</th>\n      <th>y_pred_lof_2</th>\n      <th>y_pred_if_2</th>\n      <th>y_pred_rob_2</th>\n      <th>all_out</th>\n    </tr>\n  </thead>\n  <tbody>\n    <tr>\n      <td>32</td>\n      <td>1033</td>\n      <td>CHEESE,PARMESAN,HARD</td>\n      <td>Cheese, parmesan, hard</td>\n      <td>Dairy and Egg Products</td>\n      <td>29.16</td>\n      <td>392</td>\n      <td>35.75</td>\n      <td>25.83</td>\n      <td>3.22</td>\n      <td>0.00</td>\n      <td>...</td>\n      <td>2.75</td>\n      <td>0.03</td>\n      <td>0.02</td>\n      <td>1</td>\n      <td>-1</td>\n      <td>-1</td>\n      <td>0</td>\n      <td>-1</td>\n      <td>-1</td>\n      <td>-2</td>\n    </tr>\n    <tr>\n      <td>82</td>\n      <td>1090</td>\n      <td>MILK,DRY,WHL,W/ ADDED VITAMIN D</td>\n      <td>Milk, dry, whole, with added vitamin D</td>\n      <td>Dairy and Egg Products</td>\n      <td>2.47</td>\n      <td>496</td>\n      <td>26.32</td>\n      <td>26.71</td>\n      <td>38.42</td>\n      <td>0.00</td>\n      <td>...</td>\n      <td>3.34</td>\n      <td>0.08</td>\n      <td>0.04</td>\n      <td>1</td>\n      <td>-1</td>\n      <td>-1</td>\n      <td>0</td>\n      <td>-1</td>\n      <td>-1</td>\n      <td>-2</td>\n    </tr>\n    <tr>\n      <td>83</td>\n      <td>1091</td>\n      <td>MILK,DRY,NONFAT,REG,WO/ ADDED VIT A &amp; VITAMIN D</td>\n      <td>Milk, dry, nonfat, regular, without added vita...</td>\n      <td>Dairy and Egg Products</td>\n      <td>3.16</td>\n      <td>362</td>\n      <td>36.16</td>\n      <td>0.77</td>\n      <td>51.98</td>\n      <td>0.00</td>\n      <td>...</td>\n      <td>4.08</td>\n      <td>0.04</td>\n      <td>0.02</td>\n      <td>1</td>\n      <td>-1</td>\n      <td>-1</td>\n      <td>0</td>\n      <td>-1</td>\n      <td>-1</td>\n      <td>-2</td>\n    </tr>\n    <tr>\n      <td>84</td>\n      <td>1092</td>\n      <td>MILK,DRY,NONFAT,INST,W/ ADDED VIT A &amp; VITAMIN D</td>\n      <td>Milk, dry, nonfat, instant, with added vitamin...</td>\n      <td>Dairy and Egg Products</td>\n      <td>3.96</td>\n      <td>358</td>\n      <td>35.10</td>\n      <td>0.72</td>\n      <td>52.19</td>\n      <td>0.00</td>\n      <td>...</td>\n      <td>4.41</td>\n      <td>0.04</td>\n      <td>0.02</td>\n      <td>1</td>\n      <td>-1</td>\n      <td>-1</td>\n      <td>0</td>\n      <td>-1</td>\n      <td>-1</td>\n      <td>-2</td>\n    </tr>\n    <tr>\n      <td>86</td>\n      <td>1094</td>\n      <td>MILK,BUTTERMILK,DRIED</td>\n      <td>Milk, buttermilk, dried</td>\n      <td>Dairy and Egg Products</td>\n      <td>2.97</td>\n      <td>387</td>\n      <td>34.30</td>\n      <td>5.78</td>\n      <td>49.00</td>\n      <td>0.00</td>\n      <td>...</td>\n      <td>4.02</td>\n      <td>0.11</td>\n      <td>0.02</td>\n      <td>1</td>\n      <td>-1</td>\n      <td>-1</td>\n      <td>0</td>\n      <td>-1</td>\n      <td>-1</td>\n      <td>-2</td>\n    </tr>\n    <tr>\n      <td>...</td>\n      <td>...</td>\n      <td>...</td>\n      <td>...</td>\n      <td>...</td>\n      <td>...</td>\n      <td>...</td>\n      <td>...</td>\n      <td>...</td>\n      <td>...</td>\n      <td>...</td>\n      <td>...</td>\n      <td>...</td>\n      <td>...</td>\n      <td>...</td>\n      <td>...</td>\n      <td>...</td>\n      <td>...</td>\n      <td>...</td>\n      <td>...</td>\n      <td>...</td>\n      <td>...</td>\n    </tr>\n    <tr>\n      <td>8707</td>\n      <td>43340</td>\n      <td>CHEESE,PARMESAN,LO NA</td>\n      <td>Cheese, parmesan, low sodium</td>\n      <td>Dairy and Egg Products</td>\n      <td>22.20</td>\n      <td>451</td>\n      <td>41.60</td>\n      <td>29.99</td>\n      <td>3.70</td>\n      <td>0.00</td>\n      <td>...</td>\n      <td>3.19</td>\n      <td>0.04</td>\n      <td>nan</td>\n      <td>1</td>\n      <td>-1</td>\n      <td>-1</td>\n      <td>0</td>\n      <td>-1</td>\n      <td>-1</td>\n      <td>-2</td>\n    </tr>\n    <tr>\n      <td>8709</td>\n      <td>43345</td>\n      <td>BEVER,FRUIT-FLAV DRK,PDR,W/ HI VIT C W/ OTHER ADD</td>\n      <td>Beverages, fruit-flavored drink, powder, with ...</td>\n      <td>Beverages</td>\n      <td>1.32</td>\n      <td>227</td>\n      <td>0.25</td>\n      <td>0.16</td>\n      <td>91.00</td>\n      <td>2.20</td>\n      <td>...</td>\n      <td>0.01</td>\n      <td>0.01</td>\n      <td>0.01</td>\n      <td>1</td>\n      <td>-1</td>\n      <td>-1</td>\n      <td>0</td>\n      <td>-1</td>\n      <td>-1</td>\n      <td>-2</td>\n    </tr>\n    <tr>\n      <td>8752</td>\n      <td>43529</td>\n      <td>BABYFOOD,RICE&amp;APPLS,DRY</td>\n      <td>Babyfood, rice and apples, dry</td>\n      <td>Baby Foods</td>\n      <td>3.20</td>\n      <td>396</td>\n      <td>6.70</td>\n      <td>2.40</td>\n      <td>86.89</td>\n      <td>3.00</td>\n      <td>...</td>\n      <td>1.40</td>\n      <td>0.37</td>\n      <td>nan</td>\n      <td>1</td>\n      <td>-1</td>\n      <td>-1</td>\n      <td>0</td>\n      <td>-1</td>\n      <td>-1</td>\n      <td>-2</td>\n    </tr>\n    <tr>\n      <td>8763</td>\n      <td>43570</td>\n      <td>CEREALS RTE,POST,HONEY BUNCHES OF OATS,HONEY RSTD</td>\n      <td>Cereals ready-to-eat, POST, HONEY BUNCHES OF O...</td>\n      <td>Breakfast Cereals</td>\n      <td>5.00</td>\n      <td>401</td>\n      <td>7.12</td>\n      <td>5.46</td>\n      <td>81.19</td>\n      <td>4.20</td>\n      <td>...</td>\n      <td>5.03</td>\n      <td>0.59</td>\n      <td>1.28</td>\n      <td>1</td>\n      <td>-1</td>\n      <td>-1</td>\n      <td>0</td>\n      <td>-1</td>\n      <td>-1</td>\n      <td>-2</td>\n    </tr>\n    <tr>\n      <td>8773</td>\n      <td>44055</td>\n      <td>CELERY FLAKES,DRIED</td>\n      <td>Celery flakes, dried</td>\n      <td>Vegetables and Vegetable Products</td>\n      <td>9.00</td>\n      <td>319</td>\n      <td>11.30</td>\n      <td>2.10</td>\n      <td>63.70</td>\n      <td>27.80</td>\n      <td>...</td>\n      <td>2.77</td>\n      <td>0.57</td>\n      <td>nan</td>\n      <td>1</td>\n      <td>-1</td>\n      <td>-1</td>\n      <td>0</td>\n      <td>-1</td>\n      <td>-1</td>\n      <td>-2</td>\n    </tr>\n  </tbody>\n</table>\n<p>358 rows × 27 columns</p>\n</div>"
     },
     "execution_count": 4,
     "metadata": {},
     "output_type": "execute_result"
    }
   ],
   "source": [
    "nut.iloc[:,-3:]\n",
    "pd.crosstab(nut[\"y_pred_if\"], nut[\"y_pred_rob\"] )\n",
    "\n",
    "nut[\"all_out\"] = nut.loc[:,[\"y_pred_if_2\",\"y_pred_rob_2\",\"y_pred_lof_2\"]].sum(axis = 1)\n",
    "nut[\"all_out\"].value_counts()\n",
    "\n",
    "# -----------------------------------------------------------------------------\n",
    "# List of food items identified as outliers based by at least two methods\n",
    "# -----------------------------------------------------------------------------\n",
    "nut[nut[\"all_out\"]<-1]"
   ]
  }
 ],
 "metadata": {
  "kernelspec": {
   "display_name": "Python 3 (ipykernel)",
   "language": "python",
   "name": "python3"
  },
  "language_info": {
   "codemirror_mode": {
    "name": "ipython",
    "version": 3
   },
   "file_extension": ".py",
   "mimetype": "text/x-python",
   "name": "python",
   "nbconvert_exporter": "python",
   "pygments_lexer": "ipython3",
   "version": "3.8.5"
  }
 },
 "nbformat": 4,
 "nbformat_minor": 5
}