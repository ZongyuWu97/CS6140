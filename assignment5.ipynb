{
 "cells": [
  {
   "cell_type": "markdown",
   "source": [
    "## Import Data"
   ],
   "metadata": {
    "collapsed": false,
    "pycharm": {
     "name": "#%% md\n"
    }
   }
  },
  {
   "cell_type": "code",
   "execution_count": 277,
   "outputs": [
    {
     "name": "stdout",
     "output_type": "stream",
     "text": [
      "(11304, 41)\n",
      "Represented Test Veh Make          object\n",
      "Aftertreatment Device Desc         object\n",
      "Transmission Overdrive Desc        object\n",
      "Equivalent Test Weight (lbs.)       int64\n",
      "Represented Test Veh Model         object\n",
      "Drive System Description           object\n",
      "Test Veh Displacement (L)         float64\n",
      "Shift Indicator Light Use Desc     object\n",
      "N/V Ratio                         float64\n",
      "Rated Horsepower                    int64\n",
      "Test Veh Configuration #            int64\n",
      "# of Cylinders and Rotors         float64\n",
      "Target Coef B (lbf/mph)           float64\n",
      "Target Coef A (lbf)               float64\n",
      "Test Number                        object\n",
      "CO (g/mi)                         float64\n",
      "Test Category                      object\n",
      "Aftertreatment Device Cd           object\n",
      "THC (g/mi)                        float64\n",
      "CH4 (g/mi)                        float64\n",
      "Test Fuel Type Cd                   int64\n",
      "Model Year                          int64\n",
      "FE_UNIT                            object\n",
      "Set Coef C (lbf/mph**2)           float64\n",
      "Police - Emergency Vehicle?        object\n",
      "Axle Ratio                        float64\n",
      "Test Procedure Description         object\n",
      "Test Fuel Type Description         object\n",
      "Tested Transmission Type           object\n",
      "# of Gears                          int64\n",
      "Set Coef A (lbf)                  float64\n",
      "Test Vehicle ID                    object\n",
      "NOx (g/mi)                        float64\n",
      "RND_ADJ_FE                        float64\n",
      "CO2 (g/mi)                        float64\n",
      "Tested Transmission Type Code      object\n",
      "PM (g/mi)                         float64\n",
      "Vehicle Type                       object\n",
      "Set Coef B (lbf/mph)              float64\n",
      "N2O (g/mi)                        float64\n",
      "Target Coef C (lbf/mph**2)        float64\n",
      "dtype: object\n"
     ]
    },
    {
     "data": {
      "text/plain": "  Represented Test Veh Make Aftertreatment Device Desc  \\\n0              Aston Martin         Three-way catalyst   \n1              Aston Martin         Three-way catalyst   \n2              Aston Martin         Three-way catalyst   \n3              Aston Martin         Three-way catalyst   \n4              Aston Martin         Three-way catalyst   \n\n  Transmission Overdrive Desc  Equivalent Test Weight (lbs.)  \\\n0          Top gear ratio < 1                           4500   \n1          Top gear ratio < 1                           4500   \n2          Top gear ratio < 1                           4500   \n3          Top gear ratio < 1                           4500   \n4          Top gear ratio < 1                           5500   \n\n  Represented Test Veh Model Drive System Description  \\\n0                    DB11 V8      2-Wheel Drive, Rear   \n1                    DB11 V8      2-Wheel Drive, Rear   \n2                        DBS      2-Wheel Drive, Rear   \n3                        DBS      2-Wheel Drive, Rear   \n4                        DBX            4-Wheel Drive   \n\n   Test Veh Displacement (L) Shift Indicator Light Use Desc  N/V Ratio  \\\n0                        4.0                    Not eqipped       22.2   \n1                        4.0                    Not eqipped       22.2   \n2                        5.2                    Not eqipped       23.0   \n3                        5.2                    Not eqipped       23.0   \n4                        4.0                    Not eqipped       21.0   \n\n   Rated Horsepower  ...  Test Vehicle ID  NOx (g/mi)  RND_ADJ_FE  CO2 (g/mi)  \\\n0               503  ...        562TT5348      0.0290        22.7      386.66   \n1               503  ...        562TT5348      0.0020        33.8      259.74   \n2               715  ...       7002PT7056      0.0262        17.7      499.69   \n3               715  ...       7002PT7056      0.0070        30.6      290.25   \n4               550  ...       8001PT8342      0.0090        17.2      521.26   \n\n  Tested Transmission Type Code  PM (g/mi) Vehicle Type Set Coef B (lbf/mph)  \\\n0                            SA        NaN          Car               0.0919   \n1                            SA        NaN          Car               0.0919   \n2                            SA        NaN          Car               0.0807   \n3                            SA        NaN          Car               0.0807   \n4                             A        NaN         Both              -0.5318   \n\n   N2O (g/mi)  Target Coef C (lbf/mph**2)  \n0      0.0064                      0.0271  \n1         NaN                      0.0271  \n2      0.0000                      0.0271  \n3         NaN                      0.0271  \n4         NaN                      0.0373  \n\n[5 rows x 41 columns]",
      "text/html": "<div>\n<style scoped>\n    .dataframe tbody tr th:only-of-type {\n        vertical-align: middle;\n    }\n\n    .dataframe tbody tr th {\n        vertical-align: top;\n    }\n\n    .dataframe thead th {\n        text-align: right;\n    }\n</style>\n<table border=\"1\" class=\"dataframe\">\n  <thead>\n    <tr style=\"text-align: right;\">\n      <th></th>\n      <th>Represented Test Veh Make</th>\n      <th>Aftertreatment Device Desc</th>\n      <th>Transmission Overdrive Desc</th>\n      <th>Equivalent Test Weight (lbs.)</th>\n      <th>Represented Test Veh Model</th>\n      <th>Drive System Description</th>\n      <th>Test Veh Displacement (L)</th>\n      <th>Shift Indicator Light Use Desc</th>\n      <th>N/V Ratio</th>\n      <th>Rated Horsepower</th>\n      <th>...</th>\n      <th>Test Vehicle ID</th>\n      <th>NOx (g/mi)</th>\n      <th>RND_ADJ_FE</th>\n      <th>CO2 (g/mi)</th>\n      <th>Tested Transmission Type Code</th>\n      <th>PM (g/mi)</th>\n      <th>Vehicle Type</th>\n      <th>Set Coef B (lbf/mph)</th>\n      <th>N2O (g/mi)</th>\n      <th>Target Coef C (lbf/mph**2)</th>\n    </tr>\n  </thead>\n  <tbody>\n    <tr>\n      <td>0</td>\n      <td>Aston Martin</td>\n      <td>Three-way catalyst</td>\n      <td>Top gear ratio &lt; 1</td>\n      <td>4500</td>\n      <td>DB11 V8</td>\n      <td>2-Wheel Drive, Rear</td>\n      <td>4.0</td>\n      <td>Not eqipped</td>\n      <td>22.2</td>\n      <td>503</td>\n      <td>...</td>\n      <td>562TT5348</td>\n      <td>0.0290</td>\n      <td>22.7</td>\n      <td>386.66</td>\n      <td>SA</td>\n      <td>NaN</td>\n      <td>Car</td>\n      <td>0.0919</td>\n      <td>0.0064</td>\n      <td>0.0271</td>\n    </tr>\n    <tr>\n      <td>1</td>\n      <td>Aston Martin</td>\n      <td>Three-way catalyst</td>\n      <td>Top gear ratio &lt; 1</td>\n      <td>4500</td>\n      <td>DB11 V8</td>\n      <td>2-Wheel Drive, Rear</td>\n      <td>4.0</td>\n      <td>Not eqipped</td>\n      <td>22.2</td>\n      <td>503</td>\n      <td>...</td>\n      <td>562TT5348</td>\n      <td>0.0020</td>\n      <td>33.8</td>\n      <td>259.74</td>\n      <td>SA</td>\n      <td>NaN</td>\n      <td>Car</td>\n      <td>0.0919</td>\n      <td>NaN</td>\n      <td>0.0271</td>\n    </tr>\n    <tr>\n      <td>2</td>\n      <td>Aston Martin</td>\n      <td>Three-way catalyst</td>\n      <td>Top gear ratio &lt; 1</td>\n      <td>4500</td>\n      <td>DBS</td>\n      <td>2-Wheel Drive, Rear</td>\n      <td>5.2</td>\n      <td>Not eqipped</td>\n      <td>23.0</td>\n      <td>715</td>\n      <td>...</td>\n      <td>7002PT7056</td>\n      <td>0.0262</td>\n      <td>17.7</td>\n      <td>499.69</td>\n      <td>SA</td>\n      <td>NaN</td>\n      <td>Car</td>\n      <td>0.0807</td>\n      <td>0.0000</td>\n      <td>0.0271</td>\n    </tr>\n    <tr>\n      <td>3</td>\n      <td>Aston Martin</td>\n      <td>Three-way catalyst</td>\n      <td>Top gear ratio &lt; 1</td>\n      <td>4500</td>\n      <td>DBS</td>\n      <td>2-Wheel Drive, Rear</td>\n      <td>5.2</td>\n      <td>Not eqipped</td>\n      <td>23.0</td>\n      <td>715</td>\n      <td>...</td>\n      <td>7002PT7056</td>\n      <td>0.0070</td>\n      <td>30.6</td>\n      <td>290.25</td>\n      <td>SA</td>\n      <td>NaN</td>\n      <td>Car</td>\n      <td>0.0807</td>\n      <td>NaN</td>\n      <td>0.0271</td>\n    </tr>\n    <tr>\n      <td>4</td>\n      <td>Aston Martin</td>\n      <td>Three-way catalyst</td>\n      <td>Top gear ratio &lt; 1</td>\n      <td>5500</td>\n      <td>DBX</td>\n      <td>4-Wheel Drive</td>\n      <td>4.0</td>\n      <td>Not eqipped</td>\n      <td>21.0</td>\n      <td>550</td>\n      <td>...</td>\n      <td>8001PT8342</td>\n      <td>0.0090</td>\n      <td>17.2</td>\n      <td>521.26</td>\n      <td>A</td>\n      <td>NaN</td>\n      <td>Both</td>\n      <td>-0.5318</td>\n      <td>NaN</td>\n      <td>0.0373</td>\n    </tr>\n  </tbody>\n</table>\n<p>5 rows × 41 columns</p>\n</div>"
     },
     "execution_count": 277,
     "metadata": {},
     "output_type": "execute_result"
    }
   ],
   "source": [
    "import warnings\n",
    "import pandas as pd\n",
    "\n",
    "warnings.filterwarnings('ignore')\n",
    "\n",
    "df = pd.read_csv('cars_10_16_23.csv', index_col=0)\n",
    "\n",
    "print(df.shape)\n",
    "print(df.dtypes)\n",
    "df.head()"
   ],
   "metadata": {
    "collapsed": false,
    "pycharm": {
     "name": "#%%\n"
    }
   }
  },
  {
   "cell_type": "markdown",
   "source": [
    "## EDA"
   ],
   "metadata": {
    "collapsed": false,
    "pycharm": {
     "name": "#%% md\n"
    }
   }
  },
  {
   "cell_type": "code",
   "execution_count": 278,
   "outputs": [
    {
     "data": {
      "text/plain": "<Figure size 1800x720 with 2 Axes>",
      "image/png": "[encoded data removed]"
     },
     "metadata": {
      "needs_background": "light"
     },
     "output_type": "display_data"
    }
   ],
   "source": [
    "import missingno as msno\n",
    "\n",
    "# Show the missing values.\n",
    "msno.matrix(df);"
   ],
   "metadata": {
    "collapsed": false,
    "pycharm": {
     "name": "#%%\n"
    }
   }
  },
  {
   "cell_type": "code",
   "execution_count": 279,
   "outputs": [
    {
     "data": {
      "text/plain": "<Figure size 1800x720 with 2 Axes>",
      "image/png": "[encoded data removed]"
     },
     "metadata": {
      "needs_background": "light"
     },
     "output_type": "display_data"
    }
   ],
   "source": [
    "# Drop features which are less meaningful.\n",
    "\n",
    "df_meaningful = df.drop(['Represented Test Veh Make', 'Represented Test Veh Model', 'Test Veh Configuration #', 'Test Number', 'Test Category', 'Aftertreatment Device Cd', 'Model Year', 'FE_UNIT', 'Police - Emergency Vehicle?', 'Test Procedure Description', 'Test Fuel Type Description', 'Test Vehicle ID', 'Test Fuel Type Cd'], axis=1)\n",
    "\n",
    "# Show missing values after dropping above features.\n",
    "msno.matrix(df_meaningful);"
   ],
   "metadata": {
    "collapsed": false,
    "pycharm": {
     "name": "#%%\n"
    }
   }
  },
  {
   "cell_type": "code",
   "execution_count": 280,
   "outputs": [
    {
     "name": "stdout",
     "output_type": "stream",
     "text": [
      "(9153, 25)\n",
      "Aftertreatment Device Desc         object\n",
      "Transmission Overdrive Desc        object\n",
      "Equivalent Test Weight (lbs.)       int64\n",
      "Drive System Description           object\n",
      "Test Veh Displacement (L)         float64\n",
      "Shift Indicator Light Use Desc     object\n",
      "N/V Ratio                         float64\n",
      "Rated Horsepower                    int64\n",
      "# of Cylinders and Rotors         float64\n",
      "Target Coef B (lbf/mph)           float64\n",
      "Target Coef A (lbf)               float64\n",
      "CO (g/mi)                         float64\n",
      "THC (g/mi)                        float64\n",
      "Set Coef C (lbf/mph**2)           float64\n",
      "Axle Ratio                        float64\n",
      "Tested Transmission Type           object\n",
      "# of Gears                          int64\n",
      "Set Coef A (lbf)                  float64\n",
      "NOx (g/mi)                        float64\n",
      "RND_ADJ_FE                        float64\n",
      "CO2 (g/mi)                        float64\n",
      "Tested Transmission Type Code      object\n",
      "Vehicle Type                       object\n",
      "Set Coef B (lbf/mph)              float64\n",
      "Target Coef C (lbf/mph**2)        float64\n",
      "dtype: object\n"
     ]
    },
    {
     "data": {
      "text/plain": "  Aftertreatment Device Desc Transmission Overdrive Desc  \\\n0         Three-way catalyst          Top gear ratio < 1   \n1         Three-way catalyst          Top gear ratio < 1   \n2         Three-way catalyst          Top gear ratio < 1   \n3         Three-way catalyst          Top gear ratio < 1   \n4         Three-way catalyst          Top gear ratio < 1   \n\n   Equivalent Test Weight (lbs.) Drive System Description  \\\n0                           4500      2-Wheel Drive, Rear   \n1                           4500      2-Wheel Drive, Rear   \n2                           4500      2-Wheel Drive, Rear   \n3                           4500      2-Wheel Drive, Rear   \n4                           5500            4-Wheel Drive   \n\n   Test Veh Displacement (L) Shift Indicator Light Use Desc  N/V Ratio  \\\n0                        4.0                    Not eqipped       22.2   \n1                        4.0                    Not eqipped       22.2   \n2                        5.2                    Not eqipped       23.0   \n3                        5.2                    Not eqipped       23.0   \n4                        4.0                    Not eqipped       21.0   \n\n   Rated Horsepower  # of Cylinders and Rotors  Target Coef B (lbf/mph)  ...  \\\n0               503                        8.0                   0.0169  ...   \n1               503                        8.0                   0.0169  ...   \n2               715                       12.0                   0.0169  ...   \n3               715                       12.0                   0.0169  ...   \n4               550                        8.0                  -0.3286  ...   \n\n   Tested Transmission Type  # of Gears  Set Coef A (lbf)  NOx (g/mi)  \\\n0            Semi-Automatic           8             11.26      0.0290   \n1            Semi-Automatic           8             11.26      0.0020   \n2            Semi-Automatic           8              6.81      0.0262   \n3            Semi-Automatic           8              6.81      0.0070   \n4                 Automatic           9             -4.88      0.0090   \n\n   RND_ADJ_FE CO2 (g/mi)  Tested Transmission Type Code  Vehicle Type  \\\n0        22.7     386.66                             SA           Car   \n1        33.8     259.74                             SA           Car   \n2        17.7     499.69                             SA           Car   \n3        30.6     290.25                             SA           Car   \n4        17.2     521.26                              A          Both   \n\n   Set Coef B (lbf/mph)  Target Coef C (lbf/mph**2)  \n0                0.0919                      0.0271  \n1                0.0919                      0.0271  \n2                0.0807                      0.0271  \n3                0.0807                      0.0271  \n4               -0.5318                      0.0373  \n\n[5 rows x 25 columns]",
      "text/html": "<div>\n<style scoped>\n    .dataframe tbody tr th:only-of-type {\n        vertical-align: middle;\n    }\n\n    .dataframe tbody tr th {\n        vertical-align: top;\n    }\n\n    .dataframe thead th {\n        text-align: right;\n    }\n</style>\n<table border=\"1\" class=\"dataframe\">\n  <thead>\n    <tr style=\"text-align: right;\">\n      <th></th>\n      <th>Aftertreatment Device Desc</th>\n      <th>Transmission Overdrive Desc</th>\n      <th>Equivalent Test Weight (lbs.)</th>\n      <th>Drive System Description</th>\n      <th>Test Veh Displacement (L)</th>\n      <th>Shift Indicator Light Use Desc</th>\n      <th>N/V Ratio</th>\n      <th>Rated Horsepower</th>\n      <th># of Cylinders and Rotors</th>\n      <th>Target Coef B (lbf/mph)</th>\n      <th>...</th>\n      <th>Tested Transmission Type</th>\n      <th># of Gears</th>\n      <th>Set Coef A (lbf)</th>\n      <th>NOx (g/mi)</th>\n      <th>RND_ADJ_FE</th>\n      <th>CO2 (g/mi)</th>\n      <th>Tested Transmission Type Code</th>\n      <th>Vehicle Type</th>\n      <th>Set Coef B (lbf/mph)</th>\n      <th>Target Coef C (lbf/mph**2)</th>\n    </tr>\n  </thead>\n  <tbody>\n    <tr>\n      <td>0</td>\n      <td>Three-way catalyst</td>\n      <td>Top gear ratio &lt; 1</td>\n      <td>4500</td>\n      <td>2-Wheel Drive, Rear</td>\n      <td>4.0</td>\n      <td>Not eqipped</td>\n      <td>22.2</td>\n      <td>503</td>\n      <td>8.0</td>\n      <td>0.0169</td>\n      <td>...</td>\n      <td>Semi-Automatic</td>\n      <td>8</td>\n      <td>11.26</td>\n      <td>0.0290</td>\n      <td>22.7</td>\n      <td>386.66</td>\n      <td>SA</td>\n      <td>Car</td>\n      <td>0.0919</td>\n      <td>0.0271</td>\n    </tr>\n    <tr>\n      <td>1</td>\n      <td>Three-way catalyst</td>\n      <td>Top gear ratio &lt; 1</td>\n      <td>4500</td>\n      <td>2-Wheel Drive, Rear</td>\n      <td>4.0</td>\n      <td>Not eqipped</td>\n      <td>22.2</td>\n      <td>503</td>\n      <td>8.0</td>\n      <td>0.0169</td>\n      <td>...</td>\n      <td>Semi-Automatic</td>\n      <td>8</td>\n      <td>11.26</td>\n      <td>0.0020</td>\n      <td>33.8</td>\n      <td>259.74</td>\n      <td>SA</td>\n      <td>Car</td>\n      <td>0.0919</td>\n      <td>0.0271</td>\n    </tr>\n    <tr>\n      <td>2</td>\n      <td>Three-way catalyst</td>\n      <td>Top gear ratio &lt; 1</td>\n      <td>4500</td>\n      <td>2-Wheel Drive, Rear</td>\n      <td>5.2</td>\n      <td>Not eqipped</td>\n      <td>23.0</td>\n      <td>715</td>\n      <td>12.0</td>\n      <td>0.0169</td>\n      <td>...</td>\n      <td>Semi-Automatic</td>\n      <td>8</td>\n      <td>6.81</td>\n      <td>0.0262</td>\n      <td>17.7</td>\n      <td>499.69</td>\n      <td>SA</td>\n      <td>Car</td>\n      <td>0.0807</td>\n      <td>0.0271</td>\n    </tr>\n    <tr>\n      <td>3</td>\n      <td>Three-way catalyst</td>\n      <td>Top gear ratio &lt; 1</td>\n      <td>4500</td>\n      <td>2-Wheel Drive, Rear</td>\n      <td>5.2</td>\n      <td>Not eqipped</td>\n      <td>23.0</td>\n      <td>715</td>\n      <td>12.0</td>\n      <td>0.0169</td>\n      <td>...</td>\n      <td>Semi-Automatic</td>\n      <td>8</td>\n      <td>6.81</td>\n      <td>0.0070</td>\n      <td>30.6</td>\n      <td>290.25</td>\n      <td>SA</td>\n      <td>Car</td>\n      <td>0.0807</td>\n      <td>0.0271</td>\n    </tr>\n    <tr>\n      <td>4</td>\n      <td>Three-way catalyst</td>\n      <td>Top gear ratio &lt; 1</td>\n      <td>5500</td>\n      <td>4-Wheel Drive</td>\n      <td>4.0</td>\n      <td>Not eqipped</td>\n      <td>21.0</td>\n      <td>550</td>\n      <td>8.0</td>\n      <td>-0.3286</td>\n      <td>...</td>\n      <td>Automatic</td>\n      <td>9</td>\n      <td>-4.88</td>\n      <td>0.0090</td>\n      <td>17.2</td>\n      <td>521.26</td>\n      <td>A</td>\n      <td>Both</td>\n      <td>-0.5318</td>\n      <td>0.0373</td>\n    </tr>\n  </tbody>\n</table>\n<p>5 rows × 25 columns</p>\n</div>"
     },
     "execution_count": 280,
     "metadata": {},
     "output_type": "execute_result"
    }
   ],
   "source": [
    "# Drop features with too many missing values and then drop NA.\n",
    "df_dna = df_meaningful.drop(['CH4 (g/mi)', 'PM (g/mi)', 'N2O (g/mi)'], axis=1)\n",
    "df_dna.dropna(inplace=True)\n",
    "\n",
    "# Show number of rows and columns\n",
    "print(df_dna.shape)\n",
    "print(df_dna.dtypes)\n",
    "df_dna.head()"
   ],
   "metadata": {
    "collapsed": false,
    "pycharm": {
     "name": "#%%\n"
    }
   }
  },
  {
   "cell_type": "code",
   "execution_count": 281,
   "outputs": [
    {
     "name": "stdout",
     "output_type": "stream",
     "text": [
      " 0    8194\n",
      "-1     608\n",
      "-2     287\n",
      "-3      64\n",
      "Name: all_out, dtype: int64\n",
      "(8802, 25)\n",
      "Aftertreatment Device Desc         object\n",
      "Transmission Overdrive Desc        object\n",
      "Equivalent Test Weight (lbs.)       int64\n",
      "Drive System Description           object\n",
      "Test Veh Displacement (L)         float64\n",
      "Shift Indicator Light Use Desc     object\n",
      "N/V Ratio                         float64\n",
      "Rated Horsepower                    int64\n",
      "# of Cylinders and Rotors         float64\n",
      "Target Coef B (lbf/mph)           float64\n",
      "Target Coef A (lbf)               float64\n",
      "CO (g/mi)                         float64\n",
      "THC (g/mi)                        float64\n",
      "Set Coef C (lbf/mph**2)           float64\n",
      "Axle Ratio                        float64\n",
      "Tested Transmission Type           object\n",
      "# of Gears                          int64\n",
      "Set Coef A (lbf)                  float64\n",
      "NOx (g/mi)                        float64\n",
      "RND_ADJ_FE                        float64\n",
      "CO2 (g/mi)                        float64\n",
      "Tested Transmission Type Code      object\n",
      "Vehicle Type                       object\n",
      "Set Coef B (lbf/mph)              float64\n",
      "Target Coef C (lbf/mph**2)        float64\n",
      "dtype: object\n"
     ]
    }
   ],
   "source": [
    "# Drop outliers by features in assignment 4.\n",
    "\n",
    "import numpy as np\n",
    "from sklearn.neighbors import LocalOutlierFactor\n",
    "from sklearn.ensemble import IsolationForest\n",
    "from sklearn.covariance import EllipticEnvelope\n",
    "\n",
    "df_ass4 = df_dna[['Rated Horsepower', 'Equivalent Test Weight (lbs.)', 'RND_ADJ_FE', 'CO2 (g/mi)']]\n",
    "\n",
    "# Identify outliers using LocalOutlierFactor.\n",
    "lof = LocalOutlierFactor(n_neighbors=20, contamination=0.05)\n",
    "y_pred_lof = lof.fit_predict(df_ass4)\n",
    "\n",
    "# Identify outliers using IsolationForest.\n",
    "iforest = IsolationForest(n_estimators=100,  contamination=0.05)\n",
    "y_pred_if = iforest.fit_predict(df_ass4)\n",
    "\n",
    "# Identify outliers using EllipticEnvelope.\n",
    "rob_cov = EllipticEnvelope(contamination=0.05)\n",
    "y_pred_rob = rob_cov.fit_predict(df_ass4)\n",
    "\n",
    "df_ass4[\"y_pred_lof\"] = y_pred_lof\n",
    "df_ass4[\"y_pred_if\"] = y_pred_if\n",
    "df_ass4[\"y_pred_rob\"] = y_pred_rob\n",
    "\n",
    "# -----------------------------------------------------------------------------\n",
    "# Converting them to a binary -1, 0.\n",
    "# Where -1 denotes outlier\n",
    "# The purpose is to then add these columns and find out which rows were identified as outliers from multiple methods\n",
    "# -----------------------------------------------------------------------------\n",
    "df_ass4[\"y_pred_lof_2\"] = np.where(df_ass4[\"y_pred_lof\"]<0, -1, 0)\n",
    "df_ass4[\"y_pred_if_2\"] = np.where(df_ass4[\"y_pred_if\"]<0, -1, 0)\n",
    "df_ass4[\"y_pred_rob_2\"] = np.where(df_ass4[\"y_pred_rob\"]<0, -1, 0)\n",
    "\n",
    "# -----------------------------------------------------------------------------\n",
    "# List of food items identified as outliers based by at least two methods\n",
    "# -----------------------------------------------------------------------------\n",
    "df_ass4[\"all_out\"] = df_ass4.loc[:,[\"y_pred_if_2\",\"y_pred_rob_2\",\"y_pred_lof_2\"]].sum(axis = 1)\n",
    "print(df_ass4[\"all_out\"].value_counts())\n",
    "\n",
    "# Dop outliers.\n",
    "df_dol = df_dna[df_ass4['all_out'] >= -1]\n",
    "\n",
    "# Show number of rows and columns after dropping outliers\n",
    "print(df_dol.shape)\n",
    "print(df_dol.dtypes)"
   ],
   "metadata": {
    "collapsed": false,
    "pycharm": {
     "name": "#%%\n"
    }
   }
  },
  {
   "cell_type": "markdown",
   "source": [
    "## Before Training"
   ],
   "metadata": {
    "collapsed": false,
    "pycharm": {
     "name": "#%% md\n"
    }
   }
  },
  {
   "cell_type": "code",
   "execution_count": 282,
   "outputs": [
    {
     "data": {
      "text/plain": "(8800, 25)"
     },
     "execution_count": 282,
     "metadata": {},
     "output_type": "execute_result"
    }
   ],
   "source": [
    "# Remove all vehicles with mpg > 120\n",
    "df_dmpl = df_dol.drop(df_dol['RND_ADJ_FE'] > 120)\n",
    "\n",
    "df_dmpl.shape"
   ],
   "metadata": {
    "collapsed": false,
    "pycharm": {
     "name": "#%%\n"
    }
   }
  },
  {
   "cell_type": "code",
   "execution_count": 283,
   "outputs": [
    {
     "data": {
      "text/plain": "(8800, 23)"
     },
     "execution_count": 283,
     "metadata": {},
     "output_type": "execute_result"
    }
   ],
   "source": [
    "# Identify features and responses.\n",
    "# In both y_CO2 and y_CO, 0 means Other and 1 means High.\n",
    "X = df_dmpl.drop(['CO2 (g/mi)', 'CO (g/mi)'], axis=1)\n",
    "y_CO2 = np.where(df_dmpl['CO2 (g/mi)'] > 600, 1, 0)\n",
    "y_CO = np.where(df_dmpl['CO (g/mi)'] > 1, 1, 0)\n",
    "X.shape"
   ],
   "metadata": {
    "collapsed": false,
    "pycharm": {
     "name": "#%%\n"
    }
   }
  },
  {
   "cell_type": "code",
   "execution_count": 284,
   "outputs": [
    {
     "name": "stdout",
     "output_type": "stream",
     "text": [
      "(8800, 15) (8800, 38) (8800, 53)\n"
     ]
    }
   ],
   "source": [
    "# Encode categorical features.\n",
    "from sklearn.preprocessing import OneHotEncoder\n",
    "from sklearn.preprocessing import StandardScaler\n",
    "\n",
    "ohe = OneHotEncoder(sparse=False)\n",
    "X_num = df_dmpl.select_dtypes(include=[np.float])\n",
    "X_num.reset_index(inplace=True, drop=True)\n",
    "scaler = StandardScaler()\n",
    "X_num = pd.DataFrame(scaler.fit_transform(X_num))\n",
    "\n",
    "X_cat = df_dmpl.select_dtypes(include=[np.object])\n",
    "X_cat.reset_index(inplace=True, drop=True)\n",
    "\n",
    "X_cat = pd.DataFrame(ohe.fit_transform(X_cat))\n",
    "X_final = pd.concat([X_num, X_cat], axis=1)\n",
    "X_final.reset_index(inplace=True, drop=True)\n",
    "X_final.set_axis(list(range(X_final.shape[1])), inplace=True, axis=1)\n",
    "print(X_num.shape, X_cat.shape, X_final.shape)"
   ],
   "metadata": {
    "collapsed": false,
    "pycharm": {
     "name": "#%%\n"
    }
   }
  },
  {
   "cell_type": "markdown",
   "source": [
    "## Train model with CO2"
   ],
   "metadata": {
    "collapsed": false,
    "pycharm": {
     "name": "#%% md\n"
    }
   }
  },
  {
   "cell_type": "code",
   "execution_count": 285,
   "outputs": [],
   "source": [
    "# Train test split\n",
    "from sklearn.model_selection import train_test_split\n",
    "\n",
    "X_train, X_test, y_train, y_test = train_test_split(X_final, y_CO2, test_size = 0.2, random_state=42)"
   ],
   "metadata": {
    "collapsed": false,
    "pycharm": {
     "name": "#%%\n"
    }
   }
  },
  {
   "cell_type": "markdown",
   "source": [
    "## <font color = green> Decision tree"
   ],
   "metadata": {
    "collapsed": false,
    "pycharm": {
     "name": "#%% md\n"
    }
   }
  },
  {
   "cell_type": "code",
   "execution_count": 286,
   "outputs": [
    {
     "name": "stdout",
     "output_type": "stream",
     "text": [
      "              precision    recall  f1-score   support\n",
      "\n",
      "           0       1.00      1.00      1.00      1757\n",
      "           1       1.00      1.00      1.00         3\n",
      "\n",
      "    accuracy                           1.00      1760\n",
      "   macro avg       1.00      1.00      1.00      1760\n",
      "weighted avg       1.00      1.00      1.00      1760\n",
      "\n"
     ]
    },
    {
     "data": {
      "text/plain": "y_test        0  1\ny_pred_dt         \n0          1757  0\n1             0  3",
      "text/html": "<div>\n<style scoped>\n    .dataframe tbody tr th:only-of-type {\n        vertical-align: middle;\n    }\n\n    .dataframe tbody tr th {\n        vertical-align: top;\n    }\n\n    .dataframe thead th {\n        text-align: right;\n    }\n</style>\n<table border=\"1\" class=\"dataframe\">\n  <thead>\n    <tr style=\"text-align: right;\">\n      <th>y_test</th>\n      <th>0</th>\n      <th>1</th>\n    </tr>\n    <tr>\n      <th>y_pred_dt</th>\n      <th></th>\n      <th></th>\n    </tr>\n  </thead>\n  <tbody>\n    <tr>\n      <td>0</td>\n      <td>1757</td>\n      <td>0</td>\n    </tr>\n    <tr>\n      <td>1</td>\n      <td>0</td>\n      <td>3</td>\n    </tr>\n  </tbody>\n</table>\n</div>"
     },
     "execution_count": 286,
     "metadata": {},
     "output_type": "execute_result"
    }
   ],
   "source": [
    "from sklearn.tree import DecisionTreeClassifier\n",
    "from sklearn.metrics import classification_report\n",
    "from sklearn.metrics import confusion_matrix\n",
    "from sklearn.utils import class_weight\n",
    "\n",
    "# ---------------------------------------------------------------\n",
    "# Train a decision tree classifier on the balanced dataset\n",
    "# ---------------------------------------------------------------\n",
    "\n",
    "clf = DecisionTreeClassifier(criterion='gini',\n",
    "                             min_samples_split=5,\n",
    "                             min_samples_leaf=5)\n",
    "clf.fit(X_train, y_train)\n",
    "\n",
    "# --------------------------------------------\n",
    "# Evaluate the classifier on the testing set\n",
    "# --------------------------------------------\n",
    "y_pred_dt = clf.predict(X_test)\n",
    "print(classification_report(y_test, y_pred_dt))\n",
    "\n",
    "# confusion_matrix(y_test, y_pred_dt)\n",
    "\n",
    "# Confusion Matrix\n",
    "pd.crosstab(y_pred_dt, y_test, rownames =['y_pred_dt'], colnames = ['y_test'] )\n",
    "\n",
    "\n",
    "# -------------------------------------------------------\n",
    "# Notes for reading the classification report\n",
    "# -------------------------------------------------------\n",
    "\n",
    "# --------------\n",
    "# Precision:\n",
    "# --------------\n",
    "# Measures the proportion of true positives (TP) out of all predicted positives (TP + false positives (FP)).\n",
    "# A high precision means the model makes few false positive predictions.\n",
    "\n",
    "# --------------\n",
    "# Recall:\n",
    "# --------------\n",
    "# Measures the proportion of true positives (TP) out of all actual positives (TP + false negatives (FN)). \\\n",
    "# A high recall indicates that the model makes few false negative predictions.\n",
    "\n",
    "# --------------\n",
    "# F1-score:\n",
    "# --------------\n",
    "# It is the harmonic mean of precision and recall, calculated as (2 * precision * recall) / (precision + recall).\n",
    "# It is useful especially when the classes are imbalanced\n",
    "\n",
    "# --------------\n",
    "# Support:\n",
    "# --------------\n",
    "# It is the number of observations in each class.\n",
    "\n",
    "# --------------\n",
    "# Weighted Average:\n",
    "# --------------\n",
    "# It is calculated as the average of the precision, recall etc. weighted by the number of samples in each class.\n"
   ],
   "metadata": {
    "collapsed": false,
    "pycharm": {
     "name": "#%%\n"
    }
   }
  },
  {
   "cell_type": "markdown",
   "source": [
    "## <font color = green> Random Forest"
   ],
   "metadata": {
    "collapsed": false,
    "pycharm": {
     "name": "#%% md\n"
    }
   }
  },
  {
   "cell_type": "code",
   "execution_count": 287,
   "outputs": [
    {
     "name": "stdout",
     "output_type": "stream",
     "text": [
      "Random Forest Accuracy: 0.9988636363636364\n",
      "Random Forest Precision: 1.0\n",
      "Random Forest Recall: 0.3333333333333333\n",
      "Random Forest F1 Score: 0.5\n",
      "              precision    recall  f1-score   support\n",
      "\n",
      "           0       1.00      1.00      1.00      1757\n",
      "           1       1.00      0.33      0.50         3\n",
      "\n",
      "    accuracy                           1.00      1760\n",
      "   macro avg       1.00      0.67      0.75      1760\n",
      "weighted avg       1.00      1.00      1.00      1760\n",
      "\n"
     ]
    },
    {
     "data": {
      "text/plain": "y_test        0  1\ny_pred_rf         \n0          1757  2\n1             0  1",
      "text/html": "<div>\n<style scoped>\n    .dataframe tbody tr th:only-of-type {\n        vertical-align: middle;\n    }\n\n    .dataframe tbody tr th {\n        vertical-align: top;\n    }\n\n    .dataframe thead th {\n        text-align: right;\n    }\n</style>\n<table border=\"1\" class=\"dataframe\">\n  <thead>\n    <tr style=\"text-align: right;\">\n      <th>y_test</th>\n      <th>0</th>\n      <th>1</th>\n    </tr>\n    <tr>\n      <th>y_pred_rf</th>\n      <th></th>\n      <th></th>\n    </tr>\n  </thead>\n  <tbody>\n    <tr>\n      <td>0</td>\n      <td>1757</td>\n      <td>2</td>\n    </tr>\n    <tr>\n      <td>1</td>\n      <td>0</td>\n      <td>1</td>\n    </tr>\n  </tbody>\n</table>\n</div>"
     },
     "execution_count": 287,
     "metadata": {},
     "output_type": "execute_result"
    }
   ],
   "source": [
    "from sklearn.ensemble import RandomForestClassifier\n",
    "from sklearn.metrics import accuracy_score, precision_score, recall_score, f1_score\n",
    "\n",
    "# ------------------\n",
    "# Define the RF model\n",
    "# ------------------\n",
    "rf = RandomForestClassifier(n_estimators=1000,\n",
    "                            criterion='entropy',\n",
    "                            min_samples_split=5,\n",
    "                            min_samples_leaf=5,\n",
    "                            random_state=100)\n",
    "\n",
    "# ------------------\n",
    "# Train the models\n",
    "# ------------------\n",
    "rf.fit(X_train, y_train)\n",
    "\n",
    "# ------------------------------------\n",
    "# Make predictions on the test set\n",
    "# ------------------------------------\n",
    "y_pred_rf = rf.predict(X_test)\n",
    "\n",
    "# ------------------------------------------------------------------------\n",
    "# Evaluate the model using accuracy, precision, recall, and F1 score\n",
    "# ------------------------------------------------------------------------\n",
    "print('Random Forest Accuracy:', accuracy_score(y_test, y_pred_rf))\n",
    "print('Random Forest Precision:', precision_score(y_test, y_pred_rf))\n",
    "print('Random Forest Recall:', recall_score(y_test, y_pred_rf))\n",
    "print('Random Forest F1 Score:', f1_score(y_test, y_pred_rf))\n",
    "\n",
    "print(classification_report(y_test, y_pred_rf))\n",
    "\n",
    "# Confusion Matrix\n",
    "pd.crosstab(y_pred_rf, y_test, rownames =['y_pred_rf'], colnames = ['y_test'] )"
   ],
   "metadata": {
    "collapsed": false,
    "pycharm": {
     "name": "#%%\n"
    }
   }
  },
  {
   "cell_type": "markdown",
   "source": [
    "## <font color = darkgreen> Gradient Boosting Classifier"
   ],
   "metadata": {
    "collapsed": false,
    "pycharm": {
     "name": "#%% md\n"
    }
   }
  },
  {
   "cell_type": "code",
   "execution_count": 288,
   "outputs": [
    {
     "name": "stdout",
     "output_type": "stream",
     "text": [
      "Gradient Boosting Accuracy: 1.0\n",
      "Gradient Boosting Precision: 1.0\n",
      "Gradient Boosting Recall: 1.0\n",
      "Gradient Boosting F1 Score: 1.0\n",
      "              precision    recall  f1-score   support\n",
      "\n",
      "           0       1.00      1.00      1.00      1757\n",
      "           1       1.00      1.00      1.00         3\n",
      "\n",
      "    accuracy                           1.00      1760\n",
      "   macro avg       1.00      1.00      1.00      1760\n",
      "weighted avg       1.00      1.00      1.00      1760\n",
      "\n"
     ]
    },
    {
     "data": {
      "text/plain": "y_test        0  1\ny_pred_gb         \n0          1757  0\n1             0  3",
      "text/html": "<div>\n<style scoped>\n    .dataframe tbody tr th:only-of-type {\n        vertical-align: middle;\n    }\n\n    .dataframe tbody tr th {\n        vertical-align: top;\n    }\n\n    .dataframe thead th {\n        text-align: right;\n    }\n</style>\n<table border=\"1\" class=\"dataframe\">\n  <thead>\n    <tr style=\"text-align: right;\">\n      <th>y_test</th>\n      <th>0</th>\n      <th>1</th>\n    </tr>\n    <tr>\n      <th>y_pred_gb</th>\n      <th></th>\n      <th></th>\n    </tr>\n  </thead>\n  <tbody>\n    <tr>\n      <td>0</td>\n      <td>1757</td>\n      <td>0</td>\n    </tr>\n    <tr>\n      <td>1</td>\n      <td>0</td>\n      <td>3</td>\n    </tr>\n  </tbody>\n</table>\n</div>"
     },
     "execution_count": 288,
     "metadata": {},
     "output_type": "execute_result"
    }
   ],
   "source": [
    "from sklearn.ensemble import GradientBoostingClassifier\n",
    "\n",
    "# ------------------\n",
    "# Define the GB model\n",
    "# ------------------\n",
    "gb = GradientBoostingClassifier(n_estimators=500,\n",
    "                            min_samples_split=5,\n",
    "                            learning_rate=0.5,\n",
    "                            min_samples_leaf=5,\n",
    "                            random_state=100)\n",
    "\n",
    "# ------------------\n",
    "# Train the model\n",
    "# ------------------\n",
    "gb.fit(X_train, y_train)\n",
    "\n",
    "# ------------------------------------\n",
    "# Make predictions on the test set\n",
    "# ------------------------------------\n",
    "y_pred_gb = gb.predict(X_test)\n",
    "\n",
    "# ------------------------------------------------------------------------\n",
    "# Evaluate the model using accuracy, precision, recall, and F1 score\n",
    "# ------------------------------------------------------------------------\n",
    "\n",
    "print('Gradient Boosting Accuracy:', accuracy_score(y_test, y_pred_gb))\n",
    "print('Gradient Boosting Precision:', precision_score(y_test, y_pred_gb))\n",
    "print('Gradient Boosting Recall:', recall_score(y_test, y_pred_gb))\n",
    "print('Gradient Boosting F1 Score:', f1_score(y_test, y_pred_gb))\n",
    "\n",
    "print(classification_report(y_test, y_pred_gb))\n",
    "# Confusion Matrix\n",
    "pd.crosstab(y_pred_gb, y_test, rownames =['y_pred_gb'], colnames = ['y_test'] )"
   ],
   "metadata": {
    "collapsed": false,
    "pycharm": {
     "name": "#%%\n"
    }
   }
  },
  {
   "cell_type": "markdown",
   "source": [
    "## <font color = Green> XGBoost"
   ],
   "metadata": {
    "collapsed": false,
    "pycharm": {
     "name": "#%% md\n"
    }
   }
  },
  {
   "cell_type": "code",
   "execution_count": 289,
   "outputs": [
    {
     "name": "stdout",
     "output_type": "stream",
     "text": [
      "XGB: 0.9982954545454545\n",
      "XGB: 0.0\n",
      "XGB: 0.0\n",
      "XGB: 0.0\n",
      "              precision    recall  f1-score   support\n",
      "\n",
      "           0       1.00      1.00      1.00      1757\n",
      "           1       0.00      0.00      0.00         3\n",
      "\n",
      "    accuracy                           1.00      1760\n",
      "   macro avg       0.50      0.50      0.50      1760\n",
      "weighted avg       1.00      1.00      1.00      1760\n",
      "\n"
     ]
    },
    {
     "data": {
      "text/plain": "y_test         0  1\ny_pred_xgb         \n0           1757  3",
      "text/html": "<div>\n<style scoped>\n    .dataframe tbody tr th:only-of-type {\n        vertical-align: middle;\n    }\n\n    .dataframe tbody tr th {\n        vertical-align: top;\n    }\n\n    .dataframe thead th {\n        text-align: right;\n    }\n</style>\n<table border=\"1\" class=\"dataframe\">\n  <thead>\n    <tr style=\"text-align: right;\">\n      <th>y_test</th>\n      <th>0</th>\n      <th>1</th>\n    </tr>\n    <tr>\n      <th>y_pred_xgb</th>\n      <th></th>\n      <th></th>\n    </tr>\n  </thead>\n  <tbody>\n    <tr>\n      <td>0</td>\n      <td>1757</td>\n      <td>3</td>\n    </tr>\n  </tbody>\n</table>\n</div>"
     },
     "execution_count": 289,
     "metadata": {},
     "output_type": "execute_result"
    }
   ],
   "source": [
    "import xgboost as xgb\n",
    "\n",
    "# ------------------\n",
    "# Define the XGB model\n",
    "# ------------------\n",
    "xgb = xgb.XGBClassifier(n_estimators=100,\n",
    "                        max_depth = 10,\n",
    "                        eta= 0.01,\n",
    "                        min_child_weight = 5,\n",
    "                        random_state=100)\n",
    "\n",
    "# ------------------\n",
    "# Train the model\n",
    "# ------------------\n",
    "xgb.fit(X_train, y_train)\n",
    "\n",
    "# ------------------------------------\n",
    "# Make predictions on the test set\n",
    "# ------------------------------------\n",
    "y_pred_xgb = xgb.predict(X_test)\n",
    "\n",
    "# ------------------------------------------------------------------------\n",
    "# Evaluate the model using accuracy, precision, recall, and F1 score\n",
    "# ------------------------------------------------------------------------\n",
    "\n",
    "print('XGB:', accuracy_score(y_test, y_pred_xgb))\n",
    "print('XGB:', precision_score(y_test, y_pred_xgb))\n",
    "print('XGB:', recall_score(y_test, y_pred_xgb))\n",
    "print('XGB:', f1_score(y_test, y_pred_xgb))\n",
    "\n",
    "print(classification_report(y_test, y_pred_xgb))\n",
    "# Confusion Matrix\n",
    "pd.crosstab(y_pred_xgb, y_test, rownames =['y_pred_xgb'], colnames = ['y_test'] )"
   ],
   "metadata": {
    "collapsed": false,
    "pycharm": {
     "name": "#%%\n"
    }
   }
  },
  {
   "cell_type": "markdown",
   "source": [
    "## Analysis\n",
    "\n",
    "Decision Tree and Gradient Boost performs perfect in this problem while Random Forest predicts every observation to be Other and XGBoost makes some mistake on predicting some Other to be High."
   ],
   "metadata": {
    "collapsed": false,
    "pycharm": {
     "name": "#%% md\n"
    }
   }
  },
  {
   "cell_type": "markdown",
   "source": [
    "## Train model with CO"
   ],
   "metadata": {
    "collapsed": false,
    "pycharm": {
     "name": "#%% md\n"
    }
   }
  },
  {
   "cell_type": "code",
   "execution_count": 290,
   "outputs": [],
   "source": [
    "# Train test split\n",
    "\n",
    "X_train, X_test, y_train, y_test = train_test_split(X_final, y_CO, test_size=0.2, random_state=42)"
   ],
   "metadata": {
    "collapsed": false,
    "pycharm": {
     "name": "#%%\n"
    }
   }
  },
  {
   "cell_type": "markdown",
   "source": [
    "\n",
    "## <font color = green> Decision tree"
   ],
   "metadata": {
    "collapsed": false,
    "pycharm": {
     "name": "#%% md\n"
    }
   }
  },
  {
   "cell_type": "code",
   "execution_count": 291,
   "outputs": [
    {
     "name": "stdout",
     "output_type": "stream",
     "text": [
      "              precision    recall  f1-score   support\n",
      "\n",
      "           0       1.00      1.00      1.00      1671\n",
      "           1       1.00      1.00      1.00        89\n",
      "\n",
      "    accuracy                           1.00      1760\n",
      "   macro avg       1.00      1.00      1.00      1760\n",
      "weighted avg       1.00      1.00      1.00      1760\n",
      "\n"
     ]
    },
    {
     "data": {
      "text/plain": "y_test        0   1\ny_pred_dt          \n0          1671   0\n1             0  89",
      "text/html": "<div>\n<style scoped>\n    .dataframe tbody tr th:only-of-type {\n        vertical-align: middle;\n    }\n\n    .dataframe tbody tr th {\n        vertical-align: top;\n    }\n\n    .dataframe thead th {\n        text-align: right;\n    }\n</style>\n<table border=\"1\" class=\"dataframe\">\n  <thead>\n    <tr style=\"text-align: right;\">\n      <th>y_test</th>\n      <th>0</th>\n      <th>1</th>\n    </tr>\n    <tr>\n      <th>y_pred_dt</th>\n      <th></th>\n      <th></th>\n    </tr>\n  </thead>\n  <tbody>\n    <tr>\n      <td>0</td>\n      <td>1671</td>\n      <td>0</td>\n    </tr>\n    <tr>\n      <td>1</td>\n      <td>0</td>\n      <td>89</td>\n    </tr>\n  </tbody>\n</table>\n</div>"
     },
     "execution_count": 291,
     "metadata": {},
     "output_type": "execute_result"
    }
   ],
   "source": [
    "\n",
    "# ---------------------------------------------------------------\n",
    "# Train a decision tree classifier on the balanced dataset\n",
    "# ---------------------------------------------------------------\n",
    "\n",
    "clf = DecisionTreeClassifier(criterion='gini',\n",
    "\t\t\t\t\t\t\t min_samples_split=5,\n",
    "\t\t\t\t\t\t\t min_samples_leaf=5)\n",
    "clf.fit(X_train, y_train)\n",
    "\n",
    "# --------------------------------------------\n",
    "# Evaluate the classifier on the testing set\n",
    "# --------------------------------------------\n",
    "y_pred_dt = clf.predict(X_test)\n",
    "print(classification_report(y_test, y_pred_dt))\n",
    "\n",
    "# confusion_matrix(y_test, y_pred_dt)\n",
    "\n",
    "# Confusion Matrix\n",
    "pd.crosstab(y_pred_dt, y_test, rownames=['y_pred_dt'], colnames=['y_test'])\n",
    "\n",
    "# -------------------------------------------------------\n",
    "# Notes for reading the classification report\n",
    "# -------------------------------------------------------\n",
    "\n",
    "# --------------\n",
    "# Precision:\n",
    "# --------------\n",
    "# Measures the proportion of true positives (TP) out of all predicted positives (TP + false positives (FP)).\n",
    "# A high precision means the model makes few false positive predictions.\n",
    "\n",
    "# --------------\n",
    "# Recall:\n",
    "# --------------\n",
    "# Measures the proportion of true positives (TP) out of all actual positives (TP + false negatives (FN)). \\\n",
    "# A high recall indicates that the model makes few false negative predictions.\n",
    "\n",
    "# --------------\n",
    "# F1-score:\n",
    "# --------------\n",
    "# It is the harmonic mean of precision and recall, calculated as (2 * precision * recall) / (precision + recall).\n",
    "# It is useful especially when the classes are imbalanced\n",
    "\n",
    "# --------------\n",
    "# Support:\n",
    "# --------------\n",
    "# It is the number of observations in each class.\n",
    "\n",
    "# --------------\n",
    "# Weighted Average:\n",
    "# --------------\n",
    "# It is calculated as the average of the precision, recall etc. weighted by the number of samples in each class."
   ],
   "metadata": {
    "collapsed": false,
    "pycharm": {
     "name": "#%%\n"
    }
   }
  },
  {
   "cell_type": "markdown",
   "source": [
    "\n",
    "## <font color = green> Random Forest"
   ],
   "metadata": {
    "collapsed": false,
    "pycharm": {
     "name": "#%% md\n"
    }
   }
  },
  {
   "cell_type": "code",
   "execution_count": 292,
   "outputs": [
    {
     "name": "stdout",
     "output_type": "stream",
     "text": [
      "Random Forest Accuracy: 1.0\n",
      "Random Forest Precision: 1.0\n",
      "Random Forest Recall: 1.0\n",
      "Random Forest F1 Score: 1.0\n",
      "              precision    recall  f1-score   support\n",
      "\n",
      "           0       1.00      1.00      1.00      1671\n",
      "           1       1.00      1.00      1.00        89\n",
      "\n",
      "    accuracy                           1.00      1760\n",
      "   macro avg       1.00      1.00      1.00      1760\n",
      "weighted avg       1.00      1.00      1.00      1760\n",
      "\n"
     ]
    },
    {
     "data": {
      "text/plain": "y_test        0   1\ny_pred_rf          \n0          1671   0\n1             0  89",
      "text/html": "<div>\n<style scoped>\n    .dataframe tbody tr th:only-of-type {\n        vertical-align: middle;\n    }\n\n    .dataframe tbody tr th {\n        vertical-align: top;\n    }\n\n    .dataframe thead th {\n        text-align: right;\n    }\n</style>\n<table border=\"1\" class=\"dataframe\">\n  <thead>\n    <tr style=\"text-align: right;\">\n      <th>y_test</th>\n      <th>0</th>\n      <th>1</th>\n    </tr>\n    <tr>\n      <th>y_pred_rf</th>\n      <th></th>\n      <th></th>\n    </tr>\n  </thead>\n  <tbody>\n    <tr>\n      <td>0</td>\n      <td>1671</td>\n      <td>0</td>\n    </tr>\n    <tr>\n      <td>1</td>\n      <td>0</td>\n      <td>89</td>\n    </tr>\n  </tbody>\n</table>\n</div>"
     },
     "execution_count": 292,
     "metadata": {},
     "output_type": "execute_result"
    }
   ],
   "source": [
    "# ------------------\n",
    "# Define the RF model\n",
    "# ------------------\n",
    "rf = RandomForestClassifier(n_estimators=1000,\n",
    "\t\t\t\t\t\t\tcriterion='entropy',\n",
    "\t\t\t\t\t\t\tmin_samples_split=5,\n",
    "\t\t\t\t\t\t\tmin_samples_leaf=5,\n",
    "\t\t\t\t\t\t\trandom_state=100)\n",
    "\n",
    "# ------------------\n",
    "# Train the models\n",
    "# ------------------\n",
    "rf.fit(X_train, y_train)\n",
    "\n",
    "# ------------------------------------\n",
    "# Make predictions on the test set\n",
    "# ------------------------------------\n",
    "y_pred_rf = rf.predict(X_test)\n",
    "\n",
    "# ------------------------------------------------------------------------\n",
    "# Evaluate the model using accuracy, precision, recall, and F1 score\n",
    "# ------------------------------------------------------------------------\n",
    "print('Random Forest Accuracy:', accuracy_score(y_test, y_pred_rf))\n",
    "print('Random Forest Precision:', precision_score(y_test, y_pred_rf))\n",
    "print('Random Forest Recall:', recall_score(y_test, y_pred_rf))\n",
    "print('Random Forest F1 Score:', f1_score(y_test, y_pred_rf))\n",
    "\n",
    "print(classification_report(y_test, y_pred_rf))\n",
    "\n",
    "# Confusion Matrix\n",
    "pd.crosstab(y_pred_rf, y_test, rownames=['y_pred_rf'], colnames=['y_test'])"
   ],
   "metadata": {
    "collapsed": false,
    "pycharm": {
     "name": "#%%\n"
    }
   }
  },
  {
   "cell_type": "markdown",
   "source": [
    "\n",
    "## <font color = darkgreen> Gradient Boosting Classifier"
   ],
   "metadata": {
    "collapsed": false,
    "pycharm": {
     "name": "#%% md\n"
    }
   }
  },
  {
   "cell_type": "code",
   "execution_count": 293,
   "outputs": [
    {
     "name": "stdout",
     "output_type": "stream",
     "text": [
      "Gradient Boosting Accuracy: 1.0\n",
      "Gradient Boosting Precision: 1.0\n",
      "Gradient Boosting Recall: 1.0\n",
      "Gradient Boosting F1 Score: 1.0\n",
      "              precision    recall  f1-score   support\n",
      "\n",
      "           0       1.00      1.00      1.00      1671\n",
      "           1       1.00      1.00      1.00        89\n",
      "\n",
      "    accuracy                           1.00      1760\n",
      "   macro avg       1.00      1.00      1.00      1760\n",
      "weighted avg       1.00      1.00      1.00      1760\n",
      "\n"
     ]
    },
    {
     "data": {
      "text/plain": "y_test        0   1\ny_pred_gb          \n0          1671   0\n1             0  89",
      "text/html": "<div>\n<style scoped>\n    .dataframe tbody tr th:only-of-type {\n        vertical-align: middle;\n    }\n\n    .dataframe tbody tr th {\n        vertical-align: top;\n    }\n\n    .dataframe thead th {\n        text-align: right;\n    }\n</style>\n<table border=\"1\" class=\"dataframe\">\n  <thead>\n    <tr style=\"text-align: right;\">\n      <th>y_test</th>\n      <th>0</th>\n      <th>1</th>\n    </tr>\n    <tr>\n      <th>y_pred_gb</th>\n      <th></th>\n      <th></th>\n    </tr>\n  </thead>\n  <tbody>\n    <tr>\n      <td>0</td>\n      <td>1671</td>\n      <td>0</td>\n    </tr>\n    <tr>\n      <td>1</td>\n      <td>0</td>\n      <td>89</td>\n    </tr>\n  </tbody>\n</table>\n</div>"
     },
     "execution_count": 293,
     "metadata": {},
     "output_type": "execute_result"
    }
   ],
   "source": [
    "# ------------------\n",
    "# Define the GB model\n",
    "# ------------------\n",
    "gb = GradientBoostingClassifier(n_estimators=500,\n",
    "\t\t\t\t\t\t\t\tmin_samples_split=5,\n",
    "\t\t\t\t\t\t\t\tlearning_rate=0.5,\n",
    "\t\t\t\t\t\t\t\tmin_samples_leaf=5,\n",
    "\t\t\t\t\t\t\t\trandom_state=100)\n",
    "\n",
    "# ------------------\n",
    "# Train the model\n",
    "# ------------------\n",
    "gb.fit(X_train, y_train)\n",
    "\n",
    "# ------------------------------------\n",
    "# Make predictions on the test set\n",
    "# ------------------------------------\n",
    "y_pred_gb = gb.predict(X_test)\n",
    "\n",
    "# ------------------------------------------------------------------------\n",
    "# Evaluate the model using accuracy, precision, recall, and F1 score\n",
    "# ------------------------------------------------------------------------\n",
    "\n",
    "print('Gradient Boosting Accuracy:', accuracy_score(y_test, y_pred_gb))\n",
    "print('Gradient Boosting Precision:', precision_score(y_test, y_pred_gb))\n",
    "print('Gradient Boosting Recall:', recall_score(y_test, y_pred_gb))\n",
    "print('Gradient Boosting F1 Score:', f1_score(y_test, y_pred_gb))\n",
    "\n",
    "print(classification_report(y_test, y_pred_gb))\n",
    "# Confusion Matrix\n",
    "pd.crosstab(y_pred_gb, y_test, rownames=['y_pred_gb'], colnames=['y_test'])"
   ],
   "metadata": {
    "collapsed": false,
    "pycharm": {
     "name": "#%%\n"
    }
   }
  },
  {
   "cell_type": "markdown",
   "source": [
    "\n",
    "## <font color = Green> XGBoost"
   ],
   "metadata": {
    "collapsed": false,
    "pycharm": {
     "name": "#%% md\n"
    }
   }
  },
  {
   "cell_type": "code",
   "execution_count": 296,
   "outputs": [
    {
     "name": "stdout",
     "output_type": "stream",
     "text": [
      "XGB: 1.0\n",
      "XGB: 1.0\n",
      "XGB: 1.0\n",
      "XGB: 1.0\n",
      "              precision    recall  f1-score   support\n",
      "\n",
      "           0       1.00      1.00      1.00      1671\n",
      "           1       1.00      1.00      1.00        89\n",
      "\n",
      "    accuracy                           1.00      1760\n",
      "   macro avg       1.00      1.00      1.00      1760\n",
      "weighted avg       1.00      1.00      1.00      1760\n",
      "\n"
     ]
    },
    {
     "data": {
      "text/plain": "y_test         0   1\ny_pred_xgb          \n0           1671   0\n1              0  89",
      "text/html": "<div>\n<style scoped>\n    .dataframe tbody tr th:only-of-type {\n        vertical-align: middle;\n    }\n\n    .dataframe tbody tr th {\n        vertical-align: top;\n    }\n\n    .dataframe thead th {\n        text-align: right;\n    }\n</style>\n<table border=\"1\" class=\"dataframe\">\n  <thead>\n    <tr style=\"text-align: right;\">\n      <th>y_test</th>\n      <th>0</th>\n      <th>1</th>\n    </tr>\n    <tr>\n      <th>y_pred_xgb</th>\n      <th></th>\n      <th></th>\n    </tr>\n  </thead>\n  <tbody>\n    <tr>\n      <td>0</td>\n      <td>1671</td>\n      <td>0</td>\n    </tr>\n    <tr>\n      <td>1</td>\n      <td>0</td>\n      <td>89</td>\n    </tr>\n  </tbody>\n</table>\n</div>"
     },
     "execution_count": 296,
     "metadata": {},
     "output_type": "execute_result"
    }
   ],
   "source": [
    "import xgboost as xgb\n",
    "# ------------------\n",
    "# Define the XGB model\n",
    "# ------------------\n",
    "xgb = xgb.XGBClassifier(n_estimators=100,\n",
    "\t\t\t\t\t\tmax_depth=10,\n",
    "\t\t\t\t\t\teta=0.01,\n",
    "\t\t\t\t\t\tmin_child_weight=5,\n",
    "\t\t\t\t\t\trandom_state=100)\n",
    "\n",
    "# ------------------\n",
    "# Train the model\n",
    "# ------------------\n",
    "xgb.fit(X_train, y_train)\n",
    "\n",
    "# ------------------------------------\n",
    "# Make predictions on the test set\n",
    "# ------------------------------------\n",
    "y_pred_xgb = xgb.predict(X_test)\n",
    "\n",
    "# ------------------------------------------------------------------------\n",
    "# Evaluate the model using accuracy, precision, recall, and F1 score\n",
    "# ------------------------------------------------------------------------\n",
    "\n",
    "print('XGB:', accuracy_score(y_test, y_pred_xgb))\n",
    "print('XGB:', precision_score(y_test, y_pred_xgb))\n",
    "print('XGB:', recall_score(y_test, y_pred_xgb))\n",
    "print('XGB:', f1_score(y_test, y_pred_xgb))\n",
    "\n",
    "print(classification_report(y_test, y_pred_xgb))\n",
    "# Confusion Matrix\n",
    "pd.crosstab(y_pred_xgb, y_test, rownames=['y_pred_xgb'], colnames=['y_test'])"
   ],
   "metadata": {
    "collapsed": false,
    "pycharm": {
     "name": "#%%\n"
    }
   }
  },
  {
   "cell_type": "markdown",
   "source": [
    "## Compare Pollutant Level"
   ],
   "metadata": {
    "collapsed": false,
    "pycharm": {
     "name": "#%% md\n"
    }
   }
  },
  {
   "cell_type": "code",
   "execution_count": 297,
   "outputs": [
    {
     "name": "stdout",
     "output_type": "stream",
     "text": [
      "(2877, 2) (4213, 2) (2984, 2)\n"
     ]
    }
   ],
   "source": [
    "# Get pollutants of year 2023, 2016, and 2010.\n",
    "\n",
    "pollutant_2023 = df.loc[df['Model Year'] == 2023, ['CO2 (g/mi)', 'CO (g/mi)']].copy()\n",
    "pollutant_2023.dropna(inplace=True)\n",
    "pollutant_2016 = df.loc[df['Model Year'] == 2016, ['CO2 (g/mi)', 'CO (g/mi)']].copy()\n",
    "pollutant_2016.dropna(inplace=True)\n",
    "pollutant_2010 = df.loc[df['Model Year'] == 2010, ['CO2 (g/mi)', 'CO (g/mi)']].copy()\n",
    "pollutant_2010.dropna(inplace=True)\n",
    "\n",
    "print(pollutant_2023.shape, pollutant_2016.shape, pollutant_2010.shape)"
   ],
   "metadata": {
    "collapsed": false,
    "pycharm": {
     "name": "#%%\n"
    }
   }
  },
  {
   "cell_type": "code",
   "execution_count": 298,
   "outputs": [
    {
     "name": "stdout",
     "output_type": "stream",
     "text": [
      "(array([4.36271707, 0.84888014]), array([0.99999358, 0.80202601]))\n",
      "(array([-18.08112184,  -2.97461647]), array([2.24428186e-73, 1.46677536e-03]))\n"
     ]
    }
   ],
   "source": [
    "# Perform the one-sided z test on data of 2023, 2016, and 2010.\n",
    "\n",
    "from statsmodels.stats.weightstats import ztest\n",
    "\n",
    "print(ztest(pollutant_2023, pollutant_2016, value=0, alternative='smaller'))\n",
    "print(ztest(pollutant_2016, pollutant_2010, value=0, alternative='smaller'))"
   ],
   "metadata": {
    "collapsed": false,
    "pycharm": {
     "name": "#%%\n"
    }
   }
  },
  {
   "cell_type": "markdown",
   "source": [
    "## Conclusion on Pollutant Level\n",
    "\n",
    "The z test above shows that from 2010 to 2016, the pollutant level for both CO2 and CO decreased. From 2016 to 2023, the pollutant level of CO2 increased while there isn't sufficient evidence to determine the change on CO."
   ],
   "metadata": {
    "collapsed": false,
    "pycharm": {
     "name": "#%% md\n"
    }
   }
  },
  {
   "cell_type": "markdown",
   "source": [
    "## Nearest neighbor"
   ],
   "metadata": {
    "collapsed": false,
    "pycharm": {
     "name": "#%% md\n"
    }
   }
  },
  {
   "cell_type": "code",
   "execution_count": 299,
   "outputs": [
    {
     "data": {
      "text/plain": "['Test Veh Displacement (L)',\n 'N/V Ratio',\n '# of Cylinders and Rotors',\n 'Target Coef B (lbf/mph)',\n 'Target Coef A (lbf)',\n 'CO (g/mi)',\n 'THC (g/mi)',\n 'Set Coef C (lbf/mph**2)',\n 'Axle Ratio',\n 'Set Coef A (lbf)',\n 'NOx (g/mi)',\n 'RND_ADJ_FE',\n 'CO2 (g/mi)',\n 'Set Coef B (lbf/mph)',\n 'Target Coef C (lbf/mph**2)',\n 'Represented Test Veh Model',\n 'Model Year']"
     },
     "execution_count": 299,
     "metadata": {},
     "output_type": "execute_result"
    }
   ],
   "source": [
    "# Get the name of numeric features\n",
    "\n",
    "feature_name = list(df_dmpl.select_dtypes(include=[np.float]).columns)\n",
    "feature_name.append('Represented Test Veh Model')\n",
    "feature_name.append('Model Year')\n",
    "feature_name"
   ],
   "metadata": {
    "collapsed": false,
    "pycharm": {
     "name": "#%%\n"
    }
   }
  },
  {
   "cell_type": "code",
   "execution_count": 300,
   "outputs": [
    {
     "name": "stdout",
     "output_type": "stream",
     "text": [
      "['MALIBU', 'MAZDA3', 'C 300', 'C 300 4MATIC', 'E 350', 'E 350 4MATIC', 'Cayenne', 'Cayenne GTS', 'Cayenne S', 'Panamera 4S', 'GX 460', '4RUNNER 2WD', '4RUNNER 4WD', 'CAMRY', 'SEQUOIA 2WD', 'SEQUOIA 4WD', 'A3', 'A4', 'A6', 'Q5', 'GTI', 'Jetta']\n"
     ]
    }
   ],
   "source": [
    "# Find the models that appear in all three years.\n",
    "df_nn = df[feature_name].copy()\n",
    "df_nn = df_nn.reset_index(drop=True)\n",
    "df_nn = df_nn.dropna()\n",
    "\n",
    "memo = {}\n",
    "for idx, row in df_nn.iterrows():\n",
    "    if row['Represented Test Veh Model'] in memo:\n",
    "        memo[row['Represented Test Veh Model']].add(row['Model Year'])\n",
    "    else:\n",
    "        memo[row['Represented Test Veh Model']] = {row['Model Year']}\n",
    "\n",
    "print([x for x in memo if len(memo[x]) == 3])\n"
   ],
   "metadata": {
    "collapsed": false,
    "pycharm": {
     "name": "#%%\n"
    }
   }
  },
  {
   "cell_type": "code",
   "execution_count": 301,
   "outputs": [
    {
     "name": "stdout",
     "output_type": "stream",
     "text": [
      "4RUNNER 4WD\n",
      "2716     2023\n",
      "2717     2023\n",
      "2718     2023\n",
      "2719     2023\n",
      "2720     2023\n",
      "2721     2023\n",
      "6171     2010\n",
      "6172     2010\n",
      "10605    2016\n",
      "10606    2016\n",
      "10607    2016\n",
      "10608    2016\n",
      "10609    2016\n",
      "Name: Model Year, dtype: int64\n",
      "\n",
      "CAMRY\n",
      "2734     2023\n",
      "2735     2023\n",
      "6175     2010\n",
      "6176     2010\n",
      "6177     2010\n",
      "6178     2010\n",
      "6179     2010\n",
      "6180     2010\n",
      "6181     2010\n",
      "6182     2010\n",
      "10610    2016\n",
      "10611    2016\n",
      "10612    2016\n",
      "10613    2016\n",
      "Name: Model Year, dtype: int64\n",
      "\n",
      "Cayenne\n",
      "2373     2023\n",
      "2374     2023\n",
      "5909     2010\n",
      "5910     2010\n",
      "5911     2010\n",
      "5912     2010\n",
      "10155    2016\n",
      "10156    2016\n",
      "Name: Model Year, dtype: int64\n",
      "\n",
      "SEQUOIA 4WD\n",
      "2892     2023\n",
      "2893     2023\n",
      "2894     2023\n",
      "2895     2023\n",
      "6292     2010\n",
      "6293     2010\n",
      "6294     2010\n",
      "6295     2010\n",
      "6296     2010\n",
      "6297     2010\n",
      "6298     2010\n",
      "6299     2010\n",
      "6300     2010\n",
      "6301     2010\n",
      "6302     2010\n",
      "6303     2010\n",
      "6304     2010\n",
      "6305     2010\n",
      "10792    2016\n",
      "10793    2016\n",
      "10794    2016\n",
      "10795    2016\n",
      "Name: Model Year, dtype: int64\n",
      "\n",
      "MAZDA3\n",
      "2027    2023\n",
      "2028    2023\n",
      "5074    2010\n",
      "5075    2010\n",
      "5076    2010\n",
      "5077    2010\n",
      "5078    2010\n",
      "5079    2010\n",
      "5084    2010\n",
      "5085    2010\n",
      "5086    2010\n",
      "5087    2010\n",
      "5088    2010\n",
      "5089    2010\n",
      "9347    2016\n",
      "9348    2016\n",
      "9349    2016\n",
      "9350    2016\n",
      "9351    2016\n",
      "9352    2016\n",
      "9353    2016\n",
      "9354    2016\n",
      "9355    2016\n",
      "9356    2016\n",
      "9357    2016\n",
      "9358    2016\n",
      "9359    2016\n",
      "9360    2016\n",
      "9361    2016\n",
      "9362    2016\n",
      "9363    2016\n",
      "9364    2016\n",
      "9365    2016\n",
      "9366    2016\n",
      "9367    2016\n",
      "9368    2016\n",
      "9369    2016\n",
      "9370    2016\n",
      "9371    2016\n",
      "9372    2016\n",
      "9373    2016\n",
      "9374    2016\n",
      "9375    2016\n",
      "9376    2016\n",
      "Name: Model Year, dtype: int64\n",
      "\n"
     ]
    }
   ],
   "source": [
    "# Find the indices of interested vehicles.\n",
    "\n",
    "vehicles_name = ['4RUNNER 4WD', 'CAMRY', 'Cayenne', 'SEQUOIA 4WD', 'MAZDA3']\n",
    "\n",
    "for name in vehicles_name:\n",
    "    print(name)\n",
    "    print(df_nn[df_nn['Represented Test Veh Model'] == name]['Model Year'])\n",
    "    print()"
   ],
   "metadata": {
    "collapsed": false,
    "pycharm": {
     "name": "#%%\n"
    }
   }
  },
  {
   "cell_type": "code",
   "execution_count": 302,
   "outputs": [],
   "source": [
    "# Split data into three years.\n",
    "\n",
    "data = {}\n",
    "data[2010] = df_nn.loc[df_nn['Model Year'] == 2010]\n",
    "data[2016] = df_nn.loc[df_nn['Model Year'] == 2016]\n",
    "data[2023] = df_nn.loc[df_nn['Model Year'] == 2023]"
   ],
   "metadata": {
    "collapsed": false,
    "pycharm": {
     "name": "#%%\n"
    }
   }
  },
  {
   "cell_type": "code",
   "execution_count": 303,
   "outputs": [
    {
     "name": "stdout",
     "output_type": "stream",
     "text": [
      "Now for vehicle: 4RUNNER 4WD\n",
      "\n",
      "In year: 2010\n",
      "Ball tree: the nearest vehicles to Row 6171 are:\n",
      "6171       4RUNNER 4WD\n",
      "6604        V50 T5 AWD\n",
      "6221    FJ CRUISER 4WD\n",
      "3771             535iA\n",
      "4474             1LH26\n",
      "Name: Represented Test Veh Model, dtype: object\n",
      "\n",
      "And the respective distances are: [[0.         4.57916824 5.95252186 6.26356923 6.43569375]]\n",
      "\n",
      "KD Tree: the nearest indices to Row 6171 are:\n",
      "6171       4RUNNER 4WD\n",
      "6604        V50 T5 AWD\n",
      "6221    FJ CRUISER 4WD\n",
      "3771             535iA\n",
      "4474             1LH26\n",
      "Name: Represented Test Veh Model, dtype: object\n",
      "\n",
      "And the respective distances are:[[0.         4.57916824 5.95252186 6.26356923 6.43569375]]\n",
      "\n",
      "In year: 2016\n",
      "Ball tree: the nearest vehicles to Row 10605 are:\n",
      "10605              4RUNNER 4WD\n",
      "10608              4RUNNER 4WD\n",
      "10606              4RUNNER 4WD\n",
      "10946             Passat wagon\n",
      "10664    HIGHLANDER HYBRID AWD\n",
      "Name: Represented Test Veh Model, dtype: object\n",
      "\n",
      "And the respective distances are: [[0.         2.62836455 2.6502302  5.23868343 5.25450975]]\n",
      "\n",
      "KD Tree: the nearest indices to Row 10605 are:\n",
      "10605              4RUNNER 4WD\n",
      "10608              4RUNNER 4WD\n",
      "10606              4RUNNER 4WD\n",
      "10946             Passat wagon\n",
      "10664    HIGHLANDER HYBRID AWD\n",
      "Name: Represented Test Veh Model, dtype: object\n",
      "\n",
      "And the respective distances are:[[0.         2.62836455 2.6502302  5.23868343 5.25450975]]\n",
      "\n",
      "In year: 2023\n",
      "Ball tree: the nearest vehicles to Row 2716 are:\n",
      "2716        4RUNNER 4WD\n",
      "1408                G80\n",
      "1406                G80\n",
      "1439               GV70\n",
      "758     F150 Tremor 4WD\n",
      "Name: Represented Test Veh Model, dtype: object\n",
      "\n",
      "And the respective distances are: [[0.         4.96598023 5.28512661 5.38695338 5.82412211]]\n",
      "\n",
      "KD Tree: the nearest indices to Row 2716 are:\n",
      "2716        4RUNNER 4WD\n",
      "1408                G80\n",
      "1406                G80\n",
      "1439               GV70\n",
      "758     F150 Tremor 4WD\n",
      "Name: Represented Test Veh Model, dtype: object\n",
      "\n",
      "And the respective distances are:[[0.         4.96598023 5.28512661 5.38695338 5.82412211]]\n",
      "\n",
      "Now for vehicle: CAMRY\n",
      "\n",
      "In year: 2010\n",
      "Ball tree: the nearest vehicles to Row 6175 are:\n",
      "6175      CAMRY\n",
      "6527     Passat\n",
      "4470      1LH26\n",
      "4952    BORREGO\n",
      "6388         CC\n",
      "Name: Represented Test Veh Model, dtype: object\n",
      "\n",
      "And the respective distances are: [[0.         3.13722194 3.92650377 4.27480024 4.78735184]]\n",
      "\n",
      "KD Tree: the nearest indices to Row 6175 are:\n",
      "6175      CAMRY\n",
      "6527     Passat\n",
      "4470      1LH26\n",
      "4952    BORREGO\n",
      "6388         CC\n",
      "Name: Represented Test Veh Model, dtype: object\n",
      "\n",
      "And the respective distances are:[[0.         3.13722194 3.92650377 4.27480024 4.78735184]]\n",
      "\n",
      "In year: 2016\n",
      "Ball tree: the nearest vehicles to Row 10610 are:\n",
      "10610           CAMRY\n",
      "11208          Passat\n",
      "11212          Passat\n",
      "7824     Renegade 4x4\n",
      "7826     Renegade 4x4\n",
      "Name: Represented Test Veh Model, dtype: object\n",
      "\n",
      "And the respective distances are: [[0.         2.69605459 2.78549475 3.20762477 3.26033484]]\n",
      "\n",
      "KD Tree: the nearest indices to Row 10610 are:\n",
      "10610           CAMRY\n",
      "11208          Passat\n",
      "11212          Passat\n",
      "7824     Renegade 4x4\n",
      "7826     Renegade 4x4\n",
      "Name: Represented Test Veh Model, dtype: object\n",
      "\n",
      "And the respective distances are:[[0.         2.69605459 2.78549475 3.20762477 3.26033484]]\n",
      "\n",
      "In year: 2023\n",
      "Ball tree: the nearest vehicles to Row 2734 are:\n",
      "2734          CAMRY\n",
      "2614         ES 350\n",
      "2778      CAMRY XSE\n",
      "1207     ACADIA FWD\n",
      "2555    OUTBACK AWD\n",
      "Name: Represented Test Veh Model, dtype: object\n",
      "\n",
      "And the respective distances are: [[0.         2.444801   4.92464757 5.06005547 5.16027698]]\n",
      "\n",
      "KD Tree: the nearest indices to Row 2734 are:\n",
      "2734          CAMRY\n",
      "2614         ES 350\n",
      "2778      CAMRY XSE\n",
      "1207     ACADIA FWD\n",
      "2555    OUTBACK AWD\n",
      "Name: Represented Test Veh Model, dtype: object\n",
      "\n",
      "And the respective distances are:[[0.         2.444801   4.92464757 5.06005547 5.16027698]]\n",
      "\n",
      "Now for vehicle: Cayenne\n",
      "\n",
      "In year: 2010\n",
      "Ball tree: the nearest vehicles to Row 5909 are:\n",
      "5909                     Cayenne\n",
      "6385                          Q7\n",
      "3808    550i xDrive Gran Turismo\n",
      "5203              GL 350 BLUETEC\n",
      "5204              GL 350 BLUETEC\n",
      "Name: Represented Test Veh Model, dtype: object\n",
      "\n",
      "And the respective distances are: [[ 0.         23.13319182 23.45804359 23.54934913 23.54934913]]\n",
      "\n",
      "KD Tree: the nearest indices to Row 5909 are:\n",
      "5909                     Cayenne\n",
      "6385                          Q7\n",
      "3808    550i xDrive Gran Turismo\n",
      "5203              GL 350 BLUETEC\n",
      "5204              GL 350 BLUETEC\n",
      "Name: Represented Test Veh Model, dtype: object\n",
      "\n",
      "And the respective distances are:[[ 0.         23.13319182 23.45804359 23.54934913 23.54934913]]\n",
      "\n",
      "In year: 2016\n",
      "Ball tree: the nearest vehicles to Row 10155 are:\n",
      "10155                     Cayenne\n",
      "10071    911 Carrera 4S Cabriolet\n",
      "10079          911 Carrera 4S Kit\n",
      "10076    911 Carrera 4S Cabriolet\n",
      "10085          911 Carrera 4S Kit\n",
      "Name: Represented Test Veh Model, dtype: object\n",
      "\n",
      "And the respective distances are: [[0.         6.65698618 6.89904574 7.31814602 7.60491787]]\n",
      "\n",
      "KD Tree: the nearest indices to Row 10155 are:\n",
      "10155                     Cayenne\n",
      "10071    911 Carrera 4S Cabriolet\n",
      "10079          911 Carrera 4S Kit\n",
      "10076    911 Carrera 4S Cabriolet\n",
      "10085          911 Carrera 4S Kit\n",
      "Name: Represented Test Veh Model, dtype: object\n",
      "\n",
      "And the respective distances are:[[0.         6.65698618 6.89904574 7.31814602 7.60491787]]\n",
      "\n",
      "In year: 2023\n",
      "Ball tree: the nearest vehicles to Row 2373 are:\n",
      "2373              Cayenne\n",
      "1978    Ghibli Modena AWD\n",
      "2645           LS 500 AWD\n",
      "2037               Artura\n",
      "2643           LS 500 AWD\n",
      "Name: Represented Test Veh Model, dtype: object\n",
      "\n",
      "And the respective distances are: [[0.         7.09871824 8.48004895 8.54893136 8.74702218]]\n",
      "\n",
      "KD Tree: the nearest indices to Row 2373 are:\n",
      "2373              Cayenne\n",
      "1978    Ghibli Modena AWD\n",
      "2645           LS 500 AWD\n",
      "2037               Artura\n",
      "2643           LS 500 AWD\n",
      "Name: Represented Test Veh Model, dtype: object\n",
      "\n",
      "And the respective distances are:[[0.         7.09871824 8.48004895 8.54893136 8.74702218]]\n",
      "\n",
      "Now for vehicle: SEQUOIA 4WD\n",
      "\n",
      "In year: 2010\n",
      "Ball tree: the nearest vehicles to Row 6292 are:\n",
      "6292                SEQUOIA 4WD\n",
      "5048    GRANTURISMO CONVERTIBLE\n",
      "5052    GRANTURISMO S AUTOMATIC\n",
      "5210              GL 550 4MATIC\n",
      "4077    Grand Cherokee SRT8 AWD\n",
      "Name: Represented Test Veh Model, dtype: object\n",
      "\n",
      "And the respective distances are: [[ 0.          8.34610934 11.15884188 11.25947175 14.2041047 ]]\n",
      "\n",
      "KD Tree: the nearest indices to Row 6292 are:\n",
      "6292                SEQUOIA 4WD\n",
      "5048    GRANTURISMO CONVERTIBLE\n",
      "5052    GRANTURISMO S AUTOMATIC\n",
      "5210              GL 550 4MATIC\n",
      "4077    Grand Cherokee SRT8 AWD\n",
      "Name: Represented Test Veh Model, dtype: object\n",
      "\n",
      "And the respective distances are:[[ 0.          8.34610934 11.15884188 11.25947175 14.2041047 ]]\n",
      "\n",
      "In year: 2016\n",
      "Ball tree: the nearest vehicles to Row 10792 are:\n",
      "10792                 SEQUOIA 4WD\n",
      "10797             SEQUOIA 4WD FFV\n",
      "7214     535i xDrive Gran Turismo\n",
      "7197                  535i xDrive\n",
      "7480                 X6 xDrive35i\n",
      "Name: Represented Test Veh Model, dtype: object\n",
      "\n",
      "And the respective distances are: [[0.         4.50329585 5.3706433  6.04531433 6.10682885]]\n",
      "\n",
      "KD Tree: the nearest indices to Row 10792 are:\n",
      "10792                 SEQUOIA 4WD\n",
      "10797             SEQUOIA 4WD FFV\n",
      "7214     535i xDrive Gran Turismo\n",
      "7197                  535i xDrive\n",
      "7480                 X6 xDrive35i\n",
      "Name: Represented Test Veh Model, dtype: object\n",
      "\n",
      "And the respective distances are:[[0.         4.50329585 5.3706433  6.04531433 6.10682885]]\n",
      "\n",
      "In year: 2023\n",
      "Ball tree: the nearest vehicles to Row 2892 are:\n",
      "2892    SEQUOIA 4WD\n",
      "2895    SEQUOIA 4WD\n",
      "2952     TUNDRA 4WD\n",
      "2954     TUNDRA 4WD\n",
      "2927     TACOMA 4WD\n",
      "Name: Represented Test Veh Model, dtype: object\n",
      "\n",
      "And the respective distances are: [[0.         0.6273606  3.6633712  5.30168816 7.44712877]]\n",
      "\n",
      "KD Tree: the nearest indices to Row 2892 are:\n",
      "2892    SEQUOIA 4WD\n",
      "2895    SEQUOIA 4WD\n",
      "2952     TUNDRA 4WD\n",
      "2954     TUNDRA 4WD\n",
      "2927     TACOMA 4WD\n",
      "Name: Represented Test Veh Model, dtype: object\n",
      "\n",
      "And the respective distances are:[[0.         0.6273606  3.6633712  5.30168816 7.44712877]]\n",
      "\n",
      "Now for vehicle: MAZDA3\n",
      "\n",
      "In year: 2010\n",
      "Ball tree: the nearest vehicles to Row 5074 are:\n",
      "5074    MAZDA3\n",
      "5084    MAZDA3\n",
      "4915    TUCSON\n",
      "4922    TUCSON\n",
      "5362    GALANT\n",
      "Name: Represented Test Veh Model, dtype: object\n",
      "\n",
      "And the respective distances are: [[0.         3.21463109 4.65020849 4.8481099  4.9519973 ]]\n",
      "\n",
      "KD Tree: the nearest indices to Row 5074 are:\n",
      "5074    MAZDA3\n",
      "5084    MAZDA3\n",
      "4915    TUCSON\n",
      "4922    TUCSON\n",
      "5362    GALANT\n",
      "Name: Represented Test Veh Model, dtype: object\n",
      "\n",
      "And the respective distances are:[[0.         3.21463109 4.65020849 4.8481099  4.9519973 ]]\n",
      "\n",
      "In year: 2016\n",
      "Ball tree: the nearest vehicles to Row 9347 are:\n",
      "9347      MAZDA3\n",
      "9349      MAZDA3\n",
      "10632    COROLLA\n",
      "9361      MAZDA3\n",
      "9315        CX-3\n",
      "Name: Represented Test Veh Model, dtype: object\n",
      "\n",
      "And the respective distances are: [[0.         4.04583022 4.64347996 6.69156824 7.04665015]]\n",
      "\n",
      "KD Tree: the nearest indices to Row 9347 are:\n",
      "9347      MAZDA3\n",
      "9349      MAZDA3\n",
      "10632    COROLLA\n",
      "9361      MAZDA3\n",
      "9315        CX-3\n",
      "Name: Represented Test Veh Model, dtype: object\n",
      "\n",
      "And the respective distances are:[[0.         4.04583022 4.64347996 6.69156824 7.04665015]]\n",
      "\n",
      "In year: 2023\n",
      "Ball tree: the nearest vehicles to Row 2027 are:\n",
      "2027        MAZDA3\n",
      "2481           BRZ\n",
      "3324    Tiguan FWD\n",
      "2550        LEGACY\n",
      "2548        LEGACY\n",
      "Name: Represented Test Veh Model, dtype: object\n",
      "\n",
      "And the respective distances are: [[0.         3.6646077  5.44441868 5.4916505  5.59667232]]\n",
      "\n",
      "KD Tree: the nearest indices to Row 2027 are:\n",
      "2027        MAZDA3\n",
      "2481           BRZ\n",
      "3324    Tiguan FWD\n",
      "2550        LEGACY\n",
      "2548        LEGACY\n",
      "Name: Represented Test Veh Model, dtype: object\n",
      "\n",
      "And the respective distances are:[[0.         3.6646077  5.44441868 5.4916505  5.59667232]]\n",
      "\n"
     ]
    }
   ],
   "source": [
    "from sklearn.neighbors import BallTree\n",
    "from sklearn.neighbors import KDTree\n",
    "\n",
    "# Train for 5 models\n",
    "for name in vehicles_name:\n",
    "    print(\"Now for vehicle: \" + name + '\\n')\n",
    "    # Train for 3 years.\n",
    "    for year in [2010, 2016, 2023]:\n",
    "        X = data[year].iloc[:, :-2]\n",
    "        print('In year: ' + str(year))\n",
    "        ball = BallTree(X, leaf_size=2)\n",
    "        idx = X[data[year]['Represented Test Veh Model'] == name].index[0]\n",
    "\n",
    "        q = [X.loc[idx]]\n",
    "        dist_ball, ind_ball = ball.query(q, k=5)\n",
    "        print(f\"Ball tree: the nearest vehicles to Row {idx} are:\")\n",
    "        print(data[year]['Represented Test Veh Model'].iloc[ind_ball[0]])\n",
    "        print(f\"\\nAnd the respective distances are: {dist_ball}\")\n",
    "\n",
    "        print()\n",
    "        kd = KDTree(X, leaf_size=2)\n",
    "        dist_kd, ind_kd = kd.query(q, k=5)\n",
    "        print(f'KD Tree: the nearest indices to Row {idx} are:')\n",
    "        print(data[year]['Represented Test Veh Model'].iloc[ind_ball[0]])\n",
    "        print(f'\\nAnd the respective distances are:{dist_kd}\\n')"
   ],
   "metadata": {
    "collapsed": false,
    "pycharm": {
     "name": "#%%\n"
    }
   }
  },
  {
   "cell_type": "markdown",
   "source": [
    "## Analysis\n",
    "The result is generally as expected. The nearest neighbors for each vehicle and each year are the same for both methods. The nearest neighbors change over time, but this is because not all vehicles are tested in these three years. Beyond that, the neighbors are of the same type as the chosen vehicles: neighbors of cars are cars, neighbors of SUVs are SUVs, and neighbors of sports cars are sports cars."
   ],
   "metadata": {
    "collapsed": false,
    "pycharm": {
     "name": "#%% md\n"
    }
   }
  },
  {
   "cell_type": "markdown",
   "source": [],
   "metadata": {
    "collapsed": false,
    "pycharm": {
     "name": "#%% md\n"
    }
   }
  }
 ],
 "metadata": {
  "kernelspec": {
   "display_name": "Python 3",
   "language": "python",
   "name": "python3"
  },
  "language_info": {
   "codemirror_mode": {
    "name": "ipython",
    "version": 2
   },
   "file_extension": ".py",
   "mimetype": "text/x-python",
   "name": "python",
   "nbconvert_exporter": "python",
   "pygments_lexer": "ipython2",
   "version": "2.7.6"
  }
 },
 "nbformat": 4,
 "nbformat_minor": 0
}