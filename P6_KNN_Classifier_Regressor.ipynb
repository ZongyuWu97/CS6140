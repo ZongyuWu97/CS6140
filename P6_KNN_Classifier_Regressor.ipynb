{
 "cells": [
  {
   "cell_type": "markdown",
   "id": "b626f311",
   "metadata": {
    "pycharm": {
     "name": "#%% md\n"
    }
   },
   "source": [
    "## <font color = darkblue> This is a starter example of KNN Regressor and Classifier\n",
    "    - Both use Nutrition data\n"
   ]
  },
  {
   "cell_type": "code",
   "execution_count": 1,
   "id": "58b088d5",
   "metadata": {
    "pycharm": {
     "name": "#%%\n"
    }
   },
   "outputs": [],
   "source": [
    "# ------------------------------------\n",
    "# Importing the necessary libraries\n",
    "# ------------------------------------\n",
    "\n",
    "import pandas as pd\n",
    "import numpy as np\n",
    "from sklearn.model_selection import train_test_split\n",
    "from sklearn.preprocessing import StandardScaler\n",
    "\n",
    "import seaborn as sns\n",
    "import warnings\n",
    "\n",
    "from datetime import datetime\n",
    "warnings.filterwarnings('ignore') \n",
    "sns.set(rc={'figure.figsize':(11,8)})\n",
    "pd.options.display.float_format = '{:.2f}'.format\n",
    "\n",
    "from sklearn.neighbors import KNeighborsClassifier\n",
    "from sklearn.neighbors import KNeighborsRegressor\n",
    "from sklearn.metrics import mean_squared_error, r2_score\n",
    "\n",
    "\n"
   ]
  },
  {
   "cell_type": "markdown",
   "id": "803f5a55",
   "metadata": {
    "pycharm": {
     "name": "#%% md\n"
    }
   },
   "source": [
    "## Importing nutrition data"
   ]
  },
  {
   "cell_type": "code",
   "execution_count": 2,
   "id": "eaaed72e",
   "metadata": {
    "pycharm": {
     "name": "#%%\n"
    }
   },
   "outputs": [
    {
     "name": "stdout",
     "output_type": "stream",
     "text": [
      "[Errno 2] No such file or directory: '/Volumes/LACIE SHARE/Courses/Roux /Machine Learning/Data'\n",
      "/Users/ZongyuWu/PycharmProjects/CS6140\n",
      "(6080, 15)\n"
     ]
    },
    {
     "data": {
      "text/plain": "   NDB_No               Shrt_Desc                   Long_Desc  \\\n0    1001        BUTTER,WITH SALT              Butter, salted   \n1    1002  BUTTER,WHIPPED,W/ SALT  Butter, whipped, with salt   \n2    1003    BUTTER OIL,ANHYDROUS       Butter oil, anhydrous   \n3    1004             CHEESE,BLUE                Cheese, blue   \n4    1005            CHEESE,BRICK               Cheese, brick   \n\n               FdGrp_Desc  Water_g  Energ_Kcal  Protein_g  Lipid_Tot_g  \\\n0  Dairy and Egg Products    15.87         717       0.85        81.11   \n1  Dairy and Egg Products    16.72         718       0.49        78.30   \n2  Dairy and Egg Products     0.24         876       0.28        99.48   \n3  Dairy and Egg Products    42.41         353      21.40        28.74   \n4  Dairy and Egg Products    41.11         371      23.24        29.68   \n\n   Carbohydrt_g  Fiber_TD_g  Sugar_Tot_g  Calcium_mg  Iron_mg  Magnesium_mg  \\\n0          0.06        0.00         0.06       24.00     0.02          2.00   \n1          2.87        0.00         0.06       23.00     0.05          1.00   \n2          0.00        0.00         0.00        4.00     0.00          0.00   \n3          2.34        0.00         0.50      528.00     0.31         23.00   \n4          2.79        0.00         0.51      674.00     0.43         24.00   \n\n   Phosphorus_mg  \n0          24.00  \n1          24.00  \n2           3.00  \n3         387.00  \n4         451.00  ",
      "text/html": "<div>\n<style scoped>\n    .dataframe tbody tr th:only-of-type {\n        vertical-align: middle;\n    }\n\n    .dataframe tbody tr th {\n        vertical-align: top;\n    }\n\n    .dataframe thead th {\n        text-align: right;\n    }\n</style>\n<table border=\"1\" class=\"dataframe\">\n  <thead>\n    <tr style=\"text-align: right;\">\n      <th></th>\n      <th>NDB_No</th>\n      <th>Shrt_Desc</th>\n      <th>Long_Desc</th>\n      <th>FdGrp_Desc</th>\n      <th>Water_g</th>\n      <th>Energ_Kcal</th>\n      <th>Protein_g</th>\n      <th>Lipid_Tot_g</th>\n      <th>Carbohydrt_g</th>\n      <th>Fiber_TD_g</th>\n      <th>Sugar_Tot_g</th>\n      <th>Calcium_mg</th>\n      <th>Iron_mg</th>\n      <th>Magnesium_mg</th>\n      <th>Phosphorus_mg</th>\n    </tr>\n  </thead>\n  <tbody>\n    <tr>\n      <td>0</td>\n      <td>1001</td>\n      <td>BUTTER,WITH SALT</td>\n      <td>Butter, salted</td>\n      <td>Dairy and Egg Products</td>\n      <td>15.87</td>\n      <td>717</td>\n      <td>0.85</td>\n      <td>81.11</td>\n      <td>0.06</td>\n      <td>0.00</td>\n      <td>0.06</td>\n      <td>24.00</td>\n      <td>0.02</td>\n      <td>2.00</td>\n      <td>24.00</td>\n    </tr>\n    <tr>\n      <td>1</td>\n      <td>1002</td>\n      <td>BUTTER,WHIPPED,W/ SALT</td>\n      <td>Butter, whipped, with salt</td>\n      <td>Dairy and Egg Products</td>\n      <td>16.72</td>\n      <td>718</td>\n      <td>0.49</td>\n      <td>78.30</td>\n      <td>2.87</td>\n      <td>0.00</td>\n      <td>0.06</td>\n      <td>23.00</td>\n      <td>0.05</td>\n      <td>1.00</td>\n      <td>24.00</td>\n    </tr>\n    <tr>\n      <td>2</td>\n      <td>1003</td>\n      <td>BUTTER OIL,ANHYDROUS</td>\n      <td>Butter oil, anhydrous</td>\n      <td>Dairy and Egg Products</td>\n      <td>0.24</td>\n      <td>876</td>\n      <td>0.28</td>\n      <td>99.48</td>\n      <td>0.00</td>\n      <td>0.00</td>\n      <td>0.00</td>\n      <td>4.00</td>\n      <td>0.00</td>\n      <td>0.00</td>\n      <td>3.00</td>\n    </tr>\n    <tr>\n      <td>3</td>\n      <td>1004</td>\n      <td>CHEESE,BLUE</td>\n      <td>Cheese, blue</td>\n      <td>Dairy and Egg Products</td>\n      <td>42.41</td>\n      <td>353</td>\n      <td>21.40</td>\n      <td>28.74</td>\n      <td>2.34</td>\n      <td>0.00</td>\n      <td>0.50</td>\n      <td>528.00</td>\n      <td>0.31</td>\n      <td>23.00</td>\n      <td>387.00</td>\n    </tr>\n    <tr>\n      <td>4</td>\n      <td>1005</td>\n      <td>CHEESE,BRICK</td>\n      <td>Cheese, brick</td>\n      <td>Dairy and Egg Products</td>\n      <td>41.11</td>\n      <td>371</td>\n      <td>23.24</td>\n      <td>29.68</td>\n      <td>2.79</td>\n      <td>0.00</td>\n      <td>0.51</td>\n      <td>674.00</td>\n      <td>0.43</td>\n      <td>24.00</td>\n      <td>451.00</td>\n    </tr>\n  </tbody>\n</table>\n</div>"
     },
     "execution_count": 2,
     "metadata": {},
     "output_type": "execute_result"
    }
   ],
   "source": [
    "%cd \"/Volumes/LACIE SHARE/Courses/Roux /Machine Learning/Data\"\n",
    "nut = pd.read_csv(\"Final_Nutrition.csv\")\n",
    "\n",
    "\n",
    "# ---------------------------------------------------------------------------------\n",
    "# Keeping only first 15 features for demonstration purposes, and no other reason\n",
    "# Also dropping  NAs\n",
    "# ---------------------------------------------------------------------------------\n",
    "\n",
    "nut = nut.iloc[:,range(15)].dropna()\n",
    "\n",
    "print(nut.shape)\n",
    "\n",
    "nut.head()"
   ]
  },
  {
   "cell_type": "code",
   "execution_count": 3,
   "id": "c5f1f54b",
   "metadata": {
    "pycharm": {
     "name": "#%%\n"
    }
   },
   "outputs": [],
   "source": [
    "# --------------------------------------------------------------------------------\n",
    "# # Separating the features and target\n",
    "# Notice no attention is paid to Test-Train separation. Consider that step as an \n",
    "# intergal part of ML pipeline, and should not be skipped\n",
    "# For simplicity, only a 1000 rows are used\n",
    "# --------------------------------------------------------------------------------\n",
    "\n",
    "X = nut.iloc[0:1000,[6,7,8]]\n",
    "y = nut['Energ_Kcal'][0:1000]\n",
    "\n",
    "\n",
    "# # ----------------------------------------------------------------------\n",
    "# # # # Feature Standardization\n",
    "# # ----------------------------------------------------------------------\n",
    "scaler = StandardScaler()\n",
    "X = scaler.fit_transform(X)\n"
   ]
  },
  {
   "cell_type": "markdown",
   "id": "6ccba3f3",
   "metadata": {
    "pycharm": {
     "name": "#%% md\n"
    }
   },
   "source": [
    "## Training a Regressor"
   ]
  },
  {
   "cell_type": "code",
   "execution_count": 4,
   "id": "7ae94d5f",
   "metadata": {
    "pycharm": {
     "name": "#%%\n"
    }
   },
   "outputs": [
    {
     "name": "stdout",
     "output_type": "stream",
     "text": [
      "Mean squared error: 563.8730666666667\n",
      "R-sq value is 0.991182169855629\n"
     ]
    }
   ],
   "source": [
    "\n",
    "# ---------------------------------------------\n",
    "# Split data into training and testing sets\n",
    "# ---------------------------------------------\n",
    "X_train, X_test, y_train, y_test = train_test_split(X, y, test_size=0.3, random_state=42)\n",
    "\n",
    "# ---------------------------------------------\n",
    "# Train a KNN regressor with 5 neighbors\n",
    "# Choice of neighbors is hyperparameter\n",
    "# ---------------------------------------------\n",
    "knn_reg = KNeighborsRegressor(n_neighbors=5, leaf_size=10)\n",
    "knn_reg.fit(X_train, y_train)\n",
    "\n",
    "# ---------------------------------------------\n",
    "# Make predictions on the testing set\n",
    "# ---------------------------------------------\n",
    "y_pred = knn_reg.predict(X_test)\n",
    "\n",
    "# ---------------------------------------------\n",
    "# Evaluate the MSE and R-squared values \n",
    "# ---------------------------------------------\n",
    "mse = mean_squared_error(y_test, y_pred)\n",
    "print(f\"Mean squared error: {mse}\")\n",
    "print(f\"R-sq value is {r2_score(y_test, y_pred)}\")\n",
    "\n"
   ]
  },
  {
   "cell_type": "markdown",
   "id": "8abcc30f",
   "metadata": {
    "pycharm": {
     "name": "#%% md\n"
    }
   },
   "source": [
    "## Training a Classifier"
   ]
  },
  {
   "cell_type": "code",
   "execution_count": 5,
   "id": "2b57180d",
   "metadata": {
    "pycharm": {
     "name": "#%%\n"
    }
   },
   "outputs": [
    {
     "name": "stdout",
     "output_type": "stream",
     "text": [
      "Accuracy: 0.83\n"
     ]
    }
   ],
   "source": [
    "# ----------------------------------------\n",
    "#Importing data and creating a binary response\n",
    "# ----------------------------------------\n",
    "\n",
    "X = nut.iloc[0:1000,8:]\n",
    "y = nut['Energ_Kcal'][0:1000]\n",
    "\n",
    "# High when calories > 160, else Low\n",
    "y_cat = np.where(y<160, 0,1)\n",
    "\n",
    "# Feature Standardization\n",
    "scaler = StandardScaler()\n",
    "X = scaler.fit_transform(X)\n",
    "\n",
    "# Split data into training and testing sets\n",
    "X_train, X_test, y_train, y_test = train_test_split(X, y_cat, test_size=0.2)\n",
    "\n",
    "# KNN classifier with 5 neighbors\n",
    "knn_clf = KNeighborsClassifier(n_neighbors=5)\n",
    "knn_clf.fit(X_train, y_train)\n",
    "\n",
    "# Make predictions on the testing set\n",
    "y_pred = knn_clf.predict(X_test)\n",
    "\n",
    "# Evaluate the accuracy of the classifier\n",
    "accuracy = knn_clf.score(X_test, y_test)\n",
    "print(\"Accuracy:\", accuracy)\n"
   ]
  }
 ],
 "metadata": {
  "kernelspec": {
   "display_name": "Python 3 (ipykernel)",
   "language": "python",
   "name": "python3"
  },
  "language_info": {
   "codemirror_mode": {
    "name": "ipython",
    "version": 3
   },
   "file_extension": ".py",
   "mimetype": "text/x-python",
   "name": "python",
   "nbconvert_exporter": "python",
   "pygments_lexer": "ipython3",
   "version": "3.8.5"
  }
 },
 "nbformat": 4,
 "nbformat_minor": 5
}