{
 "cells": [
  {
   "cell_type": "markdown",
   "source": [
    "## 1) Import and explore MNIST data"
   ],
   "metadata": {
    "collapsed": false,
    "pycharm": {
     "name": "#%% md\n"
    }
   }
  },
  {
   "cell_type": "code",
   "execution_count": 2,
   "outputs": [
    {
     "name": "stdout",
     "output_type": "stream",
     "text": [
      "09:57:34\n"
     ]
    },
    {
     "name": "stderr",
     "output_type": "stream",
     "text": [
      "/Users/ZongyuWu/miniforge3/lib/python3.10/site-packages/sklearn/datasets/_openml.py:968: FutureWarning: The default value of `parser` will change from `'liac-arff'` to `'auto'` in 1.4. You can set `parser='auto'` to silence this warning. Therefore, an `ImportError` will be raised from 1.4 if the dataset is dense and pandas is not installed. Note that the pandas parser may return different data types. See the Notes Section in fetch_openml's API doc for details.\n",
      "  warn(\n"
     ]
    },
    {
     "name": "stdout",
     "output_type": "stream",
     "text": [
      "09:58:05\n"
     ]
    }
   ],
   "source": [
    "# ------------------------------------------\n",
    "# import matplotlib.pyplot as plt\n",
    "# ------------------------------------------\n",
    "from sklearn.datasets import fetch_openml\n",
    "import datetime\n",
    "\n",
    "print(datetime.datetime.now().strftime(\"%H:%M:%S\"))\n",
    "\n",
    "# ------------------------------------------\n",
    "# Import MNIST data from openml.org\n",
    "# ------------------------------------------\n",
    "mnist = fetch_openml('mnist_784')\n",
    "\n",
    "print(datetime.datetime.now().strftime(\"%H:%M:%S\"))\n",
    "\n",
    "\n",
    "# ------------------------------------------\n",
    "# # Split data into features (X) and labels (y)\n",
    "# ------------------------------------------\n",
    "X, y = mnist[\"data\"], mnist[\"target\"]\n"
   ],
   "metadata": {
    "collapsed": false,
    "pycharm": {
     "name": "#%%\n"
    }
   }
  },
  {
   "cell_type": "code",
   "execution_count": 4,
   "outputs": [
    {
     "data": {
      "text/plain": "        pixel1   pixel2   pixel3   pixel4   pixel5   pixel6   pixel7   pixel8  \\\ncount  70000.0  70000.0  70000.0  70000.0  70000.0  70000.0  70000.0  70000.0   \nmean       0.0      0.0      0.0      0.0      0.0      0.0      0.0      0.0   \nstd        0.0      0.0      0.0      0.0      0.0      0.0      0.0      0.0   \nmin        0.0      0.0      0.0      0.0      0.0      0.0      0.0      0.0   \n25%        0.0      0.0      0.0      0.0      0.0      0.0      0.0      0.0   \n50%        0.0      0.0      0.0      0.0      0.0      0.0      0.0      0.0   \n75%        0.0      0.0      0.0      0.0      0.0      0.0      0.0      0.0   \nmax        0.0      0.0      0.0      0.0      0.0      0.0      0.0      0.0   \n\n        pixel9  pixel10  ...      pixel775      pixel776      pixel777  \\\ncount  70000.0  70000.0  ...  70000.000000  70000.000000  70000.000000   \nmean       0.0      0.0  ...      0.197414      0.099543      0.046629   \nstd        0.0      0.0  ...      5.991206      4.256304      2.783732   \nmin        0.0      0.0  ...      0.000000      0.000000      0.000000   \n25%        0.0      0.0  ...      0.000000      0.000000      0.000000   \n50%        0.0      0.0  ...      0.000000      0.000000      0.000000   \n75%        0.0      0.0  ...      0.000000      0.000000      0.000000   \nmax        0.0      0.0  ...    254.000000    254.000000    253.000000   \n\n           pixel778      pixel779      pixel780  pixel781  pixel782  pixel783  \\\ncount  70000.000000  70000.000000  70000.000000   70000.0   70000.0   70000.0   \nmean       0.016614      0.012957      0.001714       0.0       0.0       0.0   \nstd        1.561822      1.553796      0.320889       0.0       0.0       0.0   \nmin        0.000000      0.000000      0.000000       0.0       0.0       0.0   \n25%        0.000000      0.000000      0.000000       0.0       0.0       0.0   \n50%        0.000000      0.000000      0.000000       0.0       0.0       0.0   \n75%        0.000000      0.000000      0.000000       0.0       0.0       0.0   \nmax      253.000000    254.000000     62.000000       0.0       0.0       0.0   \n\n       pixel784  \ncount   70000.0  \nmean        0.0  \nstd         0.0  \nmin         0.0  \n25%         0.0  \n50%         0.0  \n75%         0.0  \nmax         0.0  \n\n[8 rows x 784 columns]",
      "text/html": "<div>\n<style scoped>\n    .dataframe tbody tr th:only-of-type {\n        vertical-align: middle;\n    }\n\n    .dataframe tbody tr th {\n        vertical-align: top;\n    }\n\n    .dataframe thead th {\n        text-align: right;\n    }\n</style>\n<table border=\"1\" class=\"dataframe\">\n  <thead>\n    <tr style=\"text-align: right;\">\n      <th></th>\n      <th>pixel1</th>\n      <th>pixel2</th>\n      <th>pixel3</th>\n      <th>pixel4</th>\n      <th>pixel5</th>\n      <th>pixel6</th>\n      <th>pixel7</th>\n      <th>pixel8</th>\n      <th>pixel9</th>\n      <th>pixel10</th>\n      <th>...</th>\n      <th>pixel775</th>\n      <th>pixel776</th>\n      <th>pixel777</th>\n      <th>pixel778</th>\n      <th>pixel779</th>\n      <th>pixel780</th>\n      <th>pixel781</th>\n      <th>pixel782</th>\n      <th>pixel783</th>\n      <th>pixel784</th>\n    </tr>\n  </thead>\n  <tbody>\n    <tr>\n      <th>count</th>\n      <td>70000.0</td>\n      <td>70000.0</td>\n      <td>70000.0</td>\n      <td>70000.0</td>\n      <td>70000.0</td>\n      <td>70000.0</td>\n      <td>70000.0</td>\n      <td>70000.0</td>\n      <td>70000.0</td>\n      <td>70000.0</td>\n      <td>...</td>\n      <td>70000.000000</td>\n      <td>70000.000000</td>\n      <td>70000.000000</td>\n      <td>70000.000000</td>\n      <td>70000.000000</td>\n      <td>70000.000000</td>\n      <td>70000.0</td>\n      <td>70000.0</td>\n      <td>70000.0</td>\n      <td>70000.0</td>\n    </tr>\n    <tr>\n      <th>mean</th>\n      <td>0.0</td>\n      <td>0.0</td>\n      <td>0.0</td>\n      <td>0.0</td>\n      <td>0.0</td>\n      <td>0.0</td>\n      <td>0.0</td>\n      <td>0.0</td>\n      <td>0.0</td>\n      <td>0.0</td>\n      <td>...</td>\n      <td>0.197414</td>\n      <td>0.099543</td>\n      <td>0.046629</td>\n      <td>0.016614</td>\n      <td>0.012957</td>\n      <td>0.001714</td>\n      <td>0.0</td>\n      <td>0.0</td>\n      <td>0.0</td>\n      <td>0.0</td>\n    </tr>\n    <tr>\n      <th>std</th>\n      <td>0.0</td>\n      <td>0.0</td>\n      <td>0.0</td>\n      <td>0.0</td>\n      <td>0.0</td>\n      <td>0.0</td>\n      <td>0.0</td>\n      <td>0.0</td>\n      <td>0.0</td>\n      <td>0.0</td>\n      <td>...</td>\n      <td>5.991206</td>\n      <td>4.256304</td>\n      <td>2.783732</td>\n      <td>1.561822</td>\n      <td>1.553796</td>\n      <td>0.320889</td>\n      <td>0.0</td>\n      <td>0.0</td>\n      <td>0.0</td>\n      <td>0.0</td>\n    </tr>\n    <tr>\n      <th>min</th>\n      <td>0.0</td>\n      <td>0.0</td>\n      <td>0.0</td>\n      <td>0.0</td>\n      <td>0.0</td>\n      <td>0.0</td>\n      <td>0.0</td>\n      <td>0.0</td>\n      <td>0.0</td>\n      <td>0.0</td>\n      <td>...</td>\n      <td>0.000000</td>\n      <td>0.000000</td>\n      <td>0.000000</td>\n      <td>0.000000</td>\n      <td>0.000000</td>\n      <td>0.000000</td>\n      <td>0.0</td>\n      <td>0.0</td>\n      <td>0.0</td>\n      <td>0.0</td>\n    </tr>\n    <tr>\n      <th>25%</th>\n      <td>0.0</td>\n      <td>0.0</td>\n      <td>0.0</td>\n      <td>0.0</td>\n      <td>0.0</td>\n      <td>0.0</td>\n      <td>0.0</td>\n      <td>0.0</td>\n      <td>0.0</td>\n      <td>0.0</td>\n      <td>...</td>\n      <td>0.000000</td>\n      <td>0.000000</td>\n      <td>0.000000</td>\n      <td>0.000000</td>\n      <td>0.000000</td>\n      <td>0.000000</td>\n      <td>0.0</td>\n      <td>0.0</td>\n      <td>0.0</td>\n      <td>0.0</td>\n    </tr>\n    <tr>\n      <th>50%</th>\n      <td>0.0</td>\n      <td>0.0</td>\n      <td>0.0</td>\n      <td>0.0</td>\n      <td>0.0</td>\n      <td>0.0</td>\n      <td>0.0</td>\n      <td>0.0</td>\n      <td>0.0</td>\n      <td>0.0</td>\n      <td>...</td>\n      <td>0.000000</td>\n      <td>0.000000</td>\n      <td>0.000000</td>\n      <td>0.000000</td>\n      <td>0.000000</td>\n      <td>0.000000</td>\n      <td>0.0</td>\n      <td>0.0</td>\n      <td>0.0</td>\n      <td>0.0</td>\n    </tr>\n    <tr>\n      <th>75%</th>\n      <td>0.0</td>\n      <td>0.0</td>\n      <td>0.0</td>\n      <td>0.0</td>\n      <td>0.0</td>\n      <td>0.0</td>\n      <td>0.0</td>\n      <td>0.0</td>\n      <td>0.0</td>\n      <td>0.0</td>\n      <td>...</td>\n      <td>0.000000</td>\n      <td>0.000000</td>\n      <td>0.000000</td>\n      <td>0.000000</td>\n      <td>0.000000</td>\n      <td>0.000000</td>\n      <td>0.0</td>\n      <td>0.0</td>\n      <td>0.0</td>\n      <td>0.0</td>\n    </tr>\n    <tr>\n      <th>max</th>\n      <td>0.0</td>\n      <td>0.0</td>\n      <td>0.0</td>\n      <td>0.0</td>\n      <td>0.0</td>\n      <td>0.0</td>\n      <td>0.0</td>\n      <td>0.0</td>\n      <td>0.0</td>\n      <td>0.0</td>\n      <td>...</td>\n      <td>254.000000</td>\n      <td>254.000000</td>\n      <td>253.000000</td>\n      <td>253.000000</td>\n      <td>254.000000</td>\n      <td>62.000000</td>\n      <td>0.0</td>\n      <td>0.0</td>\n      <td>0.0</td>\n      <td>0.0</td>\n    </tr>\n  </tbody>\n</table>\n<p>8 rows × 784 columns</p>\n</div>"
     },
     "execution_count": 4,
     "metadata": {},
     "output_type": "execute_result"
    }
   ],
   "source": [
    "X.describe()"
   ],
   "metadata": {
    "collapsed": false,
    "pycharm": {
     "name": "#%%\n"
    }
   }
  },
  {
   "cell_type": "markdown",
   "source": [
    "The above describe shows that the max value of many pixels are 0 which means they are black. Others have value vary from 0 to 255."
   ],
   "metadata": {
    "collapsed": false,
    "pycharm": {
     "name": "#%% md\n"
    }
   }
  },
  {
   "cell_type": "markdown",
   "source": [
    "### Add noise to data"
   ],
   "metadata": {
    "collapsed": false,
    "pycharm": {
     "name": "#%% md\n"
    }
   }
  },
  {
   "cell_type": "code",
   "execution_count": 3,
   "outputs": [],
   "source": [
    "from matplotlib import pyplot as plt\n",
    "import pandas as pd\n",
    "import numpy as np\n",
    "\n",
    "# -----------------------------------\n",
    "#  Add Gaussian noise to the images\n",
    "# -----------------------------------\n",
    "noisy_X_normal = np.clip(mnist['data'] + 100 * np.random.normal(size=X.shape), 0, 1)\n",
    "\n",
    "# -----------------------------------\n",
    "#  Add Uniform noise to the images\n",
    "# -----------------------------------\n",
    "noisy_X_uniform = np.clip(X + 100 * np.random.uniform(-1, 1, size=X.shape), 0, 1)\n",
    "\n",
    "\n",
    "# Convert feature data to DataFrame object\n",
    "df_original = pd.DataFrame(data=mnist['data'], columns=mnist['feature_names'])\n",
    "df_noisy_normal = pd.DataFrame(noisy_X_normal, columns=mnist['feature_names'])\n",
    "df_noisy_uniform = pd.DataFrame(noisy_X_uniform, columns=mnist['feature_names'])\n",
    "\n",
    "# Convert label data to NumPy array\n",
    "labels_original = np.array(mnist['target'])\n",
    "\n",
    "# ---------------------------------------------------------------------------------------\n",
    "# reshape method with the argument -1 indicates that the size of the first dimension\n",
    "# be automatically determined based on the size of the other dimensions.\n",
    "# Reshape feature data into 28x28 images\n",
    "images_original = df_original.to_numpy().reshape(-1, 28, 28)\n",
    "images_noisy_normal = df_noisy_normal.to_numpy().reshape(-1, 28, 28)\n",
    "images_noisy_uniform = df_noisy_uniform.to_numpy().reshape(-1, 28, 28)"
   ],
   "metadata": {
    "collapsed": false,
    "pycharm": {
     "name": "#%%\n"
    }
   }
  },
  {
   "cell_type": "markdown",
   "source": [
    "### Visualize original data"
   ],
   "metadata": {
    "collapsed": false,
    "pycharm": {
     "name": "#%% md\n"
    }
   }
  },
  {
   "cell_type": "code",
   "execution_count": 6,
   "outputs": [
    {
     "data": {
      "text/plain": "<Figure size 800x800 with 25 Axes>",
      "image/png": "[encoded data removed]"
     },
     "metadata": {},
     "output_type": "display_data"
    }
   ],
   "source": [
    "# Visualize first 25 images\n",
    "fig, axs = plt.subplots(5, 5, figsize=(8, 8))\n",
    "for i in range(5):\n",
    "    for j in range(5):\n",
    "        axs[i, j].imshow(images_original[i * 5 + j], cmap=\"gray\")\n",
    "#         axs[i, j].imshow(images_noisy_normal[i * 5 + j], cmap=\"gray\")\n",
    "#         axs[i, j].imshow(images_noisy_uniform[i * 5 + j], cmap=\"gray\")\n",
    "        axs[i, j].axis(\"off\")\n",
    "        axs[i, j].set_title(labels_original[i * 5 + j])\n",
    "plt.show()"
   ],
   "metadata": {
    "collapsed": false,
    "pycharm": {
     "name": "#%%\n"
    }
   }
  },
  {
   "cell_type": "markdown",
   "source": [
    "### Visualize gaussian noise data"
   ],
   "metadata": {
    "collapsed": false,
    "pycharm": {
     "name": "#%% md\n"
    }
   }
  },
  {
   "cell_type": "code",
   "execution_count": 7,
   "outputs": [
    {
     "data": {
      "text/plain": "<Figure size 800x800 with 25 Axes>",
      "image/png": "[encoded data removed]"
     },
     "metadata": {},
     "output_type": "display_data"
    }
   ],
   "source": [
    "fig, axs = plt.subplots(5, 5, figsize=(8, 8))\n",
    "for i in range(5):\n",
    "    for j in range(5):\n",
    "        # axs[i, j].imshow(images_original[i * 5 + j], cmap=\"gray\")\n",
    "        axs[i, j].imshow(images_noisy_normal[i * 5 + j], cmap=\"gray\")\n",
    "#         axs[i, j].imshow(images_noisy_uniform[i * 5 + j], cmap=\"gray\")\n",
    "        axs[i, j].axis(\"off\")\n",
    "        axs[i, j].set_title(labels_original[i * 5 + j])\n",
    "plt.show()"
   ],
   "metadata": {
    "collapsed": false,
    "pycharm": {
     "name": "#%%\n"
    }
   }
  },
  {
   "cell_type": "markdown",
   "source": [
    "### Visualize uniform noise data"
   ],
   "metadata": {
    "collapsed": false,
    "pycharm": {
     "name": "#%% md\n"
    }
   }
  },
  {
   "cell_type": "code",
   "execution_count": 8,
   "outputs": [
    {
     "data": {
      "text/plain": "<Figure size 800x800 with 25 Axes>",
      "image/png": "[encoded data removed]"
     },
     "metadata": {},
     "output_type": "display_data"
    }
   ],
   "source": [
    "fig, axs = plt.subplots(5, 5, figsize=(8, 8))\n",
    "for i in range(5):\n",
    "    for j in range(5):\n",
    "        # axs[i, j].imshow(images_original[i * 5 + j], cmap=\"gray\")\n",
    "#         axs[i, j].imshow(images_noisy_normal[i * 5 + j], cmap=\"gray\")\n",
    "        axs[i, j].imshow(images_noisy_uniform[i * 5 + j], cmap=\"gray\")\n",
    "        axs[i, j].axis(\"off\")\n",
    "        axs[i, j].set_title(labels_original[i * 5 + j])\n",
    "plt.show()"
   ],
   "metadata": {
    "collapsed": false,
    "pycharm": {
     "name": "#%%\n"
    }
   }
  },
  {
   "cell_type": "markdown",
   "source": [
    "## 2) Standardize the data"
   ],
   "metadata": {
    "collapsed": false,
    "pycharm": {
     "name": "#%% md\n"
    }
   }
  },
  {
   "cell_type": "markdown",
   "source": [
    "Will use the uniform noise data as noise data.\n",
    "Standardize by dividing by 255."
   ],
   "metadata": {
    "collapsed": false,
    "pycharm": {
     "name": "#%% md\n"
    }
   }
  },
  {
   "cell_type": "code",
   "execution_count": 4,
   "outputs": [],
   "source": [
    "df_original = df_original / 255\n",
    "df_noisy_uniform = df_noisy_uniform / 255"
   ],
   "metadata": {
    "collapsed": false,
    "pycharm": {
     "name": "#%%\n"
    }
   }
  },
  {
   "cell_type": "markdown",
   "source": [
    "Now the data is from 0 to 1."
   ],
   "metadata": {
    "collapsed": false,
    "pycharm": {
     "name": "#%% md\n"
    }
   }
  },
  {
   "cell_type": "code",
   "execution_count": 10,
   "outputs": [
    {
     "data": {
      "text/plain": "        pixel1   pixel2   pixel3   pixel4   pixel5   pixel6   pixel7   pixel8  \\\ncount  70000.0  70000.0  70000.0  70000.0  70000.0  70000.0  70000.0  70000.0   \nmean       0.0      0.0      0.0      0.0      0.0      0.0      0.0      0.0   \nstd        0.0      0.0      0.0      0.0      0.0      0.0      0.0      0.0   \nmin        0.0      0.0      0.0      0.0      0.0      0.0      0.0      0.0   \n25%        0.0      0.0      0.0      0.0      0.0      0.0      0.0      0.0   \n50%        0.0      0.0      0.0      0.0      0.0      0.0      0.0      0.0   \n75%        0.0      0.0      0.0      0.0      0.0      0.0      0.0      0.0   \nmax        0.0      0.0      0.0      0.0      0.0      0.0      0.0      0.0   \n\n        pixel9  pixel10  ...      pixel775      pixel776      pixel777  \\\ncount  70000.0  70000.0  ...  70000.000000  70000.000000  70000.000000   \nmean       0.0      0.0  ...      0.000774      0.000390      0.000183   \nstd        0.0      0.0  ...      0.023495      0.016691      0.010917   \nmin        0.0      0.0  ...      0.000000      0.000000      0.000000   \n25%        0.0      0.0  ...      0.000000      0.000000      0.000000   \n50%        0.0      0.0  ...      0.000000      0.000000      0.000000   \n75%        0.0      0.0  ...      0.000000      0.000000      0.000000   \nmax        0.0      0.0  ...      0.996078      0.996078      0.992157   \n\n           pixel778      pixel779      pixel780  pixel781  pixel782  pixel783  \\\ncount  70000.000000  70000.000000  70000.000000   70000.0   70000.0   70000.0   \nmean       0.000065      0.000051      0.000007       0.0       0.0       0.0   \nstd        0.006125      0.006093      0.001258       0.0       0.0       0.0   \nmin        0.000000      0.000000      0.000000       0.0       0.0       0.0   \n25%        0.000000      0.000000      0.000000       0.0       0.0       0.0   \n50%        0.000000      0.000000      0.000000       0.0       0.0       0.0   \n75%        0.000000      0.000000      0.000000       0.0       0.0       0.0   \nmax        0.992157      0.996078      0.243137       0.0       0.0       0.0   \n\n       pixel784  \ncount   70000.0  \nmean        0.0  \nstd         0.0  \nmin         0.0  \n25%         0.0  \n50%         0.0  \n75%         0.0  \nmax         0.0  \n\n[8 rows x 784 columns]",
      "text/html": "<div>\n<style scoped>\n    .dataframe tbody tr th:only-of-type {\n        vertical-align: middle;\n    }\n\n    .dataframe tbody tr th {\n        vertical-align: top;\n    }\n\n    .dataframe thead th {\n        text-align: right;\n    }\n</style>\n<table border=\"1\" class=\"dataframe\">\n  <thead>\n    <tr style=\"text-align: right;\">\n      <th></th>\n      <th>pixel1</th>\n      <th>pixel2</th>\n      <th>pixel3</th>\n      <th>pixel4</th>\n      <th>pixel5</th>\n      <th>pixel6</th>\n      <th>pixel7</th>\n      <th>pixel8</th>\n      <th>pixel9</th>\n      <th>pixel10</th>\n      <th>...</th>\n      <th>pixel775</th>\n      <th>pixel776</th>\n      <th>pixel777</th>\n      <th>pixel778</th>\n      <th>pixel779</th>\n      <th>pixel780</th>\n      <th>pixel781</th>\n      <th>pixel782</th>\n      <th>pixel783</th>\n      <th>pixel784</th>\n    </tr>\n  </thead>\n  <tbody>\n    <tr>\n      <th>count</th>\n      <td>70000.0</td>\n      <td>70000.0</td>\n      <td>70000.0</td>\n      <td>70000.0</td>\n      <td>70000.0</td>\n      <td>70000.0</td>\n      <td>70000.0</td>\n      <td>70000.0</td>\n      <td>70000.0</td>\n      <td>70000.0</td>\n      <td>...</td>\n      <td>70000.000000</td>\n      <td>70000.000000</td>\n      <td>70000.000000</td>\n      <td>70000.000000</td>\n      <td>70000.000000</td>\n      <td>70000.000000</td>\n      <td>70000.0</td>\n      <td>70000.0</td>\n      <td>70000.0</td>\n      <td>70000.0</td>\n    </tr>\n    <tr>\n      <th>mean</th>\n      <td>0.0</td>\n      <td>0.0</td>\n      <td>0.0</td>\n      <td>0.0</td>\n      <td>0.0</td>\n      <td>0.0</td>\n      <td>0.0</td>\n      <td>0.0</td>\n      <td>0.0</td>\n      <td>0.0</td>\n      <td>...</td>\n      <td>0.000774</td>\n      <td>0.000390</td>\n      <td>0.000183</td>\n      <td>0.000065</td>\n      <td>0.000051</td>\n      <td>0.000007</td>\n      <td>0.0</td>\n      <td>0.0</td>\n      <td>0.0</td>\n      <td>0.0</td>\n    </tr>\n    <tr>\n      <th>std</th>\n      <td>0.0</td>\n      <td>0.0</td>\n      <td>0.0</td>\n      <td>0.0</td>\n      <td>0.0</td>\n      <td>0.0</td>\n      <td>0.0</td>\n      <td>0.0</td>\n      <td>0.0</td>\n      <td>0.0</td>\n      <td>...</td>\n      <td>0.023495</td>\n      <td>0.016691</td>\n      <td>0.010917</td>\n      <td>0.006125</td>\n      <td>0.006093</td>\n      <td>0.001258</td>\n      <td>0.0</td>\n      <td>0.0</td>\n      <td>0.0</td>\n      <td>0.0</td>\n    </tr>\n    <tr>\n      <th>min</th>\n      <td>0.0</td>\n      <td>0.0</td>\n      <td>0.0</td>\n      <td>0.0</td>\n      <td>0.0</td>\n      <td>0.0</td>\n      <td>0.0</td>\n      <td>0.0</td>\n      <td>0.0</td>\n      <td>0.0</td>\n      <td>...</td>\n      <td>0.000000</td>\n      <td>0.000000</td>\n      <td>0.000000</td>\n      <td>0.000000</td>\n      <td>0.000000</td>\n      <td>0.000000</td>\n      <td>0.0</td>\n      <td>0.0</td>\n      <td>0.0</td>\n      <td>0.0</td>\n    </tr>\n    <tr>\n      <th>25%</th>\n      <td>0.0</td>\n      <td>0.0</td>\n      <td>0.0</td>\n      <td>0.0</td>\n      <td>0.0</td>\n      <td>0.0</td>\n      <td>0.0</td>\n      <td>0.0</td>\n      <td>0.0</td>\n      <td>0.0</td>\n      <td>...</td>\n      <td>0.000000</td>\n      <td>0.000000</td>\n      <td>0.000000</td>\n      <td>0.000000</td>\n      <td>0.000000</td>\n      <td>0.000000</td>\n      <td>0.0</td>\n      <td>0.0</td>\n      <td>0.0</td>\n      <td>0.0</td>\n    </tr>\n    <tr>\n      <th>50%</th>\n      <td>0.0</td>\n      <td>0.0</td>\n      <td>0.0</td>\n      <td>0.0</td>\n      <td>0.0</td>\n      <td>0.0</td>\n      <td>0.0</td>\n      <td>0.0</td>\n      <td>0.0</td>\n      <td>0.0</td>\n      <td>...</td>\n      <td>0.000000</td>\n      <td>0.000000</td>\n      <td>0.000000</td>\n      <td>0.000000</td>\n      <td>0.000000</td>\n      <td>0.000000</td>\n      <td>0.0</td>\n      <td>0.0</td>\n      <td>0.0</td>\n      <td>0.0</td>\n    </tr>\n    <tr>\n      <th>75%</th>\n      <td>0.0</td>\n      <td>0.0</td>\n      <td>0.0</td>\n      <td>0.0</td>\n      <td>0.0</td>\n      <td>0.0</td>\n      <td>0.0</td>\n      <td>0.0</td>\n      <td>0.0</td>\n      <td>0.0</td>\n      <td>...</td>\n      <td>0.000000</td>\n      <td>0.000000</td>\n      <td>0.000000</td>\n      <td>0.000000</td>\n      <td>0.000000</td>\n      <td>0.000000</td>\n      <td>0.0</td>\n      <td>0.0</td>\n      <td>0.0</td>\n      <td>0.0</td>\n    </tr>\n    <tr>\n      <th>max</th>\n      <td>0.0</td>\n      <td>0.0</td>\n      <td>0.0</td>\n      <td>0.0</td>\n      <td>0.0</td>\n      <td>0.0</td>\n      <td>0.0</td>\n      <td>0.0</td>\n      <td>0.0</td>\n      <td>0.0</td>\n      <td>...</td>\n      <td>0.996078</td>\n      <td>0.996078</td>\n      <td>0.992157</td>\n      <td>0.992157</td>\n      <td>0.996078</td>\n      <td>0.243137</td>\n      <td>0.0</td>\n      <td>0.0</td>\n      <td>0.0</td>\n      <td>0.0</td>\n    </tr>\n  </tbody>\n</table>\n<p>8 rows × 784 columns</p>\n</div>"
     },
     "execution_count": 10,
     "metadata": {},
     "output_type": "execute_result"
    }
   ],
   "source": [
    "df_original.describe()"
   ],
   "metadata": {
    "collapsed": false,
    "pycharm": {
     "name": "#%%\n"
    }
   }
  },
  {
   "cell_type": "markdown",
   "source": [
    "## 3) Identify outliers and create their own cluster."
   ],
   "metadata": {
    "collapsed": false,
    "pycharm": {
     "name": "#%% md\n"
    }
   }
  },
  {
   "cell_type": "markdown",
   "source": [
    "### Detect outlier with three methods on the original data"
   ],
   "metadata": {
    "collapsed": false,
    "pycharm": {
     "name": "#%% md\n"
    }
   }
  },
  {
   "cell_type": "code",
   "execution_count": 6,
   "outputs": [
    {
     "name": "stderr",
     "output_type": "stream",
     "text": [
      "/Users/ZongyuWu/miniforge3/lib/python3.10/site-packages/sklearn/base.py:439: UserWarning: X does not have valid feature names, but IsolationForest was fitted with feature names\n",
      "  warnings.warn(\n",
      "/Users/ZongyuWu/miniforge3/lib/python3.10/site-packages/sklearn/covariance/_robust_covariance.py:745: UserWarning: The covariance matrix associated to your dataset is not full rank\n",
      "  warnings.warn(\n"
     ]
    }
   ],
   "source": [
    "from sklearn.covariance import EllipticEnvelope\n",
    "from sklearn.ensemble import IsolationForest\n",
    "from sklearn.neighbors import LocalOutlierFactor\n",
    "\n",
    "# -----------------------------------------------------------------------------\n",
    "# Step 3a\n",
    "# fit the Local Outlier Factor model (based on KNN)\n",
    "# Notice the contamination parameter to identify a certain proportion of outliers\n",
    "# -----------------------------------------------------------------------------\n",
    "\n",
    "lof = LocalOutlierFactor(n_neighbors=20, contamination=0.05)\n",
    "# predict the labels for each data point (as Outlier or inlier)\n",
    "y_pred_lof = lof.fit_predict(df_original)\n",
    "\n",
    "# -----------------------------------------------------------------------------\n",
    "# Step 3b\n",
    "# fit the Isolation Forest outlier detection (based on decision trees)\n",
    "# -----------------------------------------------------------------------------\n",
    "iforest = IsolationForest(n_estimators=100,  contamination=0.05)\n",
    "# predict the labels for each data point (as Outlier or inlier)\n",
    "y_pred_if = iforest.fit_predict(df_original)\n",
    "\n",
    "\n",
    "# -----------------------------------------------------------------------------\n",
    "# Step 3c\n",
    "# fit the robust covariance model (based on Mahalanobis distance)\n",
    "# -----------------------------------------------------------------------------\n",
    "rob_cov = EllipticEnvelope(contamination=0.05)\n",
    "rob_cov.fit(X)\n",
    "\n",
    "# predict the labels for each data point (as Outlier or inlier)\n",
    "y_pred_rob = rob_cov.predict(df_original)\n",
    "\n",
    "# -----------------------------------------------------------------------------\n",
    "# Adding the newly created columns to the nutrotion table\n",
    "# -----------------------------------------------------------------------------\n",
    "outlier = pd.DataFrame()\n",
    "outlier[\"y_pred_lof\"] = y_pred_lof\n",
    "outlier[\"y_pred_if\"] = y_pred_if\n",
    "outlier[\"y_pred_rob\"] = y_pred_rob\n",
    "\n",
    "# -----------------------------------------------------------------------------\n",
    "# Converting them to a binary -1, 0.\n",
    "# Where -1 denotes outlier\n",
    "# The purpose is to then add these columns and find out which rows were identified as outliers from multiple methods\n",
    "# -----------------------------------------------------------------------------\n",
    "outlier[\"y_pred_lof_2\"] = np.where(outlier[\"y_pred_lof\"] < 0, -1, 0)\n",
    "outlier[\"y_pred_if_2\"] = np.where(outlier[\"y_pred_if\"] < 0, -1, 0)\n",
    "outlier[\"y_pred_rob_2\"] = np.where(outlier[\"y_pred_rob\"] < 0, -1, 0)\n"
   ],
   "metadata": {
    "collapsed": false,
    "pycharm": {
     "name": "#%%\n"
    }
   }
  },
  {
   "cell_type": "markdown",
   "source": [
    "### Show rows detected as outlier"
   ],
   "metadata": {
    "collapsed": false,
    "pycharm": {
     "name": "#%% md\n"
    }
   }
  },
  {
   "cell_type": "code",
   "execution_count": 7,
   "outputs": [
    {
     "name": "stdout",
     "output_type": "stream",
     "text": [
      " 0    63193\n",
      "-1     6614\n",
      "-2      193\n",
      "Name: all_out, dtype: int64\n"
     ]
    },
    {
     "data": {
      "text/plain": "       y_pred_lof  y_pred_if  y_pred_rob  y_pred_lof_2  y_pred_if_2  \\\n440            -1         -1           1            -1           -1   \n1930           -1         -1           1            -1           -1   \n3106           -1         -1           1            -1           -1   \n3362           -1         -1           1            -1           -1   \n3524           -1         -1           1            -1           -1   \n...           ...        ...         ...           ...          ...   \n68116          -1         -1           1            -1           -1   \n68332          -1         -1           1            -1           -1   \n68553          -1         -1           1            -1           -1   \n68561          -1         -1           1            -1           -1   \n69980          -1         -1           1            -1           -1   \n\n       y_pred_rob_2  all_out  \n440               0       -2  \n1930              0       -2  \n3106              0       -2  \n3362              0       -2  \n3524              0       -2  \n...             ...      ...  \n68116             0       -2  \n68332             0       -2  \n68553             0       -2  \n68561             0       -2  \n69980             0       -2  \n\n[193 rows x 7 columns]",
      "text/html": "<div>\n<style scoped>\n    .dataframe tbody tr th:only-of-type {\n        vertical-align: middle;\n    }\n\n    .dataframe tbody tr th {\n        vertical-align: top;\n    }\n\n    .dataframe thead th {\n        text-align: right;\n    }\n</style>\n<table border=\"1\" class=\"dataframe\">\n  <thead>\n    <tr style=\"text-align: right;\">\n      <th></th>\n      <th>y_pred_lof</th>\n      <th>y_pred_if</th>\n      <th>y_pred_rob</th>\n      <th>y_pred_lof_2</th>\n      <th>y_pred_if_2</th>\n      <th>y_pred_rob_2</th>\n      <th>all_out</th>\n    </tr>\n  </thead>\n  <tbody>\n    <tr>\n      <th>440</th>\n      <td>-1</td>\n      <td>-1</td>\n      <td>1</td>\n      <td>-1</td>\n      <td>-1</td>\n      <td>0</td>\n      <td>-2</td>\n    </tr>\n    <tr>\n      <th>1930</th>\n      <td>-1</td>\n      <td>-1</td>\n      <td>1</td>\n      <td>-1</td>\n      <td>-1</td>\n      <td>0</td>\n      <td>-2</td>\n    </tr>\n    <tr>\n      <th>3106</th>\n      <td>-1</td>\n      <td>-1</td>\n      <td>1</td>\n      <td>-1</td>\n      <td>-1</td>\n      <td>0</td>\n      <td>-2</td>\n    </tr>\n    <tr>\n      <th>3362</th>\n      <td>-1</td>\n      <td>-1</td>\n      <td>1</td>\n      <td>-1</td>\n      <td>-1</td>\n      <td>0</td>\n      <td>-2</td>\n    </tr>\n    <tr>\n      <th>3524</th>\n      <td>-1</td>\n      <td>-1</td>\n      <td>1</td>\n      <td>-1</td>\n      <td>-1</td>\n      <td>0</td>\n      <td>-2</td>\n    </tr>\n    <tr>\n      <th>...</th>\n      <td>...</td>\n      <td>...</td>\n      <td>...</td>\n      <td>...</td>\n      <td>...</td>\n      <td>...</td>\n      <td>...</td>\n    </tr>\n    <tr>\n      <th>68116</th>\n      <td>-1</td>\n      <td>-1</td>\n      <td>1</td>\n      <td>-1</td>\n      <td>-1</td>\n      <td>0</td>\n      <td>-2</td>\n    </tr>\n    <tr>\n      <th>68332</th>\n      <td>-1</td>\n      <td>-1</td>\n      <td>1</td>\n      <td>-1</td>\n      <td>-1</td>\n      <td>0</td>\n      <td>-2</td>\n    </tr>\n    <tr>\n      <th>68553</th>\n      <td>-1</td>\n      <td>-1</td>\n      <td>1</td>\n      <td>-1</td>\n      <td>-1</td>\n      <td>0</td>\n      <td>-2</td>\n    </tr>\n    <tr>\n      <th>68561</th>\n      <td>-1</td>\n      <td>-1</td>\n      <td>1</td>\n      <td>-1</td>\n      <td>-1</td>\n      <td>0</td>\n      <td>-2</td>\n    </tr>\n    <tr>\n      <th>69980</th>\n      <td>-1</td>\n      <td>-1</td>\n      <td>1</td>\n      <td>-1</td>\n      <td>-1</td>\n      <td>0</td>\n      <td>-2</td>\n    </tr>\n  </tbody>\n</table>\n<p>193 rows × 7 columns</p>\n</div>"
     },
     "execution_count": 7,
     "metadata": {},
     "output_type": "execute_result"
    }
   ],
   "source": [
    "outlier[\"all_out\"] = outlier.loc[:,[\"y_pred_if_2\",\"y_pred_rob_2\",\"y_pred_lof_2\"]].sum(axis = 1)\n",
    "print(outlier[\"all_out\"].value_counts())\n",
    "\n",
    "# -----------------------------------------------------------------------------\n",
    "# List of food items identified as outliers based by at least two methods\n",
    "# -----------------------------------------------------------------------------\n",
    "outlier[outlier[\"all_out\"] < -1]"
   ],
   "metadata": {
    "collapsed": false,
    "pycharm": {
     "name": "#%%\n"
    }
   }
  },
  {
   "cell_type": "markdown",
   "source": [
    "## 4) Filter out outliers and perform clustering using the above techniques."
   ],
   "metadata": {
    "collapsed": false,
    "pycharm": {
     "name": "#%% md\n"
    }
   }
  },
  {
   "cell_type": "markdown",
   "source": [
    "### Filter out outliers"
   ],
   "metadata": {
    "collapsed": false,
    "pycharm": {
     "name": "#%% md\n"
    }
   }
  },
  {
   "cell_type": "code",
   "execution_count": 8,
   "outputs": [],
   "source": [
    "df_original = df_original[outlier['all_out'] >= -1]\n",
    "df_noisy_uniform = df_noisy_uniform[outlier['all_out'] >= -1]\n",
    "labels_original = labels_original[outlier['all_out'] >= -1]"
   ],
   "metadata": {
    "collapsed": false,
    "pycharm": {
     "name": "#%%\n"
    }
   }
  },
  {
   "cell_type": "markdown",
   "source": [
    "### Cluster on original data"
   ],
   "metadata": {
    "collapsed": false,
    "pycharm": {
     "name": "#%% md\n"
    }
   }
  },
  {
   "cell_type": "markdown",
   "source": [
    "### K Means"
   ],
   "metadata": {
    "collapsed": false,
    "pycharm": {
     "name": "#%% md\n"
    }
   }
  },
  {
   "cell_type": "code",
   "execution_count": 51,
   "outputs": [
    {
     "name": "stderr",
     "output_type": "stream",
     "text": [
      "/Users/ZongyuWu/miniforge3/lib/python3.10/site-packages/sklearn/cluster/_kmeans.py:870: FutureWarning: The default value of `n_init` will change from 10 to 'auto' in 1.4. Set the value of `n_init` explicitly to suppress the warning\n",
      "  warnings.warn(\n"
     ]
    }
   ],
   "source": [
    "from sklearn.cluster import KMeans\n",
    "\n",
    "# ----------------------------------------\n",
    "# Create KMeans object with # clusters of your choice\n",
    "# ----------------------------------------\n",
    "kmeans = KMeans(n_clusters=10, random_state=100)\n",
    "\n",
    "# ----------------------------------------\n",
    "# Fit KMeans model to the data\n",
    "# ----------------------------------------\n",
    "kmeans.fit(df_original)\n",
    "\n",
    "# ----------------------------------------\n",
    "# Get the cluster labels and centroids\n",
    "# ----------------------------------------\n",
    "labels = kmeans.labels_\n",
    "centroids = kmeans.cluster_centers_\n"
   ],
   "metadata": {
    "collapsed": false,
    "pycharm": {
     "name": "#%%\n"
    }
   }
  },
  {
   "cell_type": "markdown",
   "source": [
    "### Draw 10 image from each cluster"
   ],
   "metadata": {
    "collapsed": false,
    "pycharm": {
     "name": "#%% md\n"
    }
   }
  },
  {
   "cell_type": "code",
   "execution_count": 60,
   "outputs": [
    {
     "data": {
      "text/plain": "<Figure size 800x300 with 10 Axes>",
      "image/png": "[encoded data removed]"
     },
     "metadata": {},
     "output_type": "display_data"
    }
   ],
   "source": [
    "# ---------------------------------------------------------------------------------------\n",
    "# reshape method with the argument -1 indicates that the size of the first dimension\n",
    "# be automatically determined based on the size of the other dimensions.\n",
    "# Reshape feature data into 28x28 images\n",
    "# Then plot the centroids of each cluster\n",
    "fig, axs = plt.subplots(2, 5, figsize=(8, 3))\n",
    "shown = set()\n",
    "i = 0\n",
    "while len(shown) < 10 and i < labels.shape[0]:\n",
    "    if labels[i] in shown:\n",
    "        i += 1\n",
    "        continue\n",
    "    images = np.array(df_original.iloc[i, :]).reshape(28, 28)\n",
    "    row, col = len(shown) // 5, len(shown) % 5\n",
    "    axs[row, col].imshow(images, cmap=\"gray\")\n",
    "    axs[row, col].axis(\"off\")\n",
    "    axs[row, col].set_title(labels_original[i])\n",
    "    shown.add(labels[i])\n",
    "    i += 1\n",
    "\n",
    "plt.show()"
   ],
   "metadata": {
    "collapsed": false,
    "pycharm": {
     "name": "#%%\n"
    }
   }
  },
  {
   "cell_type": "markdown",
   "source": [
    "### Mini Batch K Means"
   ],
   "metadata": {
    "collapsed": false,
    "pycharm": {
     "name": "#%% md\n"
    }
   }
  },
  {
   "cell_type": "code",
   "execution_count": 65,
   "outputs": [
    {
     "name": "stderr",
     "output_type": "stream",
     "text": [
      "/Users/ZongyuWu/miniforge3/lib/python3.10/site-packages/sklearn/cluster/_kmeans.py:870: FutureWarning: The default value of `n_init` will change from 3 to 'auto' in 1.4. Set the value of `n_init` explicitly to suppress the warning\n",
      "  warnings.warn(\n"
     ]
    }
   ],
   "source": [
    "from sklearn.cluster import MiniBatchKMeans\n",
    "\n",
    "# -----------------------------------------------------------------------------\n",
    "# Create MiniBatchKMeans object with 3 clusters and a batch size of 10\n",
    "# -----------------------------------------------------------------------------\n",
    "mbkmeans = MiniBatchKMeans(n_clusters=10, batch_size=10, random_state=100)\n",
    "\n",
    "# -----------------------------------------------------------------------------\n",
    "# Fit MiniBatchKMeans model to the data\n",
    "# -----------------------------------------------------------------------------\n",
    "mbkmeans.fit(df_original)\n",
    "\n",
    "# -----------------------------------------------------------------------------\n",
    "# Get the cluster labels and centroids\n",
    "# -----------------------------------------------------------------------------\n",
    "labels = mbkmeans.labels_\n",
    "centroids = mbkmeans.cluster_centers_"
   ],
   "metadata": {
    "collapsed": false,
    "pycharm": {
     "name": "#%%\n"
    }
   }
  },
  {
   "cell_type": "markdown",
   "source": [
    "### Draw 10 image from each cluster"
   ],
   "metadata": {
    "collapsed": false,
    "pycharm": {
     "name": "#%% md\n"
    }
   }
  },
  {
   "cell_type": "code",
   "execution_count": 66,
   "outputs": [
    {
     "data": {
      "text/plain": "<Figure size 800x300 with 10 Axes>",
      "image/png": "[encoded data removed]"
     },
     "metadata": {},
     "output_type": "display_data"
    }
   ],
   "source": [
    " # ---------------------------------------------------------------------------------------\n",
    "# reshape method with the argument -1 indicates that the size of the first dimension\n",
    "# be automatically determined based on the size of the other dimensions.\n",
    "# Reshape feature data into 28x28 images\n",
    "# Then plot the centroids of each cluster\n",
    "fig, axs = plt.subplots(2, 5, figsize=(8, 3))\n",
    "shown = set()\n",
    "i = 0\n",
    "while len(shown) < 10 and i < labels.shape[0]:\n",
    "    if labels[i] in shown:\n",
    "        i += 1\n",
    "        continue\n",
    "    images = np.array(df_original.iloc[i, :]).reshape(28, 28)\n",
    "    row, col = len(shown) // 5, len(shown) % 5\n",
    "    axs[row, col].imshow(images, cmap=\"gray\")\n",
    "    axs[row, col].axis(\"off\")\n",
    "    axs[row, col].set_title(labels_original[i])\n",
    "    shown.add(labels[i])\n",
    "    i += 1\n",
    "\n",
    "plt.show()"
   ],
   "metadata": {
    "collapsed": false,
    "pycharm": {
     "name": "#%%\n"
    }
   }
  },
  {
   "cell_type": "markdown",
   "source": [
    "### DBSCAN"
   ],
   "metadata": {
    "collapsed": false,
    "pycharm": {
     "name": "#%% md\n"
    }
   }
  },
  {
   "cell_type": "code",
   "execution_count": null,
   "outputs": [],
   "source": [
    "from sklearn.cluster import DBSCAN\n",
    "\n",
    "# -----------------------------------\n",
    "# Create the DBSCAN model\n",
    "# -----------------------------------\n",
    "dbscan = DBSCAN(eps=2, min_samples=15)\n",
    "\n",
    "# Fit the model to the data\n",
    "dbscan.fit(df_original)\n",
    "\n",
    "# Get the labels and number of clusters\n",
    "labels = dbscan.labels_\n",
    "n_clusters = len(set(labels)) - (1 if -1 in labels else 0)"
   ],
   "metadata": {
    "collapsed": false,
    "pycharm": {
     "name": "#%%\n"
    }
   }
  },
  {
   "cell_type": "markdown",
   "source": [
    "### Draw 10 images. There's only one cluster."
   ],
   "metadata": {
    "collapsed": false,
    "pycharm": {
     "name": "#%% md\n"
    }
   }
  },
  {
   "cell_type": "code",
   "execution_count": 81,
   "outputs": [
    {
     "name": "stdout",
     "output_type": "stream",
     "text": [
      "There are 1 clusters.\n"
     ]
    },
    {
     "data": {
      "text/plain": "<Figure size 800x300 with 10 Axes>",
      "image/png": "[encoded data removed]"
     },
     "metadata": {},
     "output_type": "display_data"
    }
   ],
   "source": [
    " # ---------------------------------------------------------------------------------------\n",
    "# reshape method with the argument -1 indicates that the size of the first dimension\n",
    "# be automatically determined based on the size of the other dimensions.\n",
    "# Reshape feature data into 28x28 images\n",
    "# Then plot the centroids of each cluster\n",
    "fig, axs = plt.subplots(2, 5, figsize=(8, 3))\n",
    "shown = set()\n",
    "i = 0\n",
    "count = 0\n",
    "while len(shown) < 10 and i < labels.shape[0]:\n",
    "    if (labels[i] in shown and i < labels.shape[0] - 10) or count >= 10:\n",
    "        i += 1\n",
    "        continue\n",
    "    images = np.array(df_original.iloc[i, :]).reshape(28, 28)\n",
    "    row, col = count // 5, count % 5\n",
    "    axs[row, col].imshow(images, cmap=\"gray\")\n",
    "    axs[row, col].axis(\"off\")\n",
    "    axs[row, col].set_title(labels_original[i])\n",
    "    shown.add(labels[i])\n",
    "    i += 1\n",
    "    count += 1\n",
    "\n",
    "print(f'There are {n_clusters} clusters.')\n",
    "plt.show()"
   ],
   "metadata": {
    "collapsed": false,
    "pycharm": {
     "name": "#%%\n"
    }
   }
  },
  {
   "cell_type": "markdown",
   "source": [
    "### HDBSCAN"
   ],
   "metadata": {
    "collapsed": false,
    "pycharm": {
     "name": "#%% md\n"
    }
   }
  },
  {
   "cell_type": "code",
   "execution_count": 63,
   "outputs": [],
   "source": [
    "import hdbscan\n",
    "\n",
    "# -------------------------\n",
    "# Create the HDBSCAN model\n",
    "# -------------------------\n",
    "hdbscan_model = hdbscan.HDBSCAN(min_cluster_size=5)\n",
    "\n",
    "# -------------------------\n",
    "# Fit the model to the data\n",
    "# -------------------------\n",
    "hdbscan_model.fit(df_original)\n",
    "\n",
    "# --------------------------------------------------\n",
    "# Get the labels and number of clusters\n",
    "# --------------------------------------------------\n",
    "labels = hdbscan_model.labels_\n",
    "n_clusters = len(set(labels)) - (1 if -1 in labels else 0)"
   ],
   "metadata": {
    "collapsed": false,
    "pycharm": {
     "name": "#%%\n"
    }
   }
  },
  {
   "cell_type": "markdown",
   "source": [
    "### Draw 10 images. There are many clusters but only draw 10 clusters."
   ],
   "metadata": {
    "collapsed": false,
    "pycharm": {
     "name": "#%% md\n"
    }
   }
  },
  {
   "cell_type": "code",
   "execution_count": 64,
   "outputs": [
    {
     "name": "stdout",
     "output_type": "stream",
     "text": [
      "There are 106 clusters.\n"
     ]
    },
    {
     "data": {
      "text/plain": "<Figure size 800x300 with 10 Axes>",
      "image/png": "[encoded data removed]"
     },
     "metadata": {},
     "output_type": "display_data"
    }
   ],
   "source": [
    " # ---------------------------------------------------------------------------------------\n",
    "# reshape method with the argument -1 indicates that the size of the first dimension\n",
    "# be automatically determined based on the size of the other dimensions.\n",
    "# Reshape feature data into 28x28 images\n",
    "# Then plot the centroids of each cluster\n",
    "fig, axs = plt.subplots(2, 5, figsize=(8, 3))\n",
    "shown = set()\n",
    "i = 0\n",
    "while len(shown) < 10 and i < labels.shape[0]:\n",
    "    if labels[i] in shown and i < labels.shape[0] - 10:\n",
    "        i += 1\n",
    "        continue\n",
    "    images = np.array(df_original.iloc[i, :]).reshape(28, 28)\n",
    "    row, col = len(shown) // 5, len(shown) % 5\n",
    "    axs[row, col].imshow(images, cmap=\"gray\")\n",
    "    axs[row, col].axis(\"off\")\n",
    "    axs[row, col].set_title(labels_original[i])\n",
    "    shown.add(labels[i])\n",
    "    i += 1\n",
    "\n",
    "print(f'There are {n_clusters} clusters.')\n",
    "plt.show()"
   ],
   "metadata": {
    "collapsed": false,
    "pycharm": {
     "name": "#%%\n"
    }
   }
  },
  {
   "cell_type": "markdown",
   "source": [
    "### Uniform Noise\n"
   ],
   "metadata": {
    "collapsed": false,
    "pycharm": {
     "name": "#%% md\n"
    }
   }
  },
  {
   "cell_type": "markdown",
   "source": [
    "### K Means"
   ],
   "metadata": {
    "collapsed": false,
    "pycharm": {
     "name": "#%% md\n"
    }
   }
  },
  {
   "cell_type": "code",
   "execution_count": 87,
   "outputs": [
    {
     "name": "stderr",
     "output_type": "stream",
     "text": [
      "/Users/ZongyuWu/miniforge3/lib/python3.10/site-packages/sklearn/cluster/_kmeans.py:870: FutureWarning: The default value of `n_init` will change from 10 to 'auto' in 1.4. Set the value of `n_init` explicitly to suppress the warning\n",
      "  warnings.warn(\n"
     ]
    }
   ],
   "source": [
    "from sklearn.cluster import KMeans\n",
    "\n",
    "# ----------------------------------------\n",
    "# Create KMeans object with # clusters of your choice\n",
    "# ----------------------------------------\n",
    "kmeans = KMeans(n_clusters=10, random_state=100)\n",
    "\n",
    "# ----------------------------------------\n",
    "# Fit KMeans model to the data\n",
    "# ----------------------------------------\n",
    "kmeans.fit(df_noisy_uniform)\n",
    "\n",
    "# ----------------------------------------\n",
    "# Get the cluster labels and centroids\n",
    "# ----------------------------------------\n",
    "labels = kmeans.labels_\n",
    "centroids = kmeans.cluster_centers_\n"
   ],
   "metadata": {
    "collapsed": false,
    "pycharm": {
     "name": "#%%\n"
    }
   }
  },
  {
   "cell_type": "markdown",
   "source": [
    "### Draw 10 image from each cluster"
   ],
   "metadata": {
    "collapsed": false,
    "pycharm": {
     "name": "#%% md\n"
    }
   }
  },
  {
   "cell_type": "code",
   "execution_count": 88,
   "outputs": [
    {
     "data": {
      "text/plain": "<Figure size 800x300 with 10 Axes>",
      "image/png": "[encoded data removed]"
     },
     "metadata": {},
     "output_type": "display_data"
    }
   ],
   "source": [
    "# ---------------------------------------------------------------------------------------\n",
    "# reshape method with the argument -1 indicates that the size of the first dimension\n",
    "# be automatically determined based on the size of the other dimensions.\n",
    "# Reshape feature data into 28x28 images\n",
    "# Then plot the centroids of each cluster\n",
    "fig, axs = plt.subplots(2, 5, figsize=(8, 3))\n",
    "shown = set()\n",
    "i = 0\n",
    "while len(shown) < 10 and i < labels.shape[0]:\n",
    "    if labels[i] in shown:\n",
    "        i += 1\n",
    "        continue\n",
    "    images = np.array(df_noisy_uniform.iloc[i, :]).reshape(28, 28)\n",
    "    row, col = len(shown) // 5, len(shown) % 5\n",
    "    axs[row, col].imshow(images, cmap=\"gray\")\n",
    "    axs[row, col].axis(\"off\")\n",
    "    axs[row, col].set_title(labels_original[i])\n",
    "    shown.add(labels[i])\n",
    "    i += 1\n",
    "\n",
    "plt.show()"
   ],
   "metadata": {
    "collapsed": false,
    "pycharm": {
     "name": "#%%\n"
    }
   }
  },
  {
   "cell_type": "markdown",
   "source": [
    "### Mini Batch K Means"
   ],
   "metadata": {
    "collapsed": false,
    "pycharm": {
     "name": "#%% md\n"
    }
   }
  },
  {
   "cell_type": "code",
   "execution_count": 89,
   "outputs": [
    {
     "name": "stderr",
     "output_type": "stream",
     "text": [
      "/Users/ZongyuWu/miniforge3/lib/python3.10/site-packages/sklearn/cluster/_kmeans.py:870: FutureWarning: The default value of `n_init` will change from 3 to 'auto' in 1.4. Set the value of `n_init` explicitly to suppress the warning\n",
      "  warnings.warn(\n"
     ]
    }
   ],
   "source": [
    "from sklearn.cluster import MiniBatchKMeans\n",
    "\n",
    "# -----------------------------------------------------------------------------\n",
    "# Create MiniBatchKMeans object with 3 clusters and a batch size of 10\n",
    "# -----------------------------------------------------------------------------\n",
    "mbkmeans = MiniBatchKMeans(n_clusters=10, batch_size=10, random_state=100)\n",
    "\n",
    "# -----------------------------------------------------------------------------\n",
    "# Fit MiniBatchKMeans model to the data\n",
    "# -----------------------------------------------------------------------------\n",
    "mbkmeans.fit(df_noisy_uniform)\n",
    "\n",
    "# -----------------------------------------------------------------------------\n",
    "# Get the cluster labels and centroids\n",
    "# -----------------------------------------------------------------------------\n",
    "labels = mbkmeans.labels_\n",
    "centroids = mbkmeans.cluster_centers_"
   ],
   "metadata": {
    "collapsed": false,
    "pycharm": {
     "name": "#%%\n"
    }
   }
  },
  {
   "cell_type": "markdown",
   "source": [
    "### Draw 10 image from each cluster"
   ],
   "metadata": {
    "collapsed": false,
    "pycharm": {
     "name": "#%% md\n"
    }
   }
  },
  {
   "cell_type": "code",
   "execution_count": 90,
   "outputs": [
    {
     "data": {
      "text/plain": "<Figure size 800x300 with 10 Axes>",
      "image/png": "[encoded data removed]"
     },
     "metadata": {},
     "output_type": "display_data"
    }
   ],
   "source": [
    " # ---------------------------------------------------------------------------------------\n",
    "# reshape method with the argument -1 indicates that the size of the first dimension\n",
    "# be automatically determined based on the size of the other dimensions.\n",
    "# Reshape feature data into 28x28 images\n",
    "# Then plot the centroids of each cluster\n",
    "fig, axs = plt.subplots(2, 5, figsize=(8, 3))\n",
    "shown = set()\n",
    "i = 0\n",
    "while len(shown) < 10 and i < labels.shape[0]:\n",
    "    if labels[i] in shown:\n",
    "        i += 1\n",
    "        continue\n",
    "    images = np.array(df_noisy_uniform.iloc[i, :]).reshape(28, 28)\n",
    "    row, col = len(shown) // 5, len(shown) % 5\n",
    "    axs[row, col].imshow(images, cmap=\"gray\")\n",
    "    axs[row, col].axis(\"off\")\n",
    "    axs[row, col].set_title(labels_original[i])\n",
    "    shown.add(labels[i])\n",
    "    i += 1\n",
    "\n",
    "plt.show()"
   ],
   "metadata": {
    "collapsed": false,
    "pycharm": {
     "name": "#%%\n"
    }
   }
  },
  {
   "cell_type": "markdown",
   "source": [
    "### DBSCAN"
   ],
   "metadata": {
    "collapsed": false,
    "pycharm": {
     "name": "#%% md\n"
    }
   }
  },
  {
   "cell_type": "code",
   "execution_count": null,
   "outputs": [],
   "source": [
    "from sklearn.cluster import DBSCAN\n",
    "\n",
    "# -----------------------------------\n",
    "# Create the DBSCAN model\n",
    "# -----------------------------------\n",
    "dbscan = DBSCAN(eps=2, min_samples=15)\n",
    "\n",
    "# Fit the model to the data\n",
    "dbscan.fit(df_noisy_uniform)\n",
    "\n",
    "# Get the labels and number of clusters\n",
    "labels = dbscan.labels_\n",
    "n_clusters = len(set(labels)) - (1 if -1 in labels else 0)"
   ],
   "metadata": {
    "collapsed": false,
    "pycharm": {
     "name": "#%%\n",
     "is_executing": true
    }
   }
  },
  {
   "cell_type": "markdown",
   "source": [
    "### Draw 10 images. There's only one cluster."
   ],
   "metadata": {
    "collapsed": false,
    "pycharm": {
     "name": "#%% md\n"
    }
   }
  },
  {
   "cell_type": "code",
   "execution_count": null,
   "outputs": [],
   "source": [
    " # ---------------------------------------------------------------------------------------\n",
    "# reshape method with the argument -1 indicates that the size of the first dimension\n",
    "# be automatically determined based on the size of the other dimensions.\n",
    "# Reshape feature data into 28x28 images\n",
    "# Then plot the centroids of each cluster\n",
    "fig, axs = plt.subplots(2, 5, figsize=(8, 3))\n",
    "shown = set()\n",
    "i = 0\n",
    "count = 0\n",
    "while len(shown) < 10 and i < labels.shape[0]:\n",
    "    if (labels[i] in shown and i < labels.shape[0] - 10) or count >= 10:\n",
    "        i += 1\n",
    "        continue\n",
    "    images = np.array(df_noisy_uniform.iloc[i, :]).reshape(28, 28)\n",
    "    row, col = count // 5, count % 5\n",
    "    axs[row, col].imshow(images, cmap=\"gray\")\n",
    "    axs[row, col].axis(\"off\")\n",
    "    axs[row, col].set_title(labels_original[i])\n",
    "    shown.add(labels[i])\n",
    "    i += 1\n",
    "    count += 1\n",
    "\n",
    "print(f'There are {n_clusters} clusters.')\n",
    "plt.show()"
   ],
   "metadata": {
    "collapsed": false,
    "pycharm": {
     "name": "#%%\n",
     "is_executing": true
    }
   }
  },
  {
   "cell_type": "markdown",
   "source": [
    "### HDBSCAN"
   ],
   "metadata": {
    "collapsed": false,
    "pycharm": {
     "name": "#%% md\n"
    }
   }
  },
  {
   "cell_type": "code",
   "execution_count": null,
   "outputs": [],
   "source": [
    "import hdbscan\n",
    "\n",
    "# -------------------------\n",
    "# Create the HDBSCAN model\n",
    "# -------------------------\n",
    "hdbscan_model = hdbscan.HDBSCAN(min_cluster_size=5)\n",
    "\n",
    "# -------------------------\n",
    "# Fit the model to the data\n",
    "# -------------------------\n",
    "hdbscan_model.fit(df_noisy_uniform)\n",
    "\n",
    "# --------------------------------------------------\n",
    "# Get the labels and number of clusters\n",
    "# --------------------------------------------------\n",
    "labels = hdbscan_model.labels_\n",
    "n_clusters = len(set(labels)) - (1 if -1 in labels else 0)"
   ],
   "metadata": {
    "collapsed": false,
    "pycharm": {
     "name": "#%%\n",
     "is_executing": true
    }
   }
  },
  {
   "cell_type": "markdown",
   "source": [
    "### Draw 10 images. There are many clusters but only draw 10 clusters."
   ],
   "metadata": {
    "collapsed": false,
    "pycharm": {
     "name": "#%% md\n"
    }
   }
  },
  {
   "cell_type": "code",
   "execution_count": null,
   "outputs": [],
   "source": [
    "from matplotlib import pyplot as plt\n",
    " # ---------------------------------------------------------------------------------------\n",
    "# reshape method with the argument -1 indicates that the size of the first dimension\n",
    "# be automatically determined based on the size of the other dimensions.\n",
    "# Reshape feature data into 28x28 images\n",
    "# Then plot the centroids of each cluster\n",
    "fig, axs = plt.subplots(2, 5, figsize=(8, 3))\n",
    "shown = set()\n",
    "i = 0\n",
    "count = 0\n",
    "while len(shown) < 10 and i < labels.shape[0]:\n",
    "    if (labels[i] in shown and i < labels.shape[0] - 10) or count >= 10:\n",
    "        i += 1\n",
    "        continue\n",
    "    images = np.array(df_noisy_uniform.iloc[i, :]).reshape(28, 28)\n",
    "    row, col = len(shown) // 5, len(shown) % 5\n",
    "    axs[row, col].imshow(images, cmap=\"gray\")\n",
    "    axs[row, col].axis(\"off\")\n",
    "    axs[row, col].set_title(labels_original[i])\n",
    "    shown.add(labels[i])\n",
    "    i += 1\n",
    "    count += 1\n",
    "\n",
    "print(f'There are {n_clusters} clusters.')\n",
    "plt.show()"
   ],
   "metadata": {
    "collapsed": false,
    "pycharm": {
     "name": "#%%\n",
     "is_executing": true
    }
   }
  },
  {
   "cell_type": "markdown",
   "source": [
    "## Conclusion\n",
    "\n",
    "K Means and Mini Batch K Means is fast on training. They tend to loss some cluster like 8 or 4. DBSCAN and HDBSCAN are slower than the first two methods. DBSCAN has only one cluster in the end, while HDBSCAN has many clusters in the end."
   ],
   "metadata": {
    "collapsed": false,
    "pycharm": {
     "name": "#%% md\n"
    }
   }
  },
  {
   "cell_type": "code",
   "execution_count": null,
   "outputs": [],
   "source": [],
   "metadata": {
    "collapsed": false,
    "pycharm": {
     "name": "#%%\n"
    }
   }
  }
 ],
 "metadata": {
  "kernelspec": {
   "display_name": "Python 3",
   "language": "python",
   "name": "python3"
  },
  "language_info": {
   "codemirror_mode": {
    "name": "ipython",
    "version": 2
   },
   "file_extension": ".py",
   "mimetype": "text/x-python",
   "name": "python",
   "nbconvert_exporter": "python",
   "pygments_lexer": "ipython2",
   "version": "2.7.6"
  }
 },
 "nbformat": 4,
 "nbformat_minor": 0
}